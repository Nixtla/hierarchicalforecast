{
 "cells": [
  {
   "cell_type": "markdown",
   "id": "9a2ffba7",
   "metadata": {},
   "source": [
    "# • End to End Walkthrough\n",
    "\n",
    "> Hierarchical Forecast's reconciliation and evaluation."
   ]
  },
  {
   "cell_type": "markdown",
   "id": "3ebf6eb9",
   "metadata": {},
   "source": [
    "This notebook offers a step to step guide to create a hierarchical forecasting pipeline.\n",
    "\n",
    "In the pipeline we will use `HierarchicalForecast` and `StatsForecast` core class, to create base predictions, reconcile and evaluate them. \n",
    "\n",
    "We will use the TourismL dataset that summarizes large Australian national visitor survey.\n",
    "\n",
    "Outline\n",
    "1. Installing Packages\n",
    "2. Prepare TourismL dataset\n",
    "    - Read and aggregate\n",
    "    - StatsForecast's Base Predictions\n",
    "3. Reconciliar\n",
    "4. Evaluar"
   ]
  },
  {
   "cell_type": "markdown",
   "id": "d08fca30",
   "metadata": {},
   "source": [
    "<a href=\"https://colab.research.google.com/github/Nixtla/hierarchicalforecast/blob/main/nbs/examples/TourismLarge-Evaluation.ipynb\" target=\"_parent\"><img src=\"https://colab.research.google.com/assets/colab-badge.svg\" alt=\"Open In Colab\"/></a>"
   ]
  },
  {
   "cell_type": "markdown",
   "id": "690aea05",
   "metadata": {},
   "source": [
    "## 1. Installing HierarchicalForecast"
   ]
  },
  {
   "cell_type": "code",
   "execution_count": null,
   "id": "225fd9fe",
   "metadata": {},
   "outputs": [],
   "source": [
    "# %%capture\n",
    "# !pip install hierarchicalforecast\n",
    "# !pip install -U numba statsforecast datasetsforecast"
   ]
  },
  {
   "cell_type": "code",
   "execution_count": null,
   "id": "1624c79f",
   "metadata": {},
   "outputs": [],
   "source": [
    "import os\n",
    "import numpy as np\n",
    "import pandas as pd\n",
    "\n",
    "from datasetsforecast.hierarchical import HierarchicalData\n",
    "\n",
    "from statsforecast.core import StatsForecast\n",
    "from statsforecast.models import AutoARIMA, Naive\n",
    "\n",
    "from hierarchicalforecast.utils import HierarchicalPlot\n",
    "from hierarchicalforecast.core import HierarchicalReconciliation\n",
    "from hierarchicalforecast.evaluation import HierarchicalEvaluation\n",
    "from hierarchicalforecast.methods import BottomUp, MinTrace, ERM"
   ]
  },
  {
   "cell_type": "markdown",
   "id": "58961ccd",
   "metadata": {},
   "source": [
    "## 2. Preparing TourismL Dataset"
   ]
  },
  {
   "cell_type": "markdown",
   "id": "8d002ec0",
   "metadata": {},
   "source": [
    "### 2.1 Read and Aggregate"
   ]
  },
  {
   "cell_type": "code",
   "execution_count": null,
   "id": "0045589f",
   "metadata": {},
   "outputs": [],
   "source": [
    "Y_df, S_df, tags = HierarchicalData.load('./data', 'TourismLarge')\n",
    "Y_df['ds'] = pd.to_datetime(Y_df['ds'])"
   ]
  },
  {
   "cell_type": "code",
   "execution_count": null,
   "id": "3958dc40",
   "metadata": {},
   "outputs": [],
   "source": [
    "hplot = HierarchicalPlot(S=S_df, tags=tags)\n",
    "hplot.plot_summing_matrix()"
   ]
  },
  {
   "cell_type": "code",
   "execution_count": null,
   "id": "da22dd3c",
   "metadata": {},
   "outputs": [],
   "source": [
    "Y_test_df = Y_df.groupby('unique_id').tail(12)\n",
    "Y_train_df = Y_df.drop(Y_test_df.index)\n",
    "\n",
    "Y_test_df = Y_test_df.set_index('unique_id')\n",
    "Y_train_df = Y_train_df.set_index('unique_id')"
   ]
  },
  {
   "cell_type": "code",
   "execution_count": null,
   "id": "c56af1d9",
   "metadata": {},
   "outputs": [],
   "source": [
    "Y_train_df"
   ]
  },
  {
   "cell_type": "markdown",
   "id": "98fec0eb",
   "metadata": {},
   "source": [
    "### 2.2 StatsForecast's Base Predictions"
   ]
  },
  {
   "cell_type": "code",
   "execution_count": null,
   "id": "76df4d31",
   "metadata": {},
   "outputs": [],
   "source": [
    "%%capture\n",
    "if os.path.isfile('Y_hat.csv'):\n",
    "    Y_hat_df = pd.read_csv('Y_hat.csv')\n",
    "    Y_hat_df = Y_hat_df.set_index('unique_id')\n",
    "else:\n",
    "    fcst = StatsForecast(\n",
    "        df=Y_train_df, \n",
    "        models=[AutoARIMA(season_length=12)],\n",
    "        fallback_model=[Naive()],\n",
    "        freq='M', \n",
    "        n_jobs=-1\n",
    "    )\n",
    "    Y_hat_df = fcst.forecast(h=12, level=[80])\n",
    "    Y_hat_df.to_csv('Y_hat.csv', index=False)"
   ]
  },
  {
   "cell_type": "code",
   "execution_count": null,
   "id": "740a5ea8",
   "metadata": {},
   "outputs": [],
   "source": [
    "Y_hat_df"
   ]
  },
  {
   "cell_type": "markdown",
   "id": "e557adc7",
   "metadata": {},
   "source": [
    "## 3. Reconciliate Predictions"
   ]
  },
  {
   "cell_type": "code",
   "execution_count": null,
   "id": "e1982db8",
   "metadata": {},
   "outputs": [],
   "source": [
    "# reconcilers = [\n",
    "#     BottomUp(),\n",
    "#     MinTrace(method='ols'),\n",
    "#     ERM(method='reg_bu', lambda_reg=100)\n",
    "# ]\n",
    "# hrec = HierarchicalReconciliation(reconcilers=reconcilers)\n",
    "# Y_rec_df = hrec.reconcile(Y_hat_df=Y_hat_df, Y_df=Y_train_df, \n",
    "#                           S=S_df, tags=tags)"
   ]
  },
  {
   "cell_type": "markdown",
   "id": "7109676b",
   "metadata": {},
   "source": [
    "## 4. Evaluation"
   ]
  },
  {
   "cell_type": "markdown",
   "id": "a524e1c2",
   "metadata": {},
   "source": [
    "For reference we can check the performance when compared to that reported by previous hierarchical forecasting studies from the [PMM-CNN paper](https://arxiv.org/abs/2110.13179)."
   ]
  },
  {
   "cell_type": "code",
   "execution_count": null,
   "id": "c0b2c842",
   "metadata": {},
   "outputs": [],
   "source": []
  },
  {
   "cell_type": "markdown",
   "id": "0821f68d",
   "metadata": {},
   "source": [
    "## References"
   ]
  },
  {
   "cell_type": "code",
   "execution_count": null,
   "id": "ffa4a749",
   "metadata": {},
   "outputs": [],
   "source": []
  }
 ],
 "metadata": {
  "kernelspec": {
   "display_name": "hierarchicalforecast",
   "language": "python",
   "name": "hierarchicalforecast"
  }
 },
 "nbformat": 4,
 "nbformat_minor": 5
}
