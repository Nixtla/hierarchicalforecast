{
 "cells": [
  {
   "attachments": {},
   "cell_type": "markdown",
   "id": "9a2ffba7",
   "metadata": {},
   "source": [
    "# Probabilistic Forecast Evaluation\n",
    "\n",
    "> Hierarchical Forecast's reconciliation and evaluation."
   ]
  },
  {
   "cell_type": "markdown",
   "id": "3ebf6eb9",
   "metadata": {},
   "source": [
    "This notebook offers a step to step guide to create a hierarchical forecasting pipeline.\n",
    "\n",
    "In the pipeline we will use `HierarchicalForecast` and `StatsForecast` core class, to create base predictions, reconcile and evaluate them. \n",
    "\n",
    "We will use the TourismL dataset that summarizes large Australian national visitor survey.\n",
    "\n",
    "Outline\n",
    "1. Installing Packages\n",
    "2. Prepare TourismL dataset\n",
    "    - Read and aggregate\n",
    "    - StatsForecast's Base Predictions\n",
    "3. Reconciliar\n",
    "4. Evaluar"
   ]
  },
  {
   "cell_type": "markdown",
   "id": "d08fca30",
   "metadata": {},
   "source": [
    "<a href=\"https://colab.research.google.com/github/Nixtla/hierarchicalforecast/blob/main/nbs/examples/TourismLarge-Evaluation.ipynb\" target=\"_parent\"><img src=\"https://colab.research.google.com/assets/colab-badge.svg\" alt=\"Open In Colab\"/></a>"
   ]
  },
  {
   "cell_type": "markdown",
   "id": "690aea05",
   "metadata": {},
   "source": [
    "## 1. Installing HierarchicalForecast\n",
    "\n",
    "We assume you have StatsForecast and HierarchicalForecast already installed, if not \n",
    "check this guide for instructions on how to install HierarchicalForecast."
   ]
  },
  {
   "cell_type": "code",
   "execution_count": null,
   "id": "225fd9fe",
   "metadata": {},
   "outputs": [],
   "source": [
    "%%capture\n",
    "!pip install hierarchicalforecast statsforecast datasetsforecast"
   ]
  },
  {
   "cell_type": "code",
   "execution_count": null,
   "id": "1624c79f",
   "metadata": {},
   "outputs": [],
   "source": [
    "import os\n",
    "import numpy as np\n",
    "import pandas as pd\n",
    "import matplotlib.pyplot as plt\n",
    "\n",
    "from statsforecast.core import StatsForecast\n",
    "from statsforecast.models import AutoARIMA, Naive\n",
    "\n",
    "from hierarchicalforecast.core import HierarchicalReconciliation\n",
    "from hierarchicalforecast.methods import BottomUp, TopDown, MinTrace, ERM\n",
    "\n",
    "from hierarchicalforecast.utils import is_strictly_hierarchical\n",
    "from hierarchicalforecast.utils import HierarchicalPlot, CodeTimer\n",
    "\n",
    "from datasetsforecast.hierarchical import HierarchicalData, HierarchicalInfo"
   ]
  },
  {
   "cell_type": "markdown",
   "id": "58961ccd",
   "metadata": {},
   "source": [
    "## 2. Preparing TourismL Dataset"
   ]
  },
  {
   "cell_type": "markdown",
   "id": "8d002ec0",
   "metadata": {},
   "source": [
    "### 2.1 Read Hierarchical Dataset"
   ]
  },
  {
   "cell_type": "code",
   "execution_count": null,
   "id": "e107596b",
   "metadata": {},
   "outputs": [],
   "source": [
    "# ['Labour', 'Traffic', 'TourismSmall', 'TourismLarge', 'Wiki2']\n",
    "dataset = 'TourismSmall' # 'TourismLarge'\n",
    "verbose = True\n",
    "intervals_method = 'bootstrap'\n",
    "LEVEL = np.arange(0, 100, 2)"
   ]
  },
  {
   "cell_type": "code",
   "execution_count": null,
   "id": "0045589f",
   "metadata": {},
   "outputs": [
    {
     "name": "stdout",
     "output_type": "stream",
     "text": [
      "TourismSmall\n",
      "Code block 'Read and Parse data   ' took:\t0.00653 seconds\n"
     ]
    }
   ],
   "source": [
    "with CodeTimer('Read and Parse data   ', verbose):\n",
    "    print(f'{dataset}')\n",
    "    if not os.path.exists('./data'):\n",
    "        os.makedirs('./data')\n",
    "    \n",
    "    dataset_info = HierarchicalInfo[dataset]\n",
    "    Y_df, S_df, tags = HierarchicalData.load(directory=f'./data/{dataset}', group=dataset)\n",
    "    Y_df['ds'] = pd.to_datetime(Y_df['ds'])\n",
    "\n",
    "    # Train/Test Splits\n",
    "    horizon = dataset_info.horizon\n",
    "    seasonality = dataset_info.seasonality\n",
    "    Y_test_df = Y_df.groupby('unique_id', as_index=False).tail(horizon)\n",
    "    Y_train_df = Y_df.drop(Y_test_df.index)\n",
    "    S_df = S_df.reset_index(names=\"unique_id\")"
   ]
  },
  {
   "cell_type": "code",
   "execution_count": null,
   "id": "ec911cb5",
   "metadata": {},
   "outputs": [
    {
     "data": {
      "text/plain": [
       "4"
      ]
     },
     "execution_count": null,
     "metadata": {},
     "output_type": "execute_result"
    }
   ],
   "source": [
    "dataset_info.seasonality"
   ]
  },
  {
   "cell_type": "code",
   "execution_count": null,
   "id": "3958dc40",
   "metadata": {},
   "outputs": [
    {
     "data": {
      "image/png": "[encoded data removed]",
      "text/plain": [
       "<Figure size 320x480 with 1 Axes>"
      ]
     },
     "metadata": {},
     "output_type": "display_data"
    }
   ],
   "source": [
    "hplot = HierarchicalPlot(S=S_df, tags=tags)\n",
    "hplot.plot_summing_matrix()"
   ]
  },
  {
   "cell_type": "code",
   "execution_count": null,
   "id": "c56af1d9",
   "metadata": {},
   "outputs": [
    {
     "data": {
      "text/html": [
       "<div>\n",
       "<style scoped>\n",
       "    .dataframe tbody tr th:only-of-type {\n",
       "        vertical-align: middle;\n",
       "    }\n",
       "\n",
       "    .dataframe tbody tr th {\n",
       "        vertical-align: top;\n",
       "    }\n",
       "\n",
       "    .dataframe thead th {\n",
       "        text-align: right;\n",
       "    }\n",
       "</style>\n",
       "<table border=\"1\" class=\"dataframe\">\n",
       "  <thead>\n",
       "    <tr style=\"text-align: right;\">\n",
       "      <th></th>\n",
       "      <th>unique_id</th>\n",
       "      <th>ds</th>\n",
       "      <th>y</th>\n",
       "    </tr>\n",
       "  </thead>\n",
       "  <tbody>\n",
       "    <tr>\n",
       "      <th>0</th>\n",
       "      <td>total</td>\n",
       "      <td>1998-03-31</td>\n",
       "      <td>84503</td>\n",
       "    </tr>\n",
       "    <tr>\n",
       "      <th>1</th>\n",
       "      <td>total</td>\n",
       "      <td>1998-06-30</td>\n",
       "      <td>65312</td>\n",
       "    </tr>\n",
       "    <tr>\n",
       "      <th>2</th>\n",
       "      <td>total</td>\n",
       "      <td>1998-09-30</td>\n",
       "      <td>72753</td>\n",
       "    </tr>\n",
       "    <tr>\n",
       "      <th>3</th>\n",
       "      <td>total</td>\n",
       "      <td>1998-12-31</td>\n",
       "      <td>70880</td>\n",
       "    </tr>\n",
       "    <tr>\n",
       "      <th>4</th>\n",
       "      <td>total</td>\n",
       "      <td>1999-03-31</td>\n",
       "      <td>86893</td>\n",
       "    </tr>\n",
       "    <tr>\n",
       "      <th>...</th>\n",
       "      <td>...</td>\n",
       "      <td>...</td>\n",
       "      <td>...</td>\n",
       "    </tr>\n",
       "    <tr>\n",
       "      <th>3191</th>\n",
       "      <td>nt-oth-noncity</td>\n",
       "      <td>2003-12-31</td>\n",
       "      <td>132</td>\n",
       "    </tr>\n",
       "    <tr>\n",
       "      <th>3192</th>\n",
       "      <td>nt-oth-noncity</td>\n",
       "      <td>2004-03-31</td>\n",
       "      <td>12</td>\n",
       "    </tr>\n",
       "    <tr>\n",
       "      <th>3193</th>\n",
       "      <td>nt-oth-noncity</td>\n",
       "      <td>2004-06-30</td>\n",
       "      <td>40</td>\n",
       "    </tr>\n",
       "    <tr>\n",
       "      <th>3194</th>\n",
       "      <td>nt-oth-noncity</td>\n",
       "      <td>2004-09-30</td>\n",
       "      <td>186</td>\n",
       "    </tr>\n",
       "    <tr>\n",
       "      <th>3195</th>\n",
       "      <td>nt-oth-noncity</td>\n",
       "      <td>2004-12-31</td>\n",
       "      <td>144</td>\n",
       "    </tr>\n",
       "  </tbody>\n",
       "</table>\n",
       "<p>2492 rows × 3 columns</p>\n",
       "</div>"
      ],
      "text/plain": [
       "           unique_id         ds      y\n",
       "0              total 1998-03-31  84503\n",
       "1              total 1998-06-30  65312\n",
       "2              total 1998-09-30  72753\n",
       "3              total 1998-12-31  70880\n",
       "4              total 1999-03-31  86893\n",
       "...              ...        ...    ...\n",
       "3191  nt-oth-noncity 2003-12-31    132\n",
       "3192  nt-oth-noncity 2004-03-31     12\n",
       "3193  nt-oth-noncity 2004-06-30     40\n",
       "3194  nt-oth-noncity 2004-09-30    186\n",
       "3195  nt-oth-noncity 2004-12-31    144\n",
       "\n",
       "[2492 rows x 3 columns]"
      ]
     },
     "execution_count": null,
     "metadata": {},
     "output_type": "execute_result"
    }
   ],
   "source": [
    "Y_train_df"
   ]
  },
  {
   "cell_type": "markdown",
   "id": "98fec0eb",
   "metadata": {},
   "source": [
    "### 2.2 StatsForecast's Base Predictions\n",
    "\n",
    "This cell computes the base predictions `Y_hat_df` for all the series in `Y_df` using StatsForecast's `AutoARIMA`.\n",
    "Additionally we obtain insample predictions `Y_fitted_df` for the methods that require them."
   ]
  },
  {
   "cell_type": "code",
   "execution_count": null,
   "id": "76df4d31",
   "metadata": {},
   "outputs": [],
   "source": [
    "%%capture\n",
    "with CodeTimer('Fit/Predict Model     ', verbose):\n",
    "    # Read to avoid unnecesary AutoARIMA computation\n",
    "    yhat_file = f'./data/{dataset}/Y_hat.csv'\n",
    "    yfitted_file = f'./data/{dataset}/Y_fitted.csv'\n",
    "\n",
    "    if os.path.exists(yhat_file):\n",
    "        Y_hat_df = pd.read_csv(yhat_file, parse_dates=['ds'])\n",
    "        Y_fitted_df = pd.read_csv(yfitted_file, parse_dates=['ds'])\n",
    "\n",
    "    else:\n",
    "        fcst = StatsForecast(\n",
    "            models=[AutoARIMA(season_length=seasonality)],\n",
    "            fallback_model=[Naive()],\n",
    "            freq=dataset_info.freq, \n",
    "            n_jobs=-1\n",
    "        )\n",
    "        Y_hat_df = fcst.forecast(df=Y_train_df, h=horizon, fitted=True, level=LEVEL)\n",
    "        Y_fitted_df = fcst.forecast_fitted_values()\n",
    "        Y_hat_df.to_csv(yhat_file, index=False)\n",
    "        Y_fitted_df.to_csv(yfitted_file, index=False)"
   ]
  },
  {
   "cell_type": "markdown",
   "id": "e557adc7",
   "metadata": {},
   "source": [
    "## 3. Reconcile Predictions"
   ]
  },
  {
   "cell_type": "code",
   "execution_count": null,
   "id": "e1982db8",
   "metadata": {},
   "outputs": [
    {
     "name": "stdout",
     "output_type": "stream",
     "text": [
      "Code block 'Reconcile Predictions ' took:\t7.49314 seconds\n"
     ]
    }
   ],
   "source": [
    "with CodeTimer('Reconcile Predictions ', verbose):\n",
    "    if is_strictly_hierarchical(S=S_df.drop(columns=\"unique_id\").values.astype(np.float32), tags={key: S_df[\"unique_id\"].isin(val).values.nonzero()[0] for key, val in tags.items()}):\n",
    "        reconcilers = [\n",
    "            BottomUp(),\n",
    "            TopDown(method='average_proportions'),\n",
    "            TopDown(method='proportion_averages'),\n",
    "            MinTrace(method='ols'),\n",
    "            MinTrace(method='wls_var'),\n",
    "            MinTrace(method='mint_shrink'),\n",
    "            ERM(method='closed'),\n",
    "        ]\n",
    "    else:\n",
    "        reconcilers = [\n",
    "            BottomUp(),\n",
    "            MinTrace(method='ols'),\n",
    "            MinTrace(method='wls_var'),\n",
    "            MinTrace(method='mint_shrink'),\n",
    "            ERM(method='closed'),\n",
    "        ]\n",
    "    \n",
    "    hrec = HierarchicalReconciliation(reconcilers=reconcilers)\n",
    "    Y_rec_df = hrec.bootstrap_reconcile(Y_hat_df=Y_hat_df,\n",
    "                                        Y_df=Y_fitted_df,\n",
    "                                        S_df=S_df, tags=tags,\n",
    "                                        level=LEVEL,\n",
    "                                        intervals_method=intervals_method,\n",
    "                                        num_samples=10, \n",
    "                                        num_seeds=10)\n",
    "    \n",
    "    Y_rec_df = Y_rec_df.merge(Y_test_df, on=['unique_id', 'ds'], how=\"left\")"
   ]
  },
  {
   "cell_type": "markdown",
   "id": "893a7544",
   "metadata": {},
   "source": [
    "Qualitative evaluation, of parsed quantiles\n"
   ]
  },
  {
   "cell_type": "code",
   "execution_count": null,
   "id": "46702fee",
   "metadata": {},
   "outputs": [
    {
     "data": {
      "text/plain": [
       "<matplotlib.legend.Legend>"
      ]
     },
     "execution_count": null,
     "metadata": {},
     "output_type": "execute_result"
    },
    {
     "data": {
      "image/png": "[encoded data removed]",
      "text/plain": [
       "<Figure size 640x480 with 1 Axes>"
      ]
     },
     "metadata": {},
     "output_type": "display_data"
    }
   ],
   "source": [
    "unique_id = \"total\"\n",
    "plot_df = Y_rec_df.query(\"unique_id == @unique_id\").groupby([\"unique_id\", \"ds\"], as_index=False).mean()\n",
    "for col in hrec.level_names['AutoARIMA/BottomUp']:\n",
    "    plt.plot(plot_df[\"ds\"], plot_df[col], color=\"orange\")\n",
    "plt.plot(plot_df[\"ds\"], plot_df[\"y\"], label=\"True\")\n",
    "plt.title(f\"AutoARIMA/BottomUp - {unique_id}\")\n",
    "plt.legend()"
   ]
  },
  {
   "cell_type": "markdown",
   "id": "7109676b",
   "metadata": {},
   "source": [
    "## 4. Evaluation"
   ]
  },
  {
   "cell_type": "code",
   "execution_count": null,
   "id": "7212b919",
   "metadata": {},
   "outputs": [],
   "source": [
    "from utilsforecast.losses import scaled_crps, msse\n",
    "from hierarchicalforecast.evaluation import evaluate\n",
    "from functools import partial"
   ]
  },
  {
   "cell_type": "code",
   "execution_count": null,
   "id": "39986115",
   "metadata": {},
   "outputs": [
    {
     "name": "stdout",
     "output_type": "stream",
     "text": [
      "Code block 'Evaluate Models CRPS and MSSE ' took:\t4.25192 seconds\n"
     ]
    },
    {
     "data": {
      "text/html": [
       "<div>\n",
       "<style scoped>\n",
       "    .dataframe tbody tr th:only-of-type {\n",
       "        vertical-align: middle;\n",
       "    }\n",
       "\n",
       "    .dataframe tbody tr th {\n",
       "        vertical-align: top;\n",
       "    }\n",
       "\n",
       "    .dataframe thead th {\n",
       "        text-align: right;\n",
       "    }\n",
       "</style>\n",
       "<table border=\"1\" class=\"dataframe\">\n",
       "  <thead>\n",
       "    <tr style=\"text-align: right;\">\n",
       "      <th></th>\n",
       "      <th>level</th>\n",
       "      <th>metric</th>\n",
       "      <th>AutoARIMA/BottomUp</th>\n",
       "      <th>AutoARIMA/TopDown_method-average_proportions</th>\n",
       "      <th>AutoARIMA/TopDown_method-proportion_averages</th>\n",
       "      <th>AutoARIMA/MinTrace_method-ols</th>\n",
       "      <th>AutoARIMA/MinTrace_method-wls_var</th>\n",
       "      <th>AutoARIMA/MinTrace_method-mint_shrink</th>\n",
       "      <th>AutoARIMA/ERM_method-closed_lambda_reg-0.01</th>\n",
       "    </tr>\n",
       "  </thead>\n",
       "  <tbody>\n",
       "    <tr>\n",
       "      <th>0</th>\n",
       "      <td>Country</td>\n",
       "      <td>msse</td>\n",
       "      <td>1.777±0.0</td>\n",
       "      <td>2.488±0.0</td>\n",
       "      <td>2.488±0.0</td>\n",
       "      <td>2.752±0.0</td>\n",
       "      <td>2.569±0.0</td>\n",
       "      <td>2.775±0.0</td>\n",
       "      <td>3.427±0.0</td>\n",
       "    </tr>\n",
       "    <tr>\n",
       "      <th>2</th>\n",
       "      <td>Country/Purpose</td>\n",
       "      <td>msse</td>\n",
       "      <td>1.726±0.0</td>\n",
       "      <td>3.181±0.0</td>\n",
       "      <td>3.169±0.0</td>\n",
       "      <td>2.184±0.0</td>\n",
       "      <td>1.876±0.0</td>\n",
       "      <td>1.96±0.0</td>\n",
       "      <td>3.067±0.0</td>\n",
       "    </tr>\n",
       "    <tr>\n",
       "      <th>4</th>\n",
       "      <td>Country/Purpose/State</td>\n",
       "      <td>msse</td>\n",
       "      <td>0.881±0.0</td>\n",
       "      <td>1.657±0.0</td>\n",
       "      <td>1.652±0.0</td>\n",
       "      <td>0.98±0.0</td>\n",
       "      <td>0.857±0.0</td>\n",
       "      <td>0.867±0.0</td>\n",
       "      <td>1.559±0.0</td>\n",
       "    </tr>\n",
       "    <tr>\n",
       "      <th>6</th>\n",
       "      <td>Country/Purpose/State/CityNonCity</td>\n",
       "      <td>msse</td>\n",
       "      <td>0.95±0.0</td>\n",
       "      <td>1.271±0.0</td>\n",
       "      <td>1.269±0.0</td>\n",
       "      <td>1.033±0.0</td>\n",
       "      <td>0.903±0.0</td>\n",
       "      <td>0.912±0.0</td>\n",
       "      <td>1.635±0.0</td>\n",
       "    </tr>\n",
       "    <tr>\n",
       "      <th>8</th>\n",
       "      <td>Overall</td>\n",
       "      <td>msse</td>\n",
       "      <td>0.973±0.0</td>\n",
       "      <td>1.492±0.0</td>\n",
       "      <td>1.488±0.0</td>\n",
       "      <td>1.087±0.0</td>\n",
       "      <td>0.951±0.0</td>\n",
       "      <td>0.966±0.0</td>\n",
       "      <td>1.695±0.0</td>\n",
       "    </tr>\n",
       "    <tr>\n",
       "      <th>1</th>\n",
       "      <td>Country</td>\n",
       "      <td>scaled_crps</td>\n",
       "      <td>0.043±0.0009</td>\n",
       "      <td>0.048±0.0006</td>\n",
       "      <td>0.048±0.0006</td>\n",
       "      <td>0.05±0.0006</td>\n",
       "      <td>0.051±0.0006</td>\n",
       "      <td>0.053±0.0006</td>\n",
       "      <td>0.054±0.0009</td>\n",
       "    </tr>\n",
       "    <tr>\n",
       "      <th>3</th>\n",
       "      <td>Country/Purpose</td>\n",
       "      <td>scaled_crps</td>\n",
       "      <td>0.077±0.001</td>\n",
       "      <td>0.114±0.0003</td>\n",
       "      <td>0.112±0.0004</td>\n",
       "      <td>0.09±0.0013</td>\n",
       "      <td>0.087±0.0009</td>\n",
       "      <td>0.089±0.0009</td>\n",
       "      <td>0.106±0.0013</td>\n",
       "    </tr>\n",
       "    <tr>\n",
       "      <th>5</th>\n",
       "      <td>Country/Purpose/State</td>\n",
       "      <td>scaled_crps</td>\n",
       "      <td>0.165±0.0009</td>\n",
       "      <td>0.249±0.0004</td>\n",
       "      <td>0.247±0.0004</td>\n",
       "      <td>0.18±0.0018</td>\n",
       "      <td>0.169±0.0009</td>\n",
       "      <td>0.169±0.0008</td>\n",
       "      <td>0.231±0.0021</td>\n",
       "    </tr>\n",
       "    <tr>\n",
       "      <th>7</th>\n",
       "      <td>Country/Purpose/State/CityNonCity</td>\n",
       "      <td>scaled_crps</td>\n",
       "      <td>0.218±0.0013</td>\n",
       "      <td>0.289±0.0004</td>\n",
       "      <td>0.286±0.0004</td>\n",
       "      <td>0.228±0.0018</td>\n",
       "      <td>0.217±0.0013</td>\n",
       "      <td>0.218±0.0011</td>\n",
       "      <td>0.302±0.0033</td>\n",
       "    </tr>\n",
       "    <tr>\n",
       "      <th>9</th>\n",
       "      <td>Overall</td>\n",
       "      <td>scaled_crps</td>\n",
       "      <td>0.193±0.0011</td>\n",
       "      <td>0.266±0.0004</td>\n",
       "      <td>0.263±0.0004</td>\n",
       "      <td>0.205±0.0017</td>\n",
       "      <td>0.194±0.0011</td>\n",
       "      <td>0.195±0.0009</td>\n",
       "      <td>0.268±0.0027</td>\n",
       "    </tr>\n",
       "  </tbody>\n",
       "</table>\n",
       "</div>"
      ],
      "text/plain": [
       "                               level       metric AutoARIMA/BottomUp  \\\n",
       "0                            Country         msse          1.777±0.0   \n",
       "2                    Country/Purpose         msse          1.726±0.0   \n",
       "4              Country/Purpose/State         msse          0.881±0.0   \n",
       "6  Country/Purpose/State/CityNonCity         msse           0.95±0.0   \n",
       "8                            Overall         msse          0.973±0.0   \n",
       "1                            Country  scaled_crps       0.043±0.0009   \n",
       "3                    Country/Purpose  scaled_crps        0.077±0.001   \n",
       "5              Country/Purpose/State  scaled_crps       0.165±0.0009   \n",
       "7  Country/Purpose/State/CityNonCity  scaled_crps       0.218±0.0013   \n",
       "9                            Overall  scaled_crps       0.193±0.0011   \n",
       "\n",
       "  AutoARIMA/TopDown_method-average_proportions  \\\n",
       "0                                    2.488±0.0   \n",
       "2                                    3.181±0.0   \n",
       "4                                    1.657±0.0   \n",
       "6                                    1.271±0.0   \n",
       "8                                    1.492±0.0   \n",
       "1                                 0.048±0.0006   \n",
       "3                                 0.114±0.0003   \n",
       "5                                 0.249±0.0004   \n",
       "7                                 0.289±0.0004   \n",
       "9                                 0.266±0.0004   \n",
       "\n",
       "  AutoARIMA/TopDown_method-proportion_averages AutoARIMA/MinTrace_method-ols  \\\n",
       "0                                    2.488±0.0                     2.752±0.0   \n",
       "2                                    3.169±0.0                     2.184±0.0   \n",
       "4                                    1.652±0.0                      0.98±0.0   \n",
       "6                                    1.269±0.0                     1.033±0.0   \n",
       "8                                    1.488±0.0                     1.087±0.0   \n",
       "1                                 0.048±0.0006                   0.05±0.0006   \n",
       "3                                 0.112±0.0004                   0.09±0.0013   \n",
       "5                                 0.247±0.0004                   0.18±0.0018   \n",
       "7                                 0.286±0.0004                  0.228±0.0018   \n",
       "9                                 0.263±0.0004                  0.205±0.0017   \n",
       "\n",
       "  AutoARIMA/MinTrace_method-wls_var AutoARIMA/MinTrace_method-mint_shrink  \\\n",
       "0                         2.569±0.0                             2.775±0.0   \n",
       "2                         1.876±0.0                              1.96±0.0   \n",
       "4                         0.857±0.0                             0.867±0.0   \n",
       "6                         0.903±0.0                             0.912±0.0   \n",
       "8                         0.951±0.0                             0.966±0.0   \n",
       "1                      0.051±0.0006                          0.053±0.0006   \n",
       "3                      0.087±0.0009                          0.089±0.0009   \n",
       "5                      0.169±0.0009                          0.169±0.0008   \n",
       "7                      0.217±0.0013                          0.218±0.0011   \n",
       "9                      0.194±0.0011                          0.195±0.0009   \n",
       "\n",
       "  AutoARIMA/ERM_method-closed_lambda_reg-0.01  \n",
       "0                                   3.427±0.0  \n",
       "2                                   3.067±0.0  \n",
       "4                                   1.559±0.0  \n",
       "6                                   1.635±0.0  \n",
       "8                                   1.695±0.0  \n",
       "1                                0.054±0.0009  \n",
       "3                                0.106±0.0013  \n",
       "5                                0.231±0.0021  \n",
       "7                                0.302±0.0033  \n",
       "9                                0.268±0.0027  "
      ]
     },
     "execution_count": null,
     "metadata": {},
     "output_type": "execute_result"
    }
   ],
   "source": [
    "with CodeTimer('Evaluate Models CRPS and MSSE ', verbose):\n",
    "    metrics_seeds = []\n",
    "    for seed in Y_rec_df.seed.unique():\n",
    "        df_seed = Y_rec_df.query(\"seed == @seed\")\n",
    "        metrics_seed = evaluate(df = df_seed,\n",
    "                            tags = tags,\n",
    "                            metrics = [scaled_crps, \n",
    "                                       partial(msse, seasonality=4)],\n",
    "                            models= hrec.level_names.keys(),\n",
    "                            level = LEVEL,\n",
    "                            train_df = Y_train_df,\n",
    "                            )\n",
    "        metrics_seed['seed'] = seed\n",
    "        metrics_seeds.append(metrics_seed)\n",
    "    metrics_seeds = pd.concat(metrics_seeds)\n",
    "\n",
    "    metrics_mean = metrics_seeds.groupby([\"level\", \"metric\"], as_index=False).mean()\n",
    "    metrics_std = metrics_seeds.groupby([\"level\", \"metric\"], as_index=False).std()\n",
    "\n",
    "    results = metrics_mean[hrec.level_names.keys()].round(3).astype(str) + \"±\" + metrics_std[hrec.level_names.keys()].round(4).astype(str)\n",
    "    results.insert(0, \"metric\", metrics_mean[\"metric\"])\n",
    "    results.insert(0, \"level\", metrics_mean[\"level\"])\n",
    "\n",
    "results.sort_values(by=[\"metric\", \"level\"])"
   ]
  },
  {
   "cell_type": "markdown",
   "id": "0821f68d",
   "metadata": {},
   "source": [
    "## References"
   ]
  },
  {
   "cell_type": "markdown",
   "id": "402077e0",
   "metadata": {},
   "source": [
    "- [Syama Sundar Rangapuram, Lucien D Werner, Konstantinos Benidis, Pedro Mercado, Jan Gasthaus, Tim Januschowski. (2021). \n",
    "\\\"End-to-End Learning of Coherent Probabilistic Forecasts for Hierarchical Time Series\\\". \n",
    "Proceedings of the 38th International Conference on Machine Learning (ICML).](https://proceedings.mlr.press/v139/rangapuram21a.html)\n",
    "- [Kin G. Olivares, O. Nganba Meetei, Ruijun Ma, Rohan Reddy, Mengfei Cao, Lee Dicker (2022). \n",
    "\"Probabilistic Hierarchical Forecasting with Deep Poisson Mixtures\". \n",
    "Submitted to the International Journal Forecasting, Working paper available at arxiv.](https://arxiv.org/pdf/2110.13179.pdf)"
   ]
  }
 ],
 "metadata": {
  "kernelspec": {
   "display_name": "python3",
   "language": "python",
   "name": "python3"
  }
 },
 "nbformat": 4,
 "nbformat_minor": 5
}
