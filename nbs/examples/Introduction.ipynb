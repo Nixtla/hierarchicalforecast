{
 "cells": [
  {
   "attachments": {},
   "cell_type": "markdown",
   "metadata": {},
   "source": [
    "# Introduction\n",
    "\n",
    "> Introduction to Hierarchial Forecasting using `HierarchialForecast`"
   ]
  },
  {
   "attachments": {},
   "cell_type": "markdown",
   "metadata": {},
   "source": [
    "You can run these experiments using CPU or GPU with Google Colab.\n",
    "\n",
    "<a href=\"https://colab.research.google.com/github/Nixtla/hierarchicalforecast/blob/main/nbs/examples/Introduction.ipynb\" target=\"_parent\"><img src=\"https://colab.research.google.com/assets/colab-badge.svg\" alt=\"Open In Colab\"/></a>"
   ]
  },
  {
   "cell_type": "markdown",
   "metadata": {},
   "source": [
    "## 1. Hierarchical Series"
   ]
  },
  {
   "cell_type": "markdown",
   "metadata": {},
   "source": [
    "In many applications, a set of time series is hierarchically organized. Examples include the presence of geographic levels, products, or categories that define different types of aggregations. \n",
    "\n",
    "In such scenarios, forecasters are often required to provide predictions for all disaggregate and aggregate series. A natural desire is for those predictions to be **\"coherent\"**, that is, for the bottom series to add up precisely to the forecasts of the aggregated series."
   ]
  },
  {
   "cell_type": "markdown",
   "metadata": {},
   "source": [
    "<img src=\"https://github.com/Nixtla/docs/raw/docs/hierarchicalforecast/examples/imgs/hierarchical_motivation1.png?raw=true\" />"
   ]
  },
  {
   "cell_type": "markdown",
   "metadata": {},
   "source": [
    "The above figure shows a simple hierarchical structure where we have four bottom-level series, two middle-level series, and the top level representing the total aggregation. Its hierarchical aggregations or coherency constraints are:\n",
    "\n",
    "$$y_{\\mathrm{Total},\\tau} = y_{\\beta_{1},\\tau}+y_{\\beta_{2},\\tau}+y_{\\beta_{3},\\tau}+y_{\\beta_{4},\\tau} \n",
    "        \\qquad \\qquad \\qquad \\qquad \\qquad \\\\\n",
    "        \\mathbf{y}_{[a],\\tau}=\\left[y_{\\mathrm{Total},\\tau},\\; y_{\\beta_{1},\\tau}+y_{\\beta_{2},\\tau},\\;y_{\\beta_{3},\\tau}+y_{\\beta_{4},\\tau}\\right]^{\\intercal} \n",
    "        \\qquad\n",
    "        \\mathbf{y}_{[b],\\tau}=\\left[ y_{\\beta_{1},\\tau},\\; y_{\\beta_{2},\\tau},\\; y_{\\beta_{3},\\tau},\\; y_{\\beta_{4},\\tau} \\right]^{\\intercal}$$\n",
    "\n",
    "Luckily these constraints can be compactly expressed with the following matrices:\n",
    "\n",
    "$$\n",
    "\\mathbf{S}_{[a,b][b]}\n",
    "=\n",
    "\\begin{bmatrix}\n",
    "\\mathbf{A}_{\\mathrm{[a][b]}} \\\\ \n",
    "           \\\\\n",
    "           \\\\\n",
    "\\mathbf{I}_{\\mathrm{[b][b]}} \\\\\n",
    "           \\\\\n",
    "\\end{bmatrix}\n",
    "=\n",
    "\\begin{bmatrix}\n",
    "1 & 1 & 1 & 1 \\\\\n",
    "1 & 1 & 0 & 0 \\\\\n",
    "0 & 0 & 1 & 1 \\\\\n",
    "1 & 0 & 0 & 0 \\\\\n",
    "0 & 1 & 0 & 0 \\\\\n",
    "0 & 0 & 1 & 0 \\\\\n",
    "0 & 0 & 0 & 1 \\\\\n",
    "\\end{bmatrix}\n",
    "$$\n",
    "\n",
    "where $\\mathbf{A}_{[a,b][b]}$ aggregates the bottom series to the upper levels, and $\\mathbf{I}_{\\mathrm{[b][b]}}$ is an identity matrix. The representation of the hierarchical series is then:\n",
    "\n",
    "$$\n",
    "\\mathbf{y}_{[a,b],\\tau} = \\mathbf{S}_{[a,b][b]} \\mathbf{y}_{[b],\\tau}\n",
    "$$\n"
   ]
  },
  {
   "cell_type": "markdown",
   "metadata": {},
   "source": [
    "To visualize an example, in Figure 2, one can think of the hierarchical time series structure levels to represent different geographical aggregations. For example, in Figure 2, the top level is the total aggregation of series within a country, the middle level being its states and the bottom level its regions."
   ]
  },
  {
   "cell_type": "markdown",
   "metadata": {},
   "source": [
    "<img src=\"https://github.com/Nixtla/docs/raw/docs/hierarchicalforecast/examples/imgs/hierarchical_motivation2.png?raw=true\" />"
   ]
  },
  {
   "cell_type": "markdown",
   "metadata": {},
   "source": [
    "## 2. Hierarchical Forecast"
   ]
  },
  {
   "cell_type": "markdown",
   "metadata": {},
   "source": [
    "To achieve **\"coherency\"**, most statistical solutions to the hierarchical forecasting challenge implement a two-stage reconciliation process.  \n",
    "1. First, we obtain a set of the base forecast $\\mathbf{\\hat{y}}_{[a,b],\\tau}$\n",
    "\n",
    "2. Later, we reconcile them into coherent forecasts $\\mathbf{\\tilde{y}}_{[a,b],\\tau}$.\n",
    "\n",
    "Most hierarchical reconciliation methods can be expressed by the following transformations:\n",
    "\n",
    "$$\\tilde{\\mathbf{y}}_{[a,b],\\tau} = \\mathbf{S}_{[a,b][b]} \\mathbf{P}_{[b][a,b]} \\hat{\\mathbf{y}}_{[a,b],\\tau}$$"
   ]
  },
  {
   "cell_type": "markdown",
   "metadata": {},
   "source": [
    "The HierarchicalForecast library offers a Python collection of reconciliation methods, datasets, evaluation and visualization tools for the task. Among its available reconciliation methods we have `BottomUp`, `TopDown`, `MiddleOut`, `MinTrace`, `ERM`. Among its probabilistic coherent methods we have `Normality`, `Bootstrap`, `PERMBU`."
   ]
  },
  {
   "cell_type": "markdown",
   "metadata": {},
   "source": [
    "## 3. Minimal Example"
   ]
  },
  {
   "cell_type": "code",
   "execution_count": null,
   "metadata": {},
   "outputs": [],
   "source": [
    "%%capture\n",
    "!pip install hierarchicalforecast statsforecast datasetsforecast"
   ]
  },
  {
   "cell_type": "markdown",
   "metadata": {},
   "source": [
    "### Wrangling Data"
   ]
  },
  {
   "cell_type": "code",
   "execution_count": null,
   "metadata": {},
   "outputs": [],
   "source": [
    "import numpy as np\n",
    "import pandas as pd"
   ]
  },
  {
   "cell_type": "markdown",
   "metadata": {},
   "source": [
    "We are going to creat a synthetic data set to illustrate a hierarchical time series structure like the one in Figure 1.\n",
    "\n",
    "We will create a two level structure with four bottom series where aggregations of the series are self evident."
   ]
  },
  {
   "cell_type": "code",
   "execution_count": null,
   "metadata": {},
   "outputs": [],
   "source": [
    "# Create Figure 1. synthetic bottom data\n",
    "ds = pd.date_range(start='2000-01-01', end='2000-08-01', freq='MS')\n",
    "y_base = np.arange(1,9)\n",
    "r1 = y_base * (10**1)\n",
    "r2 = y_base * (10**1)\n",
    "r3 = y_base * (10**2)\n",
    "r4 = y_base * (10**2)\n",
    "\n",
    "ys = np.concatenate([r1, r2, r3, r4])\n",
    "ds = np.tile(ds, 4)\n",
    "unique_ids = ['r1'] * 8 + ['r2'] * 8 + ['r3'] * 8 + ['r4'] * 8\n",
    "top_level = 'Australia'\n",
    "middle_level = ['State1'] * 16 + ['State2'] * 16\n",
    "bottom_level = unique_ids\n",
    "\n",
    "bottom_df = dict(ds=ds,\n",
    "                 top_level=top_level, \n",
    "                 middle_level=middle_level, \n",
    "                 bottom_level=bottom_level,\n",
    "                 y=ys)\n",
    "bottom_df = pd.DataFrame(bottom_df)\n",
    "bottom_df.groupby('bottom_level').head(2)"
   ]
  },
  {
   "attachments": {},
   "cell_type": "markdown",
   "metadata": {},
   "source": [
    "The previously introduced hierarchical series $\\mathbf{y}_{[a,b]\\tau}$ is captured within the `Y_hier_df` dataframe.\n",
    "\n",
    "The aggregation constraints matrix $\\mathbf{S}_{[a][b]}$ is captured within the `S_df` dataframe.\n",
    "\n",
    "Finally the `tags` contains a list within `Y_hier_df` composing each hierarchical level, for example\n",
    "the `tags['top_level']` contains `Australia`'s aggregated series index."
   ]
  },
  {
   "cell_type": "code",
   "execution_count": null,
   "metadata": {},
   "outputs": [],
   "source": [
    "from hierarchicalforecast.utils import aggregate"
   ]
  },
  {
   "cell_type": "code",
   "execution_count": null,
   "metadata": {},
   "outputs": [],
   "source": [
    "# Create hierarchical structure and constraints\n",
    "hierarchy_levels = [['top_level'],\n",
    "                    ['top_level', 'middle_level'],\n",
    "                    ['top_level', 'middle_level', 'bottom_level']]\n",
    "Y_hier_df, S_df, tags = aggregate(df=bottom_df, spec=hierarchy_levels)\n",
    "print('S_df.shape', S_df.shape)\n",
    "print('Y_hier_df.shape', Y_hier_df.shape)\n",
    "print(\"tags['top_level']\", tags['top_level'])"
   ]
  },
  {
   "cell_type": "code",
   "execution_count": null,
   "metadata": {},
   "outputs": [],
   "source": [
    "Y_hier_df.groupby('unique_id').head(2)"
   ]
  },
  {
   "cell_type": "code",
   "execution_count": null,
   "metadata": {},
   "outputs": [],
   "source": [
    "S_df"
   ]
  },
  {
   "cell_type": "markdown",
   "metadata": {},
   "source": [
    "### Base Predictions"
   ]
  },
  {
   "attachments": {},
   "cell_type": "markdown",
   "metadata": {},
   "source": [
    "Next, we compute the *base forecast* for each time series using the `naive` model. Observe that `Y_hat_df` contains the forecasts but they are not coherent."
   ]
  },
  {
   "cell_type": "code",
   "execution_count": null,
   "metadata": {},
   "outputs": [],
   "source": [
    "%%capture\n",
    "from statsforecast.models import Naive\n",
    "from statsforecast.core import StatsForecast"
   ]
  },
  {
   "cell_type": "code",
   "execution_count": null,
   "metadata": {},
   "outputs": [],
   "source": [
    "# Split train/test sets\n",
    "Y_test_df  = Y_hier_df.groupby('unique_id', as_index=False).tail(4)\n",
    "Y_train_df = Y_hier_df.drop(Y_test_df.index)\n",
    "\n",
    "# Compute base Naive predictions\n",
    "# Careful identifying correct data freq, this data monthly 'M'\n",
    "fcst = StatsForecast(models=[Naive()],\n",
    "                     freq='MS', n_jobs=-1)\n",
    "Y_hat_df = fcst.forecast(df=Y_train_df, h=4, fitted=True)\n",
    "Y_fitted_df = fcst.forecast_fitted_values()"
   ]
  },
  {
   "cell_type": "markdown",
   "metadata": {},
   "source": [
    "### Reconciliation"
   ]
  },
  {
   "cell_type": "code",
   "execution_count": null,
   "metadata": {},
   "outputs": [],
   "source": [
    "from hierarchicalforecast.methods import BottomUp\n",
    "from hierarchicalforecast.core import HierarchicalReconciliation"
   ]
  },
  {
   "cell_type": "code",
   "execution_count": null,
   "metadata": {},
   "outputs": [],
   "source": [
    "# You can select a reconciler from our collection\n",
    "reconcilers = [BottomUp()] # MinTrace(method='mint_shrink')\n",
    "hrec = HierarchicalReconciliation(reconcilers=reconcilers)\n",
    "\n",
    "Y_rec_df = hrec.reconcile(Y_hat_df=Y_hat_df, \n",
    "                          Y_df=Y_fitted_df,\n",
    "                          S=S_df, tags=tags)\n",
    "Y_rec_df.groupby('unique_id').head(2)"
   ]
  },
  {
   "cell_type": "markdown",
   "metadata": {},
   "source": [
    "## References"
   ]
  },
  {
   "cell_type": "markdown",
   "metadata": {},
   "source": [
    "- [Hyndman, R.J., & Athanasopoulos, G. (2021). \"Forecasting: principles and practice, 3rd edition: \n",
    "Chapter 11: Forecasting hierarchical and grouped series.\". OTexts: Melbourne, Australia. OTexts.com/fpp3 \n",
    "Accessed on July 2022.](https://otexts.com/fpp3/hierarchical.html)<br>\n",
    "- [Orcutt, G.H., Watts, H.W., & Edwards, J.B.(1968). Data aggregation and information loss. The American \n",
    "Economic Review, 58 , 773(787).](http://www.jstor.org/stable/1815532)<br>\n",
    "- [Disaggregation methods to expedite product line forecasting. Journal of Forecasting, 9 , 233–254. \n",
    "doi:10.1002/for.3980090304.](https://onlinelibrary.wiley.com/doi/abs/10.1002/for.3980090304)<br>\n",
    "- [Wickramasuriya, S. L., Athanasopoulos, G., & Hyndman, R. J. (2019). \\\"Optimal forecast reconciliation for\n",
    "hierarchical and grouped time series through trace minimization\\\". Journal of the American Statistical Association, \n",
    "114 , 804–819. doi:10.1080/01621459.2018.1448825.](https://robjhyndman.com/publications/mint/)<br>\n",
    "- [Ben Taieb, S., & Koo, B. (2019). Regularized regression for hierarchical forecasting without \n",
    "unbiasedness conditions. In Proceedings of the 25th ACM SIGKDD International Conference on Knowledge \n",
    "Discovery & Data Mining KDD '19 (p. 1337(1347). New York, NY, USA: Association for Computing Machinery.](https://doi.org/10.1145/3292500.3330976)<br>"
   ]
  }
 ],
 "metadata": {
  "kernelspec": {
   "display_name": "python3",
   "language": "python",
   "name": "python3"
  }
 },
 "nbformat": 4,
 "nbformat_minor": 2
}
