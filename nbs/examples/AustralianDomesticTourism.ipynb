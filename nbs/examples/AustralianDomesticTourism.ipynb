{
 "cells": [
  {
   "attachments": {},
   "cell_type": "markdown",
   "metadata": {},
   "source": [
    "# Geographical Aggregation (Tourism)\n",
    "\n",
    "> Geographical Hierarchical Forecasting on Australian Tourism Data"
   ]
  },
  {
   "attachments": {},
   "cell_type": "markdown",
   "metadata": {},
   "source": [
    "In many applications, a set of time series is hierarchically organized. Examples include the presence of geographic levels, products, or categories that define different types of aggregations. In such scenarios, forecasters are often required to provide predictions for all disaggregate and aggregate series. A natural desire is for those predictions to be **\"coherent\"**, that is, for the bottom series to add up precisely to the forecasts of the aggregated series.\n",
    "\n",
    "In this notebook we present an example on how to use `HierarchicalForecast` to produce coherent forecasts between geographical levels. We will use the classic Australian Domestic Tourism (`Tourism`) dataset, which contains monthly time series of the number of visitors to each state of Australia.\n",
    "\n",
    "We will first load the `Tourism` data and produce base forecasts using an `ETS` model from `StatsForecast`, and then reconciliate the forecasts with several reconciliation algorithms from `HierarchicalForecast`. Finally, we show the performance is comparable with the results reported by the [Forecasting: Principles and Practice](https://otexts.com/fpp3/tourism.html) which uses the R package [fable](https://github.com/tidyverts/fable)."
   ]
  },
  {
   "attachments": {},
   "cell_type": "markdown",
   "metadata": {},
   "source": [
    "You can run these experiments using CPU or GPU with Google Colab.\n",
    "\n",
    "<a href=\"https://colab.research.google.com/github/Nixtla/hierarchicalforecast/blob/main/nbs/examples/AustralianDomesticTourism.ipynb\" target=\"_parent\"><img src=\"https://colab.research.google.com/assets/colab-badge.svg\" alt=\"Open In Colab\"/></a>"
   ]
  },
  {
   "cell_type": "code",
   "execution_count": null,
   "metadata": {},
   "outputs": [],
   "source": [
    "%%capture\n",
    "!pip install hierarchicalforecast\n",
    "!pip install -U statsforecast numba"
   ]
  },
  {
   "attachments": {},
   "cell_type": "markdown",
   "metadata": {},
   "source": [
    "## 1. Load and Process Data"
   ]
  },
  {
   "attachments": {},
   "cell_type": "markdown",
   "metadata": {},
   "source": [
    "In this example we will use the [Tourism](https://otexts.com/fpp3/tourism.html) dataset from the [Forecasting: Principles and Practice](https://otexts.com/fpp3/) book.\n",
    "\n",
    "The dataset only contains the time series at the lowest level, so we need to create the time series for all hierarchies."
   ]
  },
  {
   "cell_type": "code",
   "execution_count": null,
   "metadata": {},
   "outputs": [],
   "source": [
    "import numpy as np\n",
    "import pandas as pd"
   ]
  },
  {
   "cell_type": "code",
   "execution_count": null,
   "metadata": {},
   "outputs": [
    {
     "data": {
      "text/html": [
       "<div>\n",
       "<style scoped>\n",
       "    .dataframe tbody tr th:only-of-type {\n",
       "        vertical-align: middle;\n",
       "    }\n",
       "\n",
       "    .dataframe tbody tr th {\n",
       "        vertical-align: top;\n",
       "    }\n",
       "\n",
       "    .dataframe thead th {\n",
       "        text-align: right;\n",
       "    }\n",
       "</style>\n",
       "<table border=\"1\" class=\"dataframe\">\n",
       "  <thead>\n",
       "    <tr style=\"text-align: right;\">\n",
       "      <th></th>\n",
       "      <th>Country</th>\n",
       "      <th>Region</th>\n",
       "      <th>State</th>\n",
       "      <th>Purpose</th>\n",
       "      <th>ds</th>\n",
       "      <th>y</th>\n",
       "    </tr>\n",
       "  </thead>\n",
       "  <tbody>\n",
       "    <tr>\n",
       "      <th>0</th>\n",
       "      <td>Australia</td>\n",
       "      <td>Adelaide</td>\n",
       "      <td>South Australia</td>\n",
       "      <td>Business</td>\n",
       "      <td>1998-01-01</td>\n",
       "      <td>135.077690</td>\n",
       "    </tr>\n",
       "    <tr>\n",
       "      <th>1</th>\n",
       "      <td>Australia</td>\n",
       "      <td>Adelaide</td>\n",
       "      <td>South Australia</td>\n",
       "      <td>Business</td>\n",
       "      <td>1998-04-01</td>\n",
       "      <td>109.987316</td>\n",
       "    </tr>\n",
       "    <tr>\n",
       "      <th>2</th>\n",
       "      <td>Australia</td>\n",
       "      <td>Adelaide</td>\n",
       "      <td>South Australia</td>\n",
       "      <td>Business</td>\n",
       "      <td>1998-07-01</td>\n",
       "      <td>166.034687</td>\n",
       "    </tr>\n",
       "    <tr>\n",
       "      <th>3</th>\n",
       "      <td>Australia</td>\n",
       "      <td>Adelaide</td>\n",
       "      <td>South Australia</td>\n",
       "      <td>Business</td>\n",
       "      <td>1998-10-01</td>\n",
       "      <td>127.160464</td>\n",
       "    </tr>\n",
       "    <tr>\n",
       "      <th>4</th>\n",
       "      <td>Australia</td>\n",
       "      <td>Adelaide</td>\n",
       "      <td>South Australia</td>\n",
       "      <td>Business</td>\n",
       "      <td>1999-01-01</td>\n",
       "      <td>137.448533</td>\n",
       "    </tr>\n",
       "  </tbody>\n",
       "</table>\n",
       "</div>"
      ],
      "text/plain": [
       "     Country    Region            State   Purpose         ds           y\n",
       "0  Australia  Adelaide  South Australia  Business 1998-01-01  135.077690\n",
       "1  Australia  Adelaide  South Australia  Business 1998-04-01  109.987316\n",
       "2  Australia  Adelaide  South Australia  Business 1998-07-01  166.034687\n",
       "3  Australia  Adelaide  South Australia  Business 1998-10-01  127.160464\n",
       "4  Australia  Adelaide  South Australia  Business 1999-01-01  137.448533"
      ]
     },
     "execution_count": null,
     "metadata": {},
     "output_type": "execute_result"
    }
   ],
   "source": [
    "Y_df = pd.read_csv('https://raw.githubusercontent.com/Nixtla/transfer-learning-time-series/main/datasets/tourism.csv')\n",
    "Y_df = Y_df.rename({'Trips': 'y', 'Quarter': 'ds'}, axis=1)\n",
    "Y_df.insert(0, 'Country', 'Australia')\n",
    "Y_df = Y_df[['Country', 'Region', 'State', 'Purpose', 'ds', 'y']]\n",
    "Y_df['ds'] = Y_df['ds'].str.replace(r'(\\d+) (Q\\d)', r'\\1-\\2', regex=True)\n",
    "Y_df['ds'] = pd.to_datetime(Y_df['ds'])\n",
    "Y_df.head()"
   ]
  },
  {
   "cell_type": "markdown",
   "metadata": {},
   "source": [
    "The dataset can be grouped in the following non-strictly hierarchical structure."
   ]
  },
  {
   "cell_type": "code",
   "execution_count": null,
   "metadata": {},
   "outputs": [],
   "source": [
    "spec = [\n",
    "    ['Country'],\n",
    "    ['Country', 'State'], \n",
    "    ['Country', 'Purpose'], \n",
    "    ['Country', 'State', 'Region'], \n",
    "    ['Country', 'State', 'Purpose'], \n",
    "    ['Country', 'State', 'Region', 'Purpose']\n",
    "]"
   ]
  },
  {
   "cell_type": "markdown",
   "metadata": {},
   "source": [
    "Using the `aggregate` function from `HierarchicalForecast` we can get the full set of time series."
   ]
  },
  {
   "cell_type": "code",
   "execution_count": null,
   "metadata": {},
   "outputs": [],
   "source": [
    "from hierarchicalforecast.utils import aggregate"
   ]
  },
  {
   "cell_type": "code",
   "execution_count": null,
   "metadata": {},
   "outputs": [],
   "source": [
    "%%capture\n",
    "Y_df, S_df, tags = aggregate(Y_df, spec)\n",
    "Y_df = Y_df.reset_index()"
   ]
  },
  {
   "cell_type": "code",
   "execution_count": null,
   "metadata": {},
   "outputs": [
    {
     "data": {
      "text/html": [
       "<div>\n",
       "<style scoped>\n",
       "    .dataframe tbody tr th:only-of-type {\n",
       "        vertical-align: middle;\n",
       "    }\n",
       "\n",
       "    .dataframe tbody tr th {\n",
       "        vertical-align: top;\n",
       "    }\n",
       "\n",
       "    .dataframe thead th {\n",
       "        text-align: right;\n",
       "    }\n",
       "</style>\n",
       "<table border=\"1\" class=\"dataframe\">\n",
       "  <thead>\n",
       "    <tr style=\"text-align: right;\">\n",
       "      <th></th>\n",
       "      <th>unique_id</th>\n",
       "      <th>ds</th>\n",
       "      <th>y</th>\n",
       "    </tr>\n",
       "  </thead>\n",
       "  <tbody>\n",
       "    <tr>\n",
       "      <th>0</th>\n",
       "      <td>Australia</td>\n",
       "      <td>1998-01-01</td>\n",
       "      <td>23182.197269</td>\n",
       "    </tr>\n",
       "    <tr>\n",
       "      <th>1</th>\n",
       "      <td>Australia</td>\n",
       "      <td>1998-04-01</td>\n",
       "      <td>20323.380067</td>\n",
       "    </tr>\n",
       "    <tr>\n",
       "      <th>2</th>\n",
       "      <td>Australia</td>\n",
       "      <td>1998-07-01</td>\n",
       "      <td>19826.640511</td>\n",
       "    </tr>\n",
       "    <tr>\n",
       "      <th>3</th>\n",
       "      <td>Australia</td>\n",
       "      <td>1998-10-01</td>\n",
       "      <td>20830.129891</td>\n",
       "    </tr>\n",
       "    <tr>\n",
       "      <th>4</th>\n",
       "      <td>Australia</td>\n",
       "      <td>1999-01-01</td>\n",
       "      <td>22087.353380</td>\n",
       "    </tr>\n",
       "  </tbody>\n",
       "</table>\n",
       "</div>"
      ],
      "text/plain": [
       "   unique_id         ds             y\n",
       "0  Australia 1998-01-01  23182.197269\n",
       "1  Australia 1998-04-01  20323.380067\n",
       "2  Australia 1998-07-01  19826.640511\n",
       "3  Australia 1998-10-01  20830.129891\n",
       "4  Australia 1999-01-01  22087.353380"
      ]
     },
     "execution_count": null,
     "metadata": {},
     "output_type": "execute_result"
    }
   ],
   "source": [
    "Y_df.head()"
   ]
  },
  {
   "cell_type": "code",
   "execution_count": null,
   "metadata": {},
   "outputs": [
    {
     "data": {
      "text/html": [
       "<div>\n",
       "<style scoped>\n",
       "    .dataframe tbody tr th:only-of-type {\n",
       "        vertical-align: middle;\n",
       "    }\n",
       "\n",
       "    .dataframe tbody tr th {\n",
       "        vertical-align: top;\n",
       "    }\n",
       "\n",
       "    .dataframe thead th {\n",
       "        text-align: right;\n",
       "    }\n",
       "</style>\n",
       "<table border=\"1\" class=\"dataframe\">\n",
       "  <thead>\n",
       "    <tr style=\"text-align: right;\">\n",
       "      <th></th>\n",
       "      <th>Australia/ACT/Canberra/Business</th>\n",
       "      <th>Australia/ACT/Canberra/Holiday</th>\n",
       "      <th>Australia/ACT/Canberra/Other</th>\n",
       "      <th>Australia/ACT/Canberra/Visiting</th>\n",
       "      <th>Australia/New South Wales/Blue Mountains/Business</th>\n",
       "    </tr>\n",
       "  </thead>\n",
       "  <tbody>\n",
       "    <tr>\n",
       "      <th>Australia</th>\n",
       "      <td>1.0</td>\n",
       "      <td>1.0</td>\n",
       "      <td>1.0</td>\n",
       "      <td>1.0</td>\n",
       "      <td>1.0</td>\n",
       "    </tr>\n",
       "    <tr>\n",
       "      <th>Australia/ACT</th>\n",
       "      <td>1.0</td>\n",
       "      <td>1.0</td>\n",
       "      <td>1.0</td>\n",
       "      <td>1.0</td>\n",
       "      <td>0.0</td>\n",
       "    </tr>\n",
       "    <tr>\n",
       "      <th>Australia/New South Wales</th>\n",
       "      <td>0.0</td>\n",
       "      <td>0.0</td>\n",
       "      <td>0.0</td>\n",
       "      <td>0.0</td>\n",
       "      <td>1.0</td>\n",
       "    </tr>\n",
       "    <tr>\n",
       "      <th>Australia/Northern Territory</th>\n",
       "      <td>0.0</td>\n",
       "      <td>0.0</td>\n",
       "      <td>0.0</td>\n",
       "      <td>0.0</td>\n",
       "      <td>0.0</td>\n",
       "    </tr>\n",
       "    <tr>\n",
       "      <th>Australia/Queensland</th>\n",
       "      <td>0.0</td>\n",
       "      <td>0.0</td>\n",
       "      <td>0.0</td>\n",
       "      <td>0.0</td>\n",
       "      <td>0.0</td>\n",
       "    </tr>\n",
       "  </tbody>\n",
       "</table>\n",
       "</div>"
      ],
      "text/plain": [
       "                              Australia/ACT/Canberra/Business  \\\n",
       "Australia                                                 1.0   \n",
       "Australia/ACT                                             1.0   \n",
       "Australia/New South Wales                                 0.0   \n",
       "Australia/Northern Territory                              0.0   \n",
       "Australia/Queensland                                      0.0   \n",
       "\n",
       "                              Australia/ACT/Canberra/Holiday  \\\n",
       "Australia                                                1.0   \n",
       "Australia/ACT                                            1.0   \n",
       "Australia/New South Wales                                0.0   \n",
       "Australia/Northern Territory                             0.0   \n",
       "Australia/Queensland                                     0.0   \n",
       "\n",
       "                              Australia/ACT/Canberra/Other  \\\n",
       "Australia                                              1.0   \n",
       "Australia/ACT                                          1.0   \n",
       "Australia/New South Wales                              0.0   \n",
       "Australia/Northern Territory                           0.0   \n",
       "Australia/Queensland                                   0.0   \n",
       "\n",
       "                              Australia/ACT/Canberra/Visiting  \\\n",
       "Australia                                                 1.0   \n",
       "Australia/ACT                                             1.0   \n",
       "Australia/New South Wales                                 0.0   \n",
       "Australia/Northern Territory                              0.0   \n",
       "Australia/Queensland                                      0.0   \n",
       "\n",
       "                              Australia/New South Wales/Blue Mountains/Business  \n",
       "Australia                                                                   1.0  \n",
       "Australia/ACT                                                               0.0  \n",
       "Australia/New South Wales                                                   1.0  \n",
       "Australia/Northern Territory                                                0.0  \n",
       "Australia/Queensland                                                        0.0  "
      ]
     },
     "execution_count": null,
     "metadata": {},
     "output_type": "execute_result"
    }
   ],
   "source": [
    "S_df.iloc[:5, :5]"
   ]
  },
  {
   "cell_type": "code",
   "execution_count": null,
   "metadata": {},
   "outputs": [
    {
     "data": {
      "text/plain": [
       "array(['Australia/Business', 'Australia/Holiday', 'Australia/Other',\n",
       "       'Australia/Visiting'], dtype=object)"
      ]
     },
     "execution_count": null,
     "metadata": {},
     "output_type": "execute_result"
    }
   ],
   "source": [
    "tags['Country/Purpose']"
   ]
  },
  {
   "cell_type": "markdown",
   "metadata": {},
   "source": [
    "### Split Train/Test sets\n",
    "\n",
    "We use the final two years (8 quarters) as test set."
   ]
  },
  {
   "cell_type": "code",
   "execution_count": null,
   "metadata": {},
   "outputs": [],
   "source": [
    "Y_test_df = Y_df.groupby('unique_id').tail(8)\n",
    "Y_train_df = Y_df.drop(Y_test_df.index)"
   ]
  },
  {
   "cell_type": "code",
   "execution_count": null,
   "metadata": {},
   "outputs": [],
   "source": [
    "Y_test_df = Y_test_df.set_index('unique_id')\n",
    "Y_train_df = Y_train_df.set_index('unique_id')"
   ]
  },
  {
   "cell_type": "code",
   "execution_count": null,
   "metadata": {},
   "outputs": [
    {
     "data": {
      "text/plain": [
       "unique_id\n",
       "Australia                                                72\n",
       "Australia/ACT                                            72\n",
       "Australia/ACT/Business                                   72\n",
       "Australia/ACT/Canberra                                   72\n",
       "Australia/ACT/Canberra/Business                          72\n",
       "                                                         ..\n",
       "Australia/Western Australia/Experience Perth/Other       72\n",
       "Australia/Western Australia/Experience Perth/Visiting    72\n",
       "Australia/Western Australia/Holiday                      72\n",
       "Australia/Western Australia/Other                        72\n",
       "Australia/Western Australia/Visiting                     72\n",
       "Length: 425, dtype: int64"
      ]
     },
     "execution_count": null,
     "metadata": {},
     "output_type": "execute_result"
    }
   ],
   "source": [
    "Y_train_df.groupby('unique_id').size()"
   ]
  },
  {
   "attachments": {},
   "cell_type": "markdown",
   "metadata": {},
   "source": [
    "## 2. Computing base forecasts\n",
    "\n",
    "The following cell computes the **base forecasts** for each time series in `Y_df` using the `ETS` model. Observe that `Y_hat_df` contains the forecasts but they are not coherent."
   ]
  },
  {
   "cell_type": "code",
   "execution_count": null,
   "metadata": {},
   "outputs": [],
   "source": [
    "%%capture\n",
    "from statsforecast.models import ETS\n",
    "from statsforecast.core import StatsForecast"
   ]
  },
  {
   "cell_type": "code",
   "execution_count": null,
   "metadata": {},
   "outputs": [],
   "source": [
    "%%capture\n",
    "fcst = StatsForecast(df=Y_train_df, \n",
    "                     models=[ETS(season_length=4, model='ZZA')], \n",
    "                     freq='QS', n_jobs=-1)\n",
    "Y_hat_df = fcst.forecast(h=8, fitted=True)\n",
    "Y_fitted_df = fcst.forecast_fitted_values()"
   ]
  },
  {
   "attachments": {},
   "cell_type": "markdown",
   "metadata": {},
   "source": [
    "## 3. Reconcile forecasts\n",
    "\n",
    "The following cell makes the previous forecasts coherent using the `HierarchicalReconciliation` class. Since the hierarchy structure is not strict, we can't use methods such as `TopDown` or `MiddleOut`. In this example we use `BottomUp` and `MinTrace`."
   ]
  },
  {
   "cell_type": "code",
   "execution_count": null,
   "metadata": {},
   "outputs": [],
   "source": [
    "from hierarchicalforecast.methods import BottomUp, MinTrace\n",
    "from hierarchicalforecast.core import HierarchicalReconciliation"
   ]
  },
  {
   "cell_type": "code",
   "execution_count": null,
   "metadata": {},
   "outputs": [],
   "source": [
    "reconcilers = [\n",
    "    BottomUp(),\n",
    "    MinTrace(method='mint_shrink'),\n",
    "    MinTrace(method='ols')\n",
    "]\n",
    "hrec = HierarchicalReconciliation(reconcilers=reconcilers)\n",
    "Y_rec_df = hrec.reconcile(Y_hat_df=Y_hat_df, Y_df=Y_fitted_df, S=S_df, tags=tags)"
   ]
  },
  {
   "cell_type": "markdown",
   "metadata": {},
   "source": [
    "The dataframe `Y_rec_df` contains the reconciled forecasts."
   ]
  },
  {
   "cell_type": "code",
   "execution_count": null,
   "metadata": {},
   "outputs": [
    {
     "data": {
      "text/html": [
       "<div>\n",
       "<style scoped>\n",
       "    .dataframe tbody tr th:only-of-type {\n",
       "        vertical-align: middle;\n",
       "    }\n",
       "\n",
       "    .dataframe tbody tr th {\n",
       "        vertical-align: top;\n",
       "    }\n",
       "\n",
       "    .dataframe thead th {\n",
       "        text-align: right;\n",
       "    }\n",
       "</style>\n",
       "<table border=\"1\" class=\"dataframe\">\n",
       "  <thead>\n",
       "    <tr style=\"text-align: right;\">\n",
       "      <th></th>\n",
       "      <th>ds</th>\n",
       "      <th>ETS</th>\n",
       "      <th>ETS/BottomUp</th>\n",
       "      <th>ETS/MinTrace_method-mint_shrink</th>\n",
       "      <th>ETS/MinTrace_method-ols</th>\n",
       "    </tr>\n",
       "    <tr>\n",
       "      <th>unique_id</th>\n",
       "      <th></th>\n",
       "      <th></th>\n",
       "      <th></th>\n",
       "      <th></th>\n",
       "      <th></th>\n",
       "    </tr>\n",
       "  </thead>\n",
       "  <tbody>\n",
       "    <tr>\n",
       "      <th>Australia</th>\n",
       "      <td>2016-01-01</td>\n",
       "      <td>25990.068359</td>\n",
       "      <td>24379.679688</td>\n",
       "      <td>25438.888351</td>\n",
       "      <td>25894.418893</td>\n",
       "    </tr>\n",
       "    <tr>\n",
       "      <th>Australia</th>\n",
       "      <td>2016-04-01</td>\n",
       "      <td>24458.490234</td>\n",
       "      <td>22902.664062</td>\n",
       "      <td>23925.188541</td>\n",
       "      <td>24357.230480</td>\n",
       "    </tr>\n",
       "    <tr>\n",
       "      <th>Australia</th>\n",
       "      <td>2016-07-01</td>\n",
       "      <td>23974.056641</td>\n",
       "      <td>22412.984375</td>\n",
       "      <td>23440.310338</td>\n",
       "      <td>23865.929521</td>\n",
       "    </tr>\n",
       "    <tr>\n",
       "      <th>Australia</th>\n",
       "      <td>2016-10-01</td>\n",
       "      <td>24563.455078</td>\n",
       "      <td>23127.638672</td>\n",
       "      <td>24101.001833</td>\n",
       "      <td>24470.783968</td>\n",
       "    </tr>\n",
       "    <tr>\n",
       "      <th>Australia</th>\n",
       "      <td>2017-01-01</td>\n",
       "      <td>25990.068359</td>\n",
       "      <td>24516.175781</td>\n",
       "      <td>25556.667616</td>\n",
       "      <td>25901.382401</td>\n",
       "    </tr>\n",
       "  </tbody>\n",
       "</table>\n",
       "</div>"
      ],
      "text/plain": [
       "                  ds           ETS  ETS/BottomUp  \\\n",
       "unique_id                                          \n",
       "Australia 2016-01-01  25990.068359  24379.679688   \n",
       "Australia 2016-04-01  24458.490234  22902.664062   \n",
       "Australia 2016-07-01  23974.056641  22412.984375   \n",
       "Australia 2016-10-01  24563.455078  23127.638672   \n",
       "Australia 2017-01-01  25990.068359  24516.175781   \n",
       "\n",
       "           ETS/MinTrace_method-mint_shrink  ETS/MinTrace_method-ols  \n",
       "unique_id                                                            \n",
       "Australia                     25438.888351             25894.418893  \n",
       "Australia                     23925.188541             24357.230480  \n",
       "Australia                     23440.310338             23865.929521  \n",
       "Australia                     24101.001833             24470.783968  \n",
       "Australia                     25556.667616             25901.382401  "
      ]
     },
     "execution_count": null,
     "metadata": {},
     "output_type": "execute_result"
    }
   ],
   "source": [
    "Y_rec_df.head()"
   ]
  },
  {
   "attachments": {},
   "cell_type": "markdown",
   "metadata": {},
   "source": [
    "## 4. Evaluation \n",
    "\n",
    "The `HierarchicalForecast` package includes the `HierarchicalEvaluation` class to evaluate the different hierarchies and also is capable of compute scaled metrics compared to a benchmark model."
   ]
  },
  {
   "cell_type": "code",
   "execution_count": null,
   "metadata": {},
   "outputs": [],
   "source": [
    "from hierarchicalforecast.evaluation import HierarchicalEvaluation"
   ]
  },
  {
   "cell_type": "code",
   "execution_count": null,
   "metadata": {},
   "outputs": [
    {
     "name": "stderr",
     "output_type": "stream",
     "text": [
      "/var/folders/rp/97y9_3ns23v01hdn0rp9ndw40000gp/T/ipykernel_46857/2768439279.py:22: PerformanceWarning: dropping on a non-lexsorted multi-index without a level parameter may impact performance.\n",
      "  evaluation = evaluation.drop('Overall')\n"
     ]
    }
   ],
   "source": [
    "def rmse(y, y_hat):\n",
    "    return np.mean(np.sqrt(np.mean((y-y_hat)**2, axis=1)))\n",
    "\n",
    "def mase(y, y_hat, y_insample, seasonality=4):\n",
    "    errors = np.mean(np.abs(y - y_hat), axis=1)\n",
    "    scale = np.mean(np.abs(y_insample[:, seasonality:] - y_insample[:, :-seasonality]), axis=1)\n",
    "    return np.mean(errors / scale)\n",
    "\n",
    "eval_tags = {}\n",
    "eval_tags['Total'] = tags['Country']\n",
    "eval_tags['Purpose'] = tags['Country/Purpose']\n",
    "eval_tags['State'] = tags['Country/State']\n",
    "eval_tags['Regions'] = tags['Country/State/Region']\n",
    "eval_tags['Bottom'] = tags['Country/State/Region/Purpose']\n",
    "eval_tags['All'] = np.concatenate(list(tags.values()))\n",
    "\n",
    "evaluator = HierarchicalEvaluation(evaluators=[rmse, mase])\n",
    "evaluation = evaluator.evaluate(\n",
    "        Y_hat_df=Y_rec_df, Y_test_df=Y_test_df,\n",
    "        tags=eval_tags, Y_df=Y_train_df\n",
    ")\n",
    "evaluation = evaluation.drop('Overall')\n",
    "evaluation.columns = ['Base', 'BottomUp', 'MinTrace(mint_shrink)', 'MinTrace(ols)']\n",
    "evaluation = evaluation.applymap('{:.2f}'.format)"
   ]
  },
  {
   "cell_type": "markdown",
   "metadata": {},
   "source": [
    "### RMSE\n",
    "\n",
    "The following table shows the performance measured using RMSE across levels for each reconciliation method."
   ]
  },
  {
   "cell_type": "code",
   "execution_count": null,
   "metadata": {},
   "outputs": [
    {
     "data": {
      "text/html": [
       "<div>\n",
       "<style scoped>\n",
       "    .dataframe tbody tr th:only-of-type {\n",
       "        vertical-align: middle;\n",
       "    }\n",
       "\n",
       "    .dataframe tbody tr th {\n",
       "        vertical-align: top;\n",
       "    }\n",
       "\n",
       "    .dataframe thead th {\n",
       "        text-align: right;\n",
       "    }\n",
       "</style>\n",
       "<table border=\"1\" class=\"dataframe\">\n",
       "  <thead>\n",
       "    <tr style=\"text-align: right;\">\n",
       "      <th></th>\n",
       "      <th></th>\n",
       "      <th>Base</th>\n",
       "      <th>BottomUp</th>\n",
       "      <th>MinTrace(mint_shrink)</th>\n",
       "      <th>MinTrace(ols)</th>\n",
       "    </tr>\n",
       "    <tr>\n",
       "      <th>level</th>\n",
       "      <th>metric</th>\n",
       "      <th></th>\n",
       "      <th></th>\n",
       "      <th></th>\n",
       "      <th></th>\n",
       "    </tr>\n",
       "  </thead>\n",
       "  <tbody>\n",
       "    <tr>\n",
       "      <th>Total</th>\n",
       "      <th>rmse</th>\n",
       "      <td>1743.29</td>\n",
       "      <td>3028.93</td>\n",
       "      <td>2102.47</td>\n",
       "      <td>1818.94</td>\n",
       "    </tr>\n",
       "    <tr>\n",
       "      <th>Purpose</th>\n",
       "      <th>rmse</th>\n",
       "      <td>534.75</td>\n",
       "      <td>791.28</td>\n",
       "      <td>574.84</td>\n",
       "      <td>515.53</td>\n",
       "    </tr>\n",
       "    <tr>\n",
       "      <th>State</th>\n",
       "      <th>rmse</th>\n",
       "      <td>308.15</td>\n",
       "      <td>413.43</td>\n",
       "      <td>315.89</td>\n",
       "      <td>287.34</td>\n",
       "    </tr>\n",
       "    <tr>\n",
       "      <th>Regions</th>\n",
       "      <th>rmse</th>\n",
       "      <td>51.65</td>\n",
       "      <td>55.14</td>\n",
       "      <td>46.48</td>\n",
       "      <td>46.29</td>\n",
       "    </tr>\n",
       "    <tr>\n",
       "      <th>Bottom</th>\n",
       "      <th>rmse</th>\n",
       "      <td>19.37</td>\n",
       "      <td>19.37</td>\n",
       "      <td>17.78</td>\n",
       "      <td>18.19</td>\n",
       "    </tr>\n",
       "    <tr>\n",
       "      <th>All</th>\n",
       "      <th>rmse</th>\n",
       "      <td>45.19</td>\n",
       "      <td>54.95</td>\n",
       "      <td>44.59</td>\n",
       "      <td>42.71</td>\n",
       "    </tr>\n",
       "  </tbody>\n",
       "</table>\n",
       "</div>"
      ],
      "text/plain": [
       "                   Base BottomUp MinTrace(mint_shrink) MinTrace(ols)\n",
       "level   metric                                                      \n",
       "Total   rmse    1743.29  3028.93               2102.47       1818.94\n",
       "Purpose rmse     534.75   791.28                574.84        515.53\n",
       "State   rmse     308.15   413.43                315.89        287.34\n",
       "Regions rmse      51.65    55.14                 46.48         46.29\n",
       "Bottom  rmse      19.37    19.37                 17.78         18.19\n",
       "All     rmse      45.19    54.95                 44.59         42.71"
      ]
     },
     "execution_count": null,
     "metadata": {},
     "output_type": "execute_result"
    }
   ],
   "source": [
    "evaluation.query('metric == \"rmse\"')"
   ]
  },
  {
   "cell_type": "markdown",
   "metadata": {},
   "source": [
    "### MASE\n",
    "\n",
    "\n",
    "The following table shows the performance measured using MASE across levels for each reconciliation method."
   ]
  },
  {
   "cell_type": "code",
   "execution_count": null,
   "metadata": {},
   "outputs": [
    {
     "data": {
      "text/html": [
       "<div>\n",
       "<style scoped>\n",
       "    .dataframe tbody tr th:only-of-type {\n",
       "        vertical-align: middle;\n",
       "    }\n",
       "\n",
       "    .dataframe tbody tr th {\n",
       "        vertical-align: top;\n",
       "    }\n",
       "\n",
       "    .dataframe thead th {\n",
       "        text-align: right;\n",
       "    }\n",
       "</style>\n",
       "<table border=\"1\" class=\"dataframe\">\n",
       "  <thead>\n",
       "    <tr style=\"text-align: right;\">\n",
       "      <th></th>\n",
       "      <th></th>\n",
       "      <th>Base</th>\n",
       "      <th>BottomUp</th>\n",
       "      <th>MinTrace(mint_shrink)</th>\n",
       "      <th>MinTrace(ols)</th>\n",
       "    </tr>\n",
       "    <tr>\n",
       "      <th>level</th>\n",
       "      <th>metric</th>\n",
       "      <th></th>\n",
       "      <th></th>\n",
       "      <th></th>\n",
       "      <th></th>\n",
       "    </tr>\n",
       "  </thead>\n",
       "  <tbody>\n",
       "    <tr>\n",
       "      <th>Total</th>\n",
       "      <th>mase</th>\n",
       "      <td>1.59</td>\n",
       "      <td>3.16</td>\n",
       "      <td>2.05</td>\n",
       "      <td>1.67</td>\n",
       "    </tr>\n",
       "    <tr>\n",
       "      <th>Purpose</th>\n",
       "      <th>mase</th>\n",
       "      <td>1.32</td>\n",
       "      <td>2.28</td>\n",
       "      <td>1.48</td>\n",
       "      <td>1.25</td>\n",
       "    </tr>\n",
       "    <tr>\n",
       "      <th>State</th>\n",
       "      <th>mase</th>\n",
       "      <td>1.39</td>\n",
       "      <td>1.90</td>\n",
       "      <td>1.39</td>\n",
       "      <td>1.25</td>\n",
       "    </tr>\n",
       "    <tr>\n",
       "      <th>Regions</th>\n",
       "      <th>mase</th>\n",
       "      <td>1.12</td>\n",
       "      <td>1.19</td>\n",
       "      <td>1.01</td>\n",
       "      <td>0.99</td>\n",
       "    </tr>\n",
       "    <tr>\n",
       "      <th>Bottom</th>\n",
       "      <th>mase</th>\n",
       "      <td>0.98</td>\n",
       "      <td>0.98</td>\n",
       "      <td>0.94</td>\n",
       "      <td>1.01</td>\n",
       "    </tr>\n",
       "    <tr>\n",
       "      <th>All</th>\n",
       "      <th>mase</th>\n",
       "      <td>1.03</td>\n",
       "      <td>1.08</td>\n",
       "      <td>0.98</td>\n",
       "      <td>1.02</td>\n",
       "    </tr>\n",
       "  </tbody>\n",
       "</table>\n",
       "</div>"
      ],
      "text/plain": [
       "                Base BottomUp MinTrace(mint_shrink) MinTrace(ols)\n",
       "level   metric                                                   \n",
       "Total   mase    1.59     3.16                  2.05          1.67\n",
       "Purpose mase    1.32     2.28                  1.48          1.25\n",
       "State   mase    1.39     1.90                  1.39          1.25\n",
       "Regions mase    1.12     1.19                  1.01          0.99\n",
       "Bottom  mase    0.98     0.98                  0.94          1.01\n",
       "All     mase    1.03     1.08                  0.98          1.02"
      ]
     },
     "execution_count": null,
     "metadata": {},
     "output_type": "execute_result"
    }
   ],
   "source": [
    "evaluation.query('metric == \"mase\"')"
   ]
  },
  {
   "cell_type": "markdown",
   "metadata": {},
   "source": [
    "### Comparison fable\n",
    "\n",
    "Observe that we can recover the results reported by the [Forecasting: Principles and Practice](https://otexts.com/fpp3/tourism.html). The original results were calculated using the R package [fable](https://github.com/tidyverts/fable).\n",
    "\n",
    "![Fable's reconciliation results](./imgs/AustralianDomesticTourism-results-fable.png)"
   ]
  },
  {
   "cell_type": "markdown",
   "metadata": {},
   "source": [
    "### References\n",
    "- [Hyndman, R.J., & Athanasopoulos, G. (2021). \"Forecasting: principles and practice, 3rd edition: \n",
    "Chapter 11: Forecasting hierarchical and grouped series.\". OTexts: Melbourne, Australia. OTexts.com/fpp3 \n",
    "Accessed on July 2022.](https://otexts.com/fpp3/hierarchical.html)\n",
    "- [Rob Hyndman, Alan Lee, Earo Wang, Shanika Wickramasuriya, and Maintainer Earo Wang (2021). \"hts: Hierarchical and Grouped Time Series\". URL https://CRAN.R-project.org/package=hts. R package version 0.3.1.](https://cran.r-project.org/web/packages/hts/index.html)\n",
    "- [Mitchell O’Hara-Wild, Rob Hyndman, Earo Wang, Gabriel Caceres, Tim-Gunnar Hensel, and Timothy Hyndman (2021). \"fable: Forecasting Models for Tidy Time Series\". URL https://CRAN.R-project.org/package=fable. R package version 6.0.2.](https://CRAN.R-project.org/package=fable)"
   ]
  }
 ],
 "metadata": {
  "kernelspec": {
   "display_name": "python3",
   "language": "python",
   "name": "python3"
  }
 },
 "nbformat": 4,
 "nbformat_minor": 4
}
