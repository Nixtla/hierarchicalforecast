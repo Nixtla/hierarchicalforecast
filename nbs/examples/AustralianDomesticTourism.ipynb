{
 "cells": [
  {
   "attachments": {},
   "cell_type": "markdown",
   "metadata": {},
   "source": [
    "# Geographical Aggregation (Tourism)\n",
    "\n",
    "> Geographical Hierarchical Forecasting on Australian Tourism Data"
   ]
  },
  {
   "attachments": {},
   "cell_type": "markdown",
   "metadata": {},
   "source": [
    "In many applications, a set of time series is hierarchically organized. Examples include the presence of geographic levels, products, or categories that define different types of aggregations. In such scenarios, forecasters are often required to provide predictions for all disaggregate and aggregate series. A natural desire is for those predictions to be **\"coherent\"**, that is, for the bottom series to add up precisely to the forecasts of the aggregated series.\n",
    "\n",
    "In this notebook we present an example on how to use `HierarchicalForecast` to produce coherent forecasts between geographical levels. We will use the classic Australian Domestic Tourism (`Tourism`) dataset, which contains monthly time series of the number of visitors to each state of Australia.\n",
    "\n",
    "We will first load the `Tourism` data and produce base forecasts using an `AutoETS` model from `StatsForecast`, and then reconciliate the forecasts with several reconciliation algorithms from `HierarchicalForecast`. Finally, we show the performance is comparable with the results reported by the [Forecasting: Principles and Practice](https://otexts.com/fpp3/tourism.html) which uses the R package [fable](https://github.com/tidyverts/fable)."
   ]
  },
  {
   "attachments": {},
   "cell_type": "markdown",
   "metadata": {},
   "source": [
    "You can run these experiments using CPU or GPU with Google Colab.\n",
    "\n",
    "<a href=\"https://colab.research.google.com/github/Nixtla/hierarchicalforecast/blob/main/nbs/examples/AustralianDomesticTourism.ipynb\" target=\"_parent\"><img src=\"https://colab.research.google.com/assets/colab-badge.svg\" alt=\"Open In Colab\"/></a>"
   ]
  },
  {
   "cell_type": "code",
   "execution_count": null,
   "metadata": {},
   "outputs": [],
   "source": [
    "%%capture\n",
    "!pip install hierarchicalforecast statsforecast mlforecast datasetsforecast lightgbm sklearn"
   ]
  },
  {
   "attachments": {},
   "cell_type": "markdown",
   "metadata": {},
   "source": [
    "## 1. Load and Process Data"
   ]
  },
  {
   "attachments": {},
   "cell_type": "markdown",
   "metadata": {},
   "source": [
    "In this example we will use the [Tourism](https://otexts.com/fpp3/tourism.html) dataset from the [Forecasting: Principles and Practice](https://otexts.com/fpp3/) book.\n",
    "\n",
    "The dataset only contains the time series at the lowest level, so we need to create the time series for all hierarchies."
   ]
  },
  {
   "cell_type": "code",
   "execution_count": null,
   "metadata": {},
   "outputs": [],
   "source": [
    "import numpy as np\n",
    "import pandas as pd"
   ]
  },
  {
   "cell_type": "code",
   "execution_count": null,
   "metadata": {},
   "outputs": [],
   "source": [
    "Y_df = pd.read_csv('https://raw.githubusercontent.com/Nixtla/transfer-learning-time-series/main/datasets/tourism.csv')\n",
    "Y_df = Y_df.rename({'Trips': 'y', 'Quarter': 'ds'}, axis=1)\n",
    "Y_df.insert(0, 'Country', 'Australia')\n",
    "Y_df = Y_df[['Country', 'Region', 'State', 'Purpose', 'ds', 'y']]\n",
    "Y_df['ds'] = Y_df['ds'].str.replace(r'(\\d+) (Q\\d)', r'\\1-\\2', regex=True)\n",
    "Y_df['ds'] = pd.PeriodIndex(Y_df[\"ds\"], freq='Q').to_timestamp()\n",
    "Y_df.head()"
   ]
  },
  {
   "cell_type": "markdown",
   "metadata": {},
   "source": [
    "The dataset can be grouped in the following non-strictly hierarchical structure."
   ]
  },
  {
   "cell_type": "code",
   "execution_count": null,
   "metadata": {},
   "outputs": [],
   "source": [
    "spec = [\n",
    "    ['Country'],\n",
    "    ['Country', 'State'], \n",
    "    ['Country', 'Purpose'], \n",
    "    ['Country', 'State', 'Region'], \n",
    "    ['Country', 'State', 'Purpose'], \n",
    "    ['Country', 'State', 'Region', 'Purpose']\n",
    "]"
   ]
  },
  {
   "cell_type": "markdown",
   "metadata": {},
   "source": [
    "Using the `aggregate` function from `HierarchicalForecast` we can get the full set of time series."
   ]
  },
  {
   "cell_type": "code",
   "execution_count": null,
   "metadata": {},
   "outputs": [],
   "source": [
    "from hierarchicalforecast.utils import aggregate"
   ]
  },
  {
   "cell_type": "code",
   "execution_count": null,
   "metadata": {},
   "outputs": [],
   "source": [
    "%%capture\n",
    "Y_df, S_df, tags = aggregate(Y_df, spec)"
   ]
  },
  {
   "cell_type": "code",
   "execution_count": null,
   "metadata": {},
   "outputs": [],
   "source": [
    "Y_df.head()"
   ]
  },
  {
   "cell_type": "code",
   "execution_count": null,
   "metadata": {},
   "outputs": [],
   "source": [
    "S_df.iloc[:5, :5]"
   ]
  },
  {
   "cell_type": "code",
   "execution_count": null,
   "metadata": {},
   "outputs": [],
   "source": [
    "tags['Country/Purpose']"
   ]
  },
  {
   "cell_type": "markdown",
   "metadata": {},
   "source": [
    "### Split Train/Test sets\n",
    "\n",
    "We use the final two years (8 quarters) as test set."
   ]
  },
  {
   "cell_type": "code",
   "execution_count": null,
   "metadata": {},
   "outputs": [],
   "source": [
    "Y_test_df = Y_df.groupby('unique_id', as_index=False).tail(8)\n",
    "Y_train_df = Y_df.drop(Y_test_df.index)"
   ]
  },
  {
   "cell_type": "code",
   "execution_count": null,
   "metadata": {},
   "outputs": [],
   "source": [
    "Y_train_df.groupby('unique_id').size()"
   ]
  },
  {
   "attachments": {},
   "cell_type": "markdown",
   "metadata": {},
   "source": [
    "## 2. Computing base forecasts\n",
    "\n",
    "The following cell computes the **base forecasts** for each time series in `Y_df` using the `ETS` model. Observe that `Y_hat_df` contains the forecasts but they are not coherent."
   ]
  },
  {
   "cell_type": "code",
   "execution_count": null,
   "metadata": {},
   "outputs": [],
   "source": [
    "%%capture\n",
    "from statsforecast.models import AutoETS\n",
    "from statsforecast.core import StatsForecast"
   ]
  },
  {
   "cell_type": "code",
   "execution_count": null,
   "metadata": {},
   "outputs": [],
   "source": [
    "%%capture\n",
    "fcst = StatsForecast(models=[AutoETS(season_length=4, model='ZZA')], \n",
    "                     freq='QS', n_jobs=-1)\n",
    "Y_hat_df_stats = fcst.forecast(df=Y_train_df, h=8, fitted=True)\n",
    "Y_fitted_df_stats = fcst.forecast_fitted_values()"
   ]
  },
  {
   "cell_type": "code",
   "execution_count": null,
   "metadata": {},
   "outputs": [],
   "source": [
    "%%capture\n",
    "import lightgbm as lgb\n",
    "from sklearn.ensemble import HistGradientBoostingRegressor\n",
    "from mlforecast.lag_transforms import ExpandingMean, RollingMean, ExpandingStd\n",
    "from mlforecast.target_transforms import Differences\n",
    "from mlforecast import MLForecast"
   ]
  },
  {
   "cell_type": "code",
   "execution_count": null,
   "metadata": {},
   "outputs": [],
   "source": [
    "%%capture\n",
    "mlf = MLForecast(\n",
    "    models = {\n",
    "        'lgbm': lgb.LGBMRegressor(verbosity=-1),\n",
    "        'gbm':HistGradientBoostingRegressor()\n",
    "    }, \n",
    "    freq='QS',\n",
    "    target_transforms=[Differences([1, 4])],\n",
    "    lags=[1, 2, 3, 4, 5, 6, 7, 8, 12],\n",
    "    lag_transforms={  \n",
    "        1: [ExpandingMean(), RollingMean(window_size=4)],\n",
    "        4: [ExpandingMean(), RollingMean(window_size=2), RollingMean(window_size=4)],\n",
    "        8: [RollingMean(window_size=4)]\n",
    "    },\n",
    "    date_features=['quarter', 'year']\n",
    ")\n",
    "mlf.fit(Y_train_df, fitted=True)\n",
    "Y_hat_df_ml = mlf.predict(new_df=Y_train_df, h=8)\n",
    "Y_fitted_df_ml = mlf.forecast_fitted_values()"
   ]
  },
  {
   "cell_type": "code",
   "execution_count": null,
   "metadata": {},
   "outputs": [],
   "source": [
    "# TODO: Neuralforecast"
   ]
  },
  {
   "cell_type": "code",
   "execution_count": null,
   "metadata": {},
   "outputs": [],
   "source": [
    "%%capture\n",
    "Y_hat_df = Y_hat_df_stats.merge(Y_hat_df_ml, on=['unique_id', 'ds'])\n",
    "Y_fitted_df = Y_fitted_df_stats.merge(Y_fitted_df_ml, on=['unique_id', 'ds', 'y'])"
   ]
  },
  {
   "attachments": {},
   "cell_type": "markdown",
   "metadata": {},
   "source": [
    "## 3. Reconcile forecasts\n",
    "\n",
    "The following cell makes the previous forecasts coherent using the `HierarchicalReconciliation` class. Since the hierarchy structure is not strict, we can't use methods such as `TopDown` or `MiddleOut`. In this example we use `BottomUp` and `MinTrace`."
   ]
  },
  {
   "cell_type": "code",
   "execution_count": null,
   "metadata": {},
   "outputs": [],
   "source": [
    "from hierarchicalforecast.methods import BottomUp, MinTrace\n",
    "from hierarchicalforecast.core import HierarchicalReconciliation"
   ]
  },
  {
   "cell_type": "code",
   "execution_count": null,
   "metadata": {},
   "outputs": [],
   "source": [
    "reconcilers = [\n",
    "    BottomUp(),\n",
    "    MinTrace(method='mint_shrink'),\n",
    "    MinTrace(method='ols')\n",
    "]\n",
    "hrec = HierarchicalReconciliation(reconcilers=reconcilers)\n",
    "Y_rec_df = hrec.reconcile(Y_hat_df=Y_hat_df, Y_df=Y_fitted_df, S=S_df, tags=tags)"
   ]
  },
  {
   "cell_type": "markdown",
   "metadata": {},
   "source": [
    "The dataframe `Y_rec_df` contains the reconciled forecasts."
   ]
  },
  {
   "cell_type": "code",
   "execution_count": null,
   "metadata": {},
   "outputs": [
    {
     "data": {
      "text/html": [
       "<div>\n",
       "<style scoped>\n",
       "    .dataframe tbody tr th:only-of-type {\n",
       "        vertical-align: middle;\n",
       "    }\n",
       "\n",
       "    .dataframe tbody tr th {\n",
       "        vertical-align: top;\n",
       "    }\n",
       "\n",
       "    .dataframe thead th {\n",
       "        text-align: right;\n",
       "    }\n",
       "</style>\n",
       "<table border=\"1\" class=\"dataframe\">\n",
       "  <thead>\n",
       "    <tr style=\"text-align: right;\">\n",
       "      <th></th>\n",
       "      <th>unique_id</th>\n",
       "      <th>ds</th>\n",
       "      <th>AutoETS</th>\n",
       "      <th>lgbm</th>\n",
       "      <th>knn</th>\n",
       "      <th>gbm</th>\n",
       "      <th>AutoETS/BottomUp</th>\n",
       "      <th>lgbm/BottomUp</th>\n",
       "      <th>knn/BottomUp</th>\n",
       "      <th>gbm/BottomUp</th>\n",
       "      <th>AutoETS/MinTrace_method-mint_shrink</th>\n",
       "      <th>lgbm/MinTrace_method-mint_shrink</th>\n",
       "      <th>knn/MinTrace_method-mint_shrink</th>\n",
       "      <th>gbm/MinTrace_method-mint_shrink</th>\n",
       "      <th>AutoETS/MinTrace_method-ols</th>\n",
       "      <th>lgbm/MinTrace_method-ols</th>\n",
       "      <th>knn/MinTrace_method-ols</th>\n",
       "      <th>gbm/MinTrace_method-ols</th>\n",
       "    </tr>\n",
       "  </thead>\n",
       "  <tbody>\n",
       "    <tr>\n",
       "      <th>0</th>\n",
       "      <td>Australia</td>\n",
       "      <td>2016-01-01</td>\n",
       "      <td>25990.068004</td>\n",
       "      <td>26523.543195</td>\n",
       "      <td>26500.318899</td>\n",
       "      <td>26720.376418</td>\n",
       "      <td>24381.672901</td>\n",
       "      <td>26945.553515</td>\n",
       "      <td>26760.608551</td>\n",
       "      <td>27030.626551</td>\n",
       "      <td>25397.376120</td>\n",
       "      <td>26894.104305</td>\n",
       "      <td>26712.629478</td>\n",
       "      <td>27006.091018</td>\n",
       "      <td>25894.419896</td>\n",
       "      <td>26641.438835</td>\n",
       "      <td>26563.968000</td>\n",
       "      <td>26792.200028</td>\n",
       "    </tr>\n",
       "    <tr>\n",
       "      <th>1</th>\n",
       "      <td>Australia</td>\n",
       "      <td>2016-04-01</td>\n",
       "      <td>24458.490282</td>\n",
       "      <td>24900.590405</td>\n",
       "      <td>24973.510958</td>\n",
       "      <td>24946.522366</td>\n",
       "      <td>22903.194016</td>\n",
       "      <td>26028.446233</td>\n",
       "      <td>26004.778564</td>\n",
       "      <td>26041.715196</td>\n",
       "      <td>23908.561820</td>\n",
       "      <td>25482.092771</td>\n",
       "      <td>25581.008937</td>\n",
       "      <td>25625.736968</td>\n",
       "      <td>24357.231461</td>\n",
       "      <td>25109.570985</td>\n",
       "      <td>25051.241552</td>\n",
       "      <td>25189.605116</td>\n",
       "    </tr>\n",
       "    <tr>\n",
       "      <th>2</th>\n",
       "      <td>Australia</td>\n",
       "      <td>2016-07-01</td>\n",
       "      <td>23974.055984</td>\n",
       "      <td>24139.018873</td>\n",
       "      <td>24438.339374</td>\n",
       "      <td>24554.762276</td>\n",
       "      <td>22411.401317</td>\n",
       "      <td>25345.135452</td>\n",
       "      <td>25406.127923</td>\n",
       "      <td>25400.038854</td>\n",
       "      <td>23401.977371</td>\n",
       "      <td>25040.504194</td>\n",
       "      <td>24942.231775</td>\n",
       "      <td>25292.196895</td>\n",
       "      <td>23865.928094</td>\n",
       "      <td>24451.714310</td>\n",
       "      <td>24562.536177</td>\n",
       "      <td>24822.730031</td>\n",
       "    </tr>\n",
       "    <tr>\n",
       "      <th>3</th>\n",
       "      <td>Australia</td>\n",
       "      <td>2016-10-01</td>\n",
       "      <td>24563.454495</td>\n",
       "      <td>26281.353485</td>\n",
       "      <td>26155.502665</td>\n",
       "      <td>26371.293563</td>\n",
       "      <td>23127.009693</td>\n",
       "      <td>26969.492032</td>\n",
       "      <td>27171.738862</td>\n",
       "      <td>26989.209978</td>\n",
       "      <td>24079.062804</td>\n",
       "      <td>26714.081669</td>\n",
       "      <td>26512.662099</td>\n",
       "      <td>26788.474306</td>\n",
       "      <td>24470.780870</td>\n",
       "      <td>26416.665730</td>\n",
       "      <td>26261.866112</td>\n",
       "      <td>26511.341898</td>\n",
       "    </tr>\n",
       "    <tr>\n",
       "      <th>4</th>\n",
       "      <td>Australia</td>\n",
       "      <td>2017-01-01</td>\n",
       "      <td>25990.068004</td>\n",
       "      <td>27341.272132</td>\n",
       "      <td>27533.213037</td>\n",
       "      <td>27455.293840</td>\n",
       "      <td>24518.047369</td>\n",
       "      <td>28893.386507</td>\n",
       "      <td>28735.701784</td>\n",
       "      <td>28974.810529</td>\n",
       "      <td>25531.236531</td>\n",
       "      <td>28131.721866</td>\n",
       "      <td>28052.346886</td>\n",
       "      <td>28257.463978</td>\n",
       "      <td>25901.383310</td>\n",
       "      <td>27592.439681</td>\n",
       "      <td>27696.836697</td>\n",
       "      <td>27692.431358</td>\n",
       "    </tr>\n",
       "  </tbody>\n",
       "</table>\n",
       "</div>"
      ],
      "text/plain": [
       "   unique_id         ds       AutoETS          lgbm           knn  \\\n",
       "0  Australia 2016-01-01  25990.068004  26523.543195  26500.318899   \n",
       "1  Australia 2016-04-01  24458.490282  24900.590405  24973.510958   \n",
       "2  Australia 2016-07-01  23974.055984  24139.018873  24438.339374   \n",
       "3  Australia 2016-10-01  24563.454495  26281.353485  26155.502665   \n",
       "4  Australia 2017-01-01  25990.068004  27341.272132  27533.213037   \n",
       "\n",
       "            gbm  AutoETS/BottomUp  lgbm/BottomUp  knn/BottomUp  gbm/BottomUp  \\\n",
       "0  26720.376418      24381.672901   26945.553515  26760.608551  27030.626551   \n",
       "1  24946.522366      22903.194016   26028.446233  26004.778564  26041.715196   \n",
       "2  24554.762276      22411.401317   25345.135452  25406.127923  25400.038854   \n",
       "3  26371.293563      23127.009693   26969.492032  27171.738862  26989.209978   \n",
       "4  27455.293840      24518.047369   28893.386507  28735.701784  28974.810529   \n",
       "\n",
       "   AutoETS/MinTrace_method-mint_shrink  lgbm/MinTrace_method-mint_shrink  \\\n",
       "0                         25397.376120                      26894.104305   \n",
       "1                         23908.561820                      25482.092771   \n",
       "2                         23401.977371                      25040.504194   \n",
       "3                         24079.062804                      26714.081669   \n",
       "4                         25531.236531                      28131.721866   \n",
       "\n",
       "   knn/MinTrace_method-mint_shrink  gbm/MinTrace_method-mint_shrink  \\\n",
       "0                     26712.629478                     27006.091018   \n",
       "1                     25581.008937                     25625.736968   \n",
       "2                     24942.231775                     25292.196895   \n",
       "3                     26512.662099                     26788.474306   \n",
       "4                     28052.346886                     28257.463978   \n",
       "\n",
       "   AutoETS/MinTrace_method-ols  lgbm/MinTrace_method-ols  \\\n",
       "0                 25894.419896              26641.438835   \n",
       "1                 24357.231461              25109.570985   \n",
       "2                 23865.928094              24451.714310   \n",
       "3                 24470.780870              26416.665730   \n",
       "4                 25901.383310              27592.439681   \n",
       "\n",
       "   knn/MinTrace_method-ols  gbm/MinTrace_method-ols  \n",
       "0             26563.968000             26792.200028  \n",
       "1             25051.241552             25189.605116  \n",
       "2             24562.536177             24822.730031  \n",
       "3             26261.866112             26511.341898  \n",
       "4             27696.836697             27692.431358  "
      ]
     },
     "execution_count": null,
     "metadata": {},
     "output_type": "execute_result"
    }
   ],
   "source": [
    "Y_rec_df.head()"
   ]
  },
  {
   "attachments": {},
   "cell_type": "markdown",
   "metadata": {},
   "source": [
    "## 4. Evaluation \n",
    "\n",
    "The `HierarchicalForecast` package includes an `evaluate` function to evaluate the different hierarchies and also is capable of compute scaled metrics compared to a benchmark model."
   ]
  },
  {
   "cell_type": "code",
   "execution_count": null,
   "metadata": {},
   "outputs": [],
   "source": [
    "from hierarchicalforecast.evaluation import evaluate\n",
    "from utilsforecast.losses import rmse, mase\n",
    "from functools import partial"
   ]
  },
  {
   "cell_type": "code",
   "execution_count": null,
   "metadata": {},
   "outputs": [],
   "source": [
    "eval_tags = {}\n",
    "eval_tags['Total'] = tags['Country']\n",
    "eval_tags['Purpose'] = tags['Country/Purpose']\n",
    "eval_tags['State'] = tags['Country/State']\n",
    "eval_tags['Regions'] = tags['Country/State/Region']\n",
    "eval_tags['Bottom'] = tags['Country/State/Region/Purpose']\n",
    "\n",
    "df = Y_rec_df.merge(Y_test_df, on=['unique_id', 'ds'])\n",
    "evaluation = evaluate(df = df,\n",
    "                      tags = eval_tags,\n",
    "                      train_df = Y_train_df,\n",
    "                      metrics = [rmse,\n",
    "                                 partial(mase, seasonality=4)])\n",
    "\n",
    "#evaluation.columns = ['level', 'metric', 'Base', 'BottomUp', 'MinTrace(mint_shrink)', 'MinTrace(ols)']\n",
    "#TODO: Format columns in a programatic level\n",
    "numeric_cols = evaluation.select_dtypes(include=\"number\").columns\n",
    "evaluation[numeric_cols] = evaluation[numeric_cols].map('{:.2f}'.format).astype(np.float64)"
   ]
  },
  {
   "cell_type": "markdown",
   "metadata": {},
   "source": [
    "### RMSE\n",
    "\n",
    "The following table shows the performance measured using RMSE across levels for each reconciliation method."
   ]
  },
  {
   "cell_type": "code",
   "execution_count": null,
   "metadata": {},
   "outputs": [],
   "source": [
    "%%capture\n",
    "evaluation.query('metric == \"rmse\"')"
   ]
  },
  {
   "cell_type": "markdown",
   "metadata": {},
   "source": [
    "### MASE\n",
    "\n",
    "\n",
    "The following table shows the performance measured using MASE across levels for each reconciliation method."
   ]
  },
  {
   "cell_type": "code",
   "execution_count": null,
   "metadata": {},
   "outputs": [
    {
     "data": {
      "text/html": [
       "<div>\n",
       "<style scoped>\n",
       "    .dataframe tbody tr th:only-of-type {\n",
       "        vertical-align: middle;\n",
       "    }\n",
       "\n",
       "    .dataframe tbody tr th {\n",
       "        vertical-align: top;\n",
       "    }\n",
       "\n",
       "    .dataframe thead th {\n",
       "        text-align: right;\n",
       "    }\n",
       "</style>\n",
       "<table border=\"1\" class=\"dataframe\">\n",
       "  <thead>\n",
       "    <tr style=\"text-align: right;\">\n",
       "      <th></th>\n",
       "      <th>level</th>\n",
       "      <th>metric</th>\n",
       "      <th>AutoETS</th>\n",
       "      <th>lgbm</th>\n",
       "      <th>knn</th>\n",
       "      <th>gbm</th>\n",
       "      <th>AutoETS/BottomUp</th>\n",
       "      <th>lgbm/BottomUp</th>\n",
       "      <th>knn/BottomUp</th>\n",
       "      <th>gbm/BottomUp</th>\n",
       "      <th>AutoETS/MinTrace_method-mint_shrink</th>\n",
       "      <th>lgbm/MinTrace_method-mint_shrink</th>\n",
       "      <th>knn/MinTrace_method-mint_shrink</th>\n",
       "      <th>gbm/MinTrace_method-mint_shrink</th>\n",
       "      <th>AutoETS/MinTrace_method-ols</th>\n",
       "      <th>lgbm/MinTrace_method-ols</th>\n",
       "      <th>knn/MinTrace_method-ols</th>\n",
       "      <th>gbm/MinTrace_method-ols</th>\n",
       "    </tr>\n",
       "  </thead>\n",
       "  <tbody>\n",
       "    <tr>\n",
       "      <th>1</th>\n",
       "      <td>Total</td>\n",
       "      <td>mase</td>\n",
       "      <td>1.59</td>\n",
       "      <td>0.40</td>\n",
       "      <td>0.29</td>\n",
       "      <td>0.31</td>\n",
       "      <td>3.16</td>\n",
       "      <td>1.32</td>\n",
       "      <td>1.46</td>\n",
       "      <td>1.45</td>\n",
       "      <td>2.07</td>\n",
       "      <td>0.72</td>\n",
       "      <td>0.67</td>\n",
       "      <td>0.87</td>\n",
       "      <td>1.67</td>\n",
       "      <td>0.32</td>\n",
       "      <td>0.30</td>\n",
       "      <td>0.40</td>\n",
       "    </tr>\n",
       "    <tr>\n",
       "      <th>3</th>\n",
       "      <td>Purpose</td>\n",
       "      <td>mase</td>\n",
       "      <td>1.32</td>\n",
       "      <td>1.12</td>\n",
       "      <td>1.04</td>\n",
       "      <td>1.07</td>\n",
       "      <td>2.28</td>\n",
       "      <td>1.48</td>\n",
       "      <td>1.79</td>\n",
       "      <td>1.55</td>\n",
       "      <td>1.49</td>\n",
       "      <td>1.06</td>\n",
       "      <td>1.16</td>\n",
       "      <td>1.12</td>\n",
       "      <td>1.25</td>\n",
       "      <td>0.88</td>\n",
       "      <td>0.97</td>\n",
       "      <td>0.90</td>\n",
       "    </tr>\n",
       "    <tr>\n",
       "      <th>5</th>\n",
       "      <td>State</td>\n",
       "      <td>mase</td>\n",
       "      <td>1.39</td>\n",
       "      <td>1.42</td>\n",
       "      <td>1.42</td>\n",
       "      <td>1.43</td>\n",
       "      <td>1.90</td>\n",
       "      <td>1.52</td>\n",
       "      <td>1.52</td>\n",
       "      <td>1.61</td>\n",
       "      <td>1.41</td>\n",
       "      <td>1.41</td>\n",
       "      <td>1.24</td>\n",
       "      <td>1.43</td>\n",
       "      <td>1.25</td>\n",
       "      <td>1.28</td>\n",
       "      <td>1.28</td>\n",
       "      <td>1.26</td>\n",
       "    </tr>\n",
       "    <tr>\n",
       "      <th>7</th>\n",
       "      <td>Regions</td>\n",
       "      <td>mase</td>\n",
       "      <td>1.12</td>\n",
       "      <td>1.21</td>\n",
       "      <td>1.40</td>\n",
       "      <td>1.22</td>\n",
       "      <td>1.19</td>\n",
       "      <td>1.24</td>\n",
       "      <td>1.46</td>\n",
       "      <td>1.27</td>\n",
       "      <td>1.01</td>\n",
       "      <td>1.19</td>\n",
       "      <td>1.32</td>\n",
       "      <td>1.21</td>\n",
       "      <td>0.99</td>\n",
       "      <td>1.15</td>\n",
       "      <td>1.39</td>\n",
       "      <td>1.16</td>\n",
       "    </tr>\n",
       "    <tr>\n",
       "      <th>9</th>\n",
       "      <td>Bottom</td>\n",
       "      <td>mase</td>\n",
       "      <td>0.98</td>\n",
       "      <td>1.29</td>\n",
       "      <td>1.66</td>\n",
       "      <td>1.34</td>\n",
       "      <td>0.98</td>\n",
       "      <td>1.29</td>\n",
       "      <td>1.66</td>\n",
       "      <td>1.34</td>\n",
       "      <td>0.94</td>\n",
       "      <td>1.26</td>\n",
       "      <td>1.61</td>\n",
       "      <td>1.31</td>\n",
       "      <td>1.01</td>\n",
       "      <td>1.32</td>\n",
       "      <td>1.78</td>\n",
       "      <td>1.34</td>\n",
       "    </tr>\n",
       "    <tr>\n",
       "      <th>11</th>\n",
       "      <td>Overall</td>\n",
       "      <td>mase</td>\n",
       "      <td>1.02</td>\n",
       "      <td>1.27</td>\n",
       "      <td>1.60</td>\n",
       "      <td>1.32</td>\n",
       "      <td>1.06</td>\n",
       "      <td>1.29</td>\n",
       "      <td>1.62</td>\n",
       "      <td>1.34</td>\n",
       "      <td>0.97</td>\n",
       "      <td>1.25</td>\n",
       "      <td>1.54</td>\n",
       "      <td>1.29</td>\n",
       "      <td>1.02</td>\n",
       "      <td>1.28</td>\n",
       "      <td>1.68</td>\n",
       "      <td>1.30</td>\n",
       "    </tr>\n",
       "  </tbody>\n",
       "</table>\n",
       "</div>"
      ],
      "text/plain": [
       "      level metric  AutoETS  lgbm   knn   gbm  AutoETS/BottomUp  \\\n",
       "1     Total   mase     1.59  0.40  0.29  0.31              3.16   \n",
       "3   Purpose   mase     1.32  1.12  1.04  1.07              2.28   \n",
       "5     State   mase     1.39  1.42  1.42  1.43              1.90   \n",
       "7   Regions   mase     1.12  1.21  1.40  1.22              1.19   \n",
       "9    Bottom   mase     0.98  1.29  1.66  1.34              0.98   \n",
       "11  Overall   mase     1.02  1.27  1.60  1.32              1.06   \n",
       "\n",
       "    lgbm/BottomUp  knn/BottomUp  gbm/BottomUp  \\\n",
       "1            1.32          1.46          1.45   \n",
       "3            1.48          1.79          1.55   \n",
       "5            1.52          1.52          1.61   \n",
       "7            1.24          1.46          1.27   \n",
       "9            1.29          1.66          1.34   \n",
       "11           1.29          1.62          1.34   \n",
       "\n",
       "    AutoETS/MinTrace_method-mint_shrink  lgbm/MinTrace_method-mint_shrink  \\\n",
       "1                                  2.07                              0.72   \n",
       "3                                  1.49                              1.06   \n",
       "5                                  1.41                              1.41   \n",
       "7                                  1.01                              1.19   \n",
       "9                                  0.94                              1.26   \n",
       "11                                 0.97                              1.25   \n",
       "\n",
       "    knn/MinTrace_method-mint_shrink  gbm/MinTrace_method-mint_shrink  \\\n",
       "1                              0.67                             0.87   \n",
       "3                              1.16                             1.12   \n",
       "5                              1.24                             1.43   \n",
       "7                              1.32                             1.21   \n",
       "9                              1.61                             1.31   \n",
       "11                             1.54                             1.29   \n",
       "\n",
       "    AutoETS/MinTrace_method-ols  lgbm/MinTrace_method-ols  \\\n",
       "1                          1.67                      0.32   \n",
       "3                          1.25                      0.88   \n",
       "5                          1.25                      1.28   \n",
       "7                          0.99                      1.15   \n",
       "9                          1.01                      1.32   \n",
       "11                         1.02                      1.28   \n",
       "\n",
       "    knn/MinTrace_method-ols  gbm/MinTrace_method-ols  \n",
       "1                      0.30                     0.40  \n",
       "3                      0.97                     0.90  \n",
       "5                      1.28                     1.26  \n",
       "7                      1.39                     1.16  \n",
       "9                      1.78                     1.34  \n",
       "11                     1.68                     1.30  "
      ]
     },
     "execution_count": null,
     "metadata": {},
     "output_type": "execute_result"
    }
   ],
   "source": [
    "evaluation.query('metric == \"mase\"')"
   ]
  },
  {
   "cell_type": "code",
   "execution_count": null,
   "metadata": {},
   "outputs": [],
   "source": [
    "# TODO: Put only the results that are in the table"
   ]
  },
  {
   "cell_type": "markdown",
   "metadata": {},
   "source": [
    "### Comparison fable\n",
    "\n",
    "Observe that we can recover the results reported by the [Forecasting: Principles and Practice](https://otexts.com/fpp3/tourism.html). The original results were calculated using the R package [fable](https://github.com/tidyverts/fable).\n",
    "\n",
    "![Fable's reconciliation results](./imgs/AustralianDomesticTourism-results-fable.png)"
   ]
  },
  {
   "cell_type": "markdown",
   "metadata": {},
   "source": [
    "### References\n",
    "- [Hyndman, R.J., & Athanasopoulos, G. (2021). \"Forecasting: principles and practice, 3rd edition: \n",
    "Chapter 11: Forecasting hierarchical and grouped series.\". OTexts: Melbourne, Australia. OTexts.com/fpp3 \n",
    "Accessed on July 2022.](https://otexts.com/fpp3/hierarchical.html)\n",
    "- [Rob Hyndman, Alan Lee, Earo Wang, Shanika Wickramasuriya, and Maintainer Earo Wang (2021). \"hts: Hierarchical and Grouped Time Series\". URL https://CRAN.R-project.org/package=hts. R package version 0.3.1.](https://cran.r-project.org/web/packages/hts/index.html)\n",
    "- [Mitchell O’Hara-Wild, Rob Hyndman, Earo Wang, Gabriel Caceres, Tim-Gunnar Hensel, and Timothy Hyndman (2021). \"fable: Forecasting Models for Tidy Time Series\". URL https://CRAN.R-project.org/package=fable. R package version 6.0.2.](https://CRAN.R-project.org/package=fable)"
   ]
  }
 ],
 "metadata": {
  "kernelspec": {
   "display_name": "python3",
   "language": "python",
   "name": "python3"
  }
 },
 "nbformat": 4,
 "nbformat_minor": 4
}
