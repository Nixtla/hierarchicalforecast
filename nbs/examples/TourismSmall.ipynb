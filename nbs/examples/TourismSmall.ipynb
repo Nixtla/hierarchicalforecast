{
 "cells": [
  {
   "attachments": {},
   "cell_type": "markdown",
   "id": "843cf8de-d678-4243-a8af-d78439058e6a",
   "metadata": {},
   "source": [
    "# Quick Start\n",
    "\n",
    "> Minimal Example of Hierarchical Reconciliation"
   ]
  },
  {
   "attachments": {},
   "cell_type": "markdown",
   "id": "0a836410-7063-4766-b03c-7d22b6abe457",
   "metadata": {},
   "source": [
    "Large collections of time series organized into structures at different aggregation levels often require their forecasts to follow their aggregation constraints, which poses the challenge of creating novel algorithms capable of coherent forecasts.\n",
    "\n",
    "The `HierarchicalForecast` package provides a wide collection of Python implementations of hierarchical forecasting algorithms that follow classic hierarchical reconciliation.\n",
    "\n",
    "In this notebook we will show how to use the `StatsForecast` library to produce base forecasts, and use `HierarchicalForecast` package to perform hierarchical reconciliation."
   ]
  },
  {
   "attachments": {},
   "cell_type": "markdown",
   "id": "46e647a5",
   "metadata": {},
   "source": [
    "You can run these experiments using CPU or GPU with Google Colab.\n",
    "\n",
    "<a href=\"https://colab.research.google.com/github/Nixtla/hierarchicalforecast/blob/main/nbs/examples/TourismSmall.ipynb\" target=\"_parent\"><img src=\"https://colab.research.google.com/assets/colab-badge.svg\" alt=\"Open In Colab\"/></a>"
   ]
  },
  {
   "attachments": {},
   "cell_type": "markdown",
   "id": "c0dc4e6d",
   "metadata": {},
   "source": [
    "## 1. Libraries"
   ]
  },
  {
   "cell_type": "code",
   "execution_count": null,
   "id": "7f777bdd-dff4-4bc0-8529-b492874de6f0",
   "metadata": {},
   "outputs": [],
   "source": [
    "%%capture\n",
    "!pip install hierarchicalforecast statsforecast datasetsforecast"
   ]
  },
  {
   "attachments": {},
   "cell_type": "markdown",
   "id": "6221152f",
   "metadata": {},
   "source": [
    "## 2. Load Data"
   ]
  },
  {
   "attachments": {},
   "cell_type": "markdown",
   "id": "9809d816",
   "metadata": {},
   "source": [
    "In this example we will use the `TourismSmall` dataset. The following cell gets the time series for the different levels in the hierarchy, the summing matrix `S` which recovers the full dataset from the bottom level hierarchy and the indices of each hierarchy denoted by `tags`."
   ]
  },
  {
   "cell_type": "code",
   "execution_count": null,
   "id": "f7a5828a-2fb4-4811-9e07-0ee291331978",
   "metadata": {},
   "outputs": [],
   "source": [
    "import pandas as pd\n",
    "\n",
    "from datasetsforecast.hierarchical import HierarchicalData, HierarchicalInfo"
   ]
  },
  {
   "cell_type": "code",
   "execution_count": null,
   "id": "c18a4300-5b8f-45b5-92ce-e52f8c4dab20",
   "metadata": {},
   "outputs": [],
   "source": [
    "group_name = 'TourismSmall'\n",
    "group = HierarchicalInfo.get_group(group_name)\n",
    "Y_df, S_df, tags = HierarchicalData.load('./data', group_name)\n",
    "S_df = S_df.reset_index(names=\"unique_id\")\n",
    "Y_df['ds'] = pd.to_datetime(Y_df['ds'])"
   ]
  },
  {
   "cell_type": "code",
   "execution_count": null,
   "id": "b964394e-6a79-4c75-be74-3c3994e1bf58",
   "metadata": {},
   "outputs": [
    {
     "data": {
      "text/html": [
       "<div>\n",
       "<style scoped>\n",
       "    .dataframe tbody tr th:only-of-type {\n",
       "        vertical-align: middle;\n",
       "    }\n",
       "\n",
       "    .dataframe tbody tr th {\n",
       "        vertical-align: top;\n",
       "    }\n",
       "\n",
       "    .dataframe thead th {\n",
       "        text-align: right;\n",
       "    }\n",
       "</style>\n",
       "<table border=\"1\" class=\"dataframe\">\n",
       "  <thead>\n",
       "    <tr style=\"text-align: right;\">\n",
       "      <th></th>\n",
       "      <th>unique_id</th>\n",
       "      <th>nsw-hol-city</th>\n",
       "      <th>nsw-hol-noncity</th>\n",
       "      <th>vic-hol-city</th>\n",
       "      <th>vic-hol-noncity</th>\n",
       "      <th>qld-hol-city</th>\n",
       "    </tr>\n",
       "  </thead>\n",
       "  <tbody>\n",
       "    <tr>\n",
       "      <th>0</th>\n",
       "      <td>total</td>\n",
       "      <td>1.0</td>\n",
       "      <td>1.0</td>\n",
       "      <td>1.0</td>\n",
       "      <td>1.0</td>\n",
       "      <td>1.0</td>\n",
       "    </tr>\n",
       "    <tr>\n",
       "      <th>1</th>\n",
       "      <td>hol</td>\n",
       "      <td>1.0</td>\n",
       "      <td>1.0</td>\n",
       "      <td>1.0</td>\n",
       "      <td>1.0</td>\n",
       "      <td>1.0</td>\n",
       "    </tr>\n",
       "    <tr>\n",
       "      <th>2</th>\n",
       "      <td>vfr</td>\n",
       "      <td>0.0</td>\n",
       "      <td>0.0</td>\n",
       "      <td>0.0</td>\n",
       "      <td>0.0</td>\n",
       "      <td>0.0</td>\n",
       "    </tr>\n",
       "    <tr>\n",
       "      <th>3</th>\n",
       "      <td>bus</td>\n",
       "      <td>0.0</td>\n",
       "      <td>0.0</td>\n",
       "      <td>0.0</td>\n",
       "      <td>0.0</td>\n",
       "      <td>0.0</td>\n",
       "    </tr>\n",
       "    <tr>\n",
       "      <th>4</th>\n",
       "      <td>oth</td>\n",
       "      <td>0.0</td>\n",
       "      <td>0.0</td>\n",
       "      <td>0.0</td>\n",
       "      <td>0.0</td>\n",
       "      <td>0.0</td>\n",
       "    </tr>\n",
       "    <tr>\n",
       "      <th>5</th>\n",
       "      <td>nsw-hol</td>\n",
       "      <td>1.0</td>\n",
       "      <td>1.0</td>\n",
       "      <td>0.0</td>\n",
       "      <td>0.0</td>\n",
       "      <td>0.0</td>\n",
       "    </tr>\n",
       "  </tbody>\n",
       "</table>\n",
       "</div>"
      ],
      "text/plain": [
       "  unique_id  nsw-hol-city  nsw-hol-noncity  vic-hol-city  vic-hol-noncity  \\\n",
       "0     total           1.0              1.0           1.0              1.0   \n",
       "1       hol           1.0              1.0           1.0              1.0   \n",
       "2       vfr           0.0              0.0           0.0              0.0   \n",
       "3       bus           0.0              0.0           0.0              0.0   \n",
       "4       oth           0.0              0.0           0.0              0.0   \n",
       "5   nsw-hol           1.0              1.0           0.0              0.0   \n",
       "\n",
       "   qld-hol-city  \n",
       "0           1.0  \n",
       "1           1.0  \n",
       "2           0.0  \n",
       "3           0.0  \n",
       "4           0.0  \n",
       "5           0.0  "
      ]
     },
     "execution_count": null,
     "metadata": {},
     "output_type": "execute_result"
    }
   ],
   "source": [
    "S_df.iloc[:6, :6]"
   ]
  },
  {
   "cell_type": "code",
   "execution_count": null,
   "id": "fd32f1a5-2b60-454e-afc9-6911f84f6698",
   "metadata": {},
   "outputs": [
    {
     "data": {
      "text/plain": [
       "{'Country': array(['total'], dtype=object),\n",
       " 'Country/Purpose': array(['hol', 'vfr', 'bus', 'oth'], dtype=object),\n",
       " 'Country/Purpose/State': array(['nsw-hol', 'vic-hol', 'qld-hol', 'sa-hol', 'wa-hol', 'tas-hol',\n",
       "        'nt-hol', 'nsw-vfr', 'vic-vfr', 'qld-vfr', 'sa-vfr', 'wa-vfr',\n",
       "        'tas-vfr', 'nt-vfr', 'nsw-bus', 'vic-bus', 'qld-bus', 'sa-bus',\n",
       "        'wa-bus', 'tas-bus', 'nt-bus', 'nsw-oth', 'vic-oth', 'qld-oth',\n",
       "        'sa-oth', 'wa-oth', 'tas-oth', 'nt-oth'], dtype=object),\n",
       " 'Country/Purpose/State/CityNonCity': array(['nsw-hol-city', 'nsw-hol-noncity', 'vic-hol-city',\n",
       "        'vic-hol-noncity', 'qld-hol-city', 'qld-hol-noncity',\n",
       "        'sa-hol-city', 'sa-hol-noncity', 'wa-hol-city', 'wa-hol-noncity',\n",
       "        'tas-hol-city', 'tas-hol-noncity', 'nt-hol-city', 'nt-hol-noncity',\n",
       "        'nsw-vfr-city', 'nsw-vfr-noncity', 'vic-vfr-city',\n",
       "        'vic-vfr-noncity', 'qld-vfr-city', 'qld-vfr-noncity',\n",
       "        'sa-vfr-city', 'sa-vfr-noncity', 'wa-vfr-city', 'wa-vfr-noncity',\n",
       "        'tas-vfr-city', 'tas-vfr-noncity', 'nt-vfr-city', 'nt-vfr-noncity',\n",
       "        'nsw-bus-city', 'nsw-bus-noncity', 'vic-bus-city',\n",
       "        'vic-bus-noncity', 'qld-bus-city', 'qld-bus-noncity',\n",
       "        'sa-bus-city', 'sa-bus-noncity', 'wa-bus-city', 'wa-bus-noncity',\n",
       "        'tas-bus-city', 'tas-bus-noncity', 'nt-bus-city', 'nt-bus-noncity',\n",
       "        'nsw-oth-city', 'nsw-oth-noncity', 'vic-oth-city',\n",
       "        'vic-oth-noncity', 'qld-oth-city', 'qld-oth-noncity',\n",
       "        'sa-oth-city', 'sa-oth-noncity', 'wa-oth-city', 'wa-oth-noncity',\n",
       "        'tas-oth-city', 'tas-oth-noncity', 'nt-oth-city', 'nt-oth-noncity'],\n",
       "       dtype=object)}"
      ]
     },
     "execution_count": null,
     "metadata": {},
     "output_type": "execute_result"
    }
   ],
   "source": [
    "tags"
   ]
  },
  {
   "cell_type": "markdown",
   "id": "56a7aadb-6e2c-456a-a0b5-b29b30deadb5",
   "metadata": {},
   "source": [
    "We split the dataframe in train/test splits."
   ]
  },
  {
   "cell_type": "code",
   "execution_count": null,
   "id": "462451d8-2fc0-445e-9458-908811011dd9",
   "metadata": {},
   "outputs": [],
   "source": [
    "Y_test_df = Y_df.groupby('unique_id').tail(group.horizon)\n",
    "Y_train_df = Y_df.drop(Y_test_df.index)"
   ]
  },
  {
   "attachments": {},
   "cell_type": "markdown",
   "id": "1958d4e6",
   "metadata": {},
   "source": [
    "## 3. Base forecasts"
   ]
  },
  {
   "cell_type": "markdown",
   "id": "b7cfb43a-cd16-418c-a04b-e075c176cc9e",
   "metadata": {},
   "source": [
    "The following cell computes the *base forecast* for each time series using the `auto_arima` and `naive` models. Observe that `Y_hat_df` contains the forecasts but they are not coherent."
   ]
  },
  {
   "cell_type": "code",
   "execution_count": null,
   "id": "ce5017ee",
   "metadata": {},
   "outputs": [],
   "source": [
    "from statsforecast.core import StatsForecast\n",
    "from statsforecast.models import AutoARIMA, Naive"
   ]
  },
  {
   "cell_type": "code",
   "execution_count": null,
   "id": "f99e7b7b-f4b8-4f2f-a1a7-c8be98a1e280",
   "metadata": {},
   "outputs": [],
   "source": [
    "fcst = StatsForecast(\n",
    "    models=[AutoARIMA(season_length=group.seasonality), Naive()], \n",
    "    freq=\"QE\", \n",
    "    n_jobs=-1\n",
    ")\n",
    "Y_hat_df = fcst.forecast(df=Y_train_df, h=group.horizon)"
   ]
  },
  {
   "attachments": {},
   "cell_type": "markdown",
   "id": "ef1c9163",
   "metadata": {},
   "source": [
    "## 4. Hierarchical reconciliation"
   ]
  },
  {
   "attachments": {},
   "cell_type": "markdown",
   "id": "cc296762-2009-4aef-8b31-f24aad9d0787",
   "metadata": {},
   "source": [
    "The following cell makes the previous forecasts coherent using the `HierarchicalReconciliation` class. The used methods to make the forecasts coherent are:\n",
    "\n",
    "- `BottomUp`: The reconciliation of the method is a simple addition to the upper levels.\n",
    "- `TopDown`: The second method constrains the base-level predictions to the top-most aggregate-level serie and then distributes it to the disaggregate series through the use of proportions. \n",
    "- `MiddleOut`: Anchors the base predictions in a middle level."
   ]
  },
  {
   "cell_type": "code",
   "execution_count": null,
   "id": "63ec7e26",
   "metadata": {},
   "outputs": [],
   "source": [
    "from hierarchicalforecast.core import HierarchicalReconciliation\n",
    "from hierarchicalforecast.methods import BottomUp, TopDown, MiddleOut"
   ]
  },
  {
   "cell_type": "code",
   "execution_count": null,
   "id": "a43be9e7-99a9-4981-bfd7-8552efba9751",
   "metadata": {},
   "outputs": [],
   "source": [
    "reconcilers = [\n",
    "    BottomUp(),\n",
    "    TopDown(method='forecast_proportions'),\n",
    "    TopDown(method='proportion_averages'),\n",
    "    MiddleOut(middle_level=\"Country/Purpose/State\", top_down_method=\"proportion_averages\"),\n",
    "]\n",
    "hrec = HierarchicalReconciliation(reconcilers=reconcilers)\n",
    "Y_rec_df = hrec.reconcile(Y_hat_df=Y_hat_df, Y_df=Y_train_df, S_df=S_df, tags=tags)"
   ]
  },
  {
   "attachments": {},
   "cell_type": "markdown",
   "id": "6590a5e2",
   "metadata": {},
   "source": [
    "## 5. Evaluation"
   ]
  },
  {
   "cell_type": "markdown",
   "id": "03c4752c-53f8-4b1f-8169-32075b8e4050",
   "metadata": {},
   "source": [
    "The `HierarchicalForecast` package includes the `evaluate` function to evaluate the different hierarchies and we can use utilsforecast to compute the mean absolute error relative to a baseline model."
   ]
  },
  {
   "cell_type": "code",
   "execution_count": null,
   "id": "0be293f3",
   "metadata": {},
   "outputs": [],
   "source": [
    "from hierarchicalforecast.evaluation import evaluate\n",
    "from utilsforecast.losses import mse"
   ]
  },
  {
   "cell_type": "code",
   "execution_count": null,
   "id": "8599f85a",
   "metadata": {},
   "outputs": [
    {
     "data": {
      "text/html": [
       "<div>\n",
       "<style scoped>\n",
       "    .dataframe tbody tr th:only-of-type {\n",
       "        vertical-align: middle;\n",
       "    }\n",
       "\n",
       "    .dataframe tbody tr th {\n",
       "        vertical-align: top;\n",
       "    }\n",
       "\n",
       "    .dataframe thead th {\n",
       "        text-align: right;\n",
       "    }\n",
       "</style>\n",
       "<table border=\"1\" class=\"dataframe\">\n",
       "  <thead>\n",
       "    <tr style=\"text-align: right;\">\n",
       "      <th></th>\n",
       "      <th></th>\n",
       "      <th>AutoARIMA</th>\n",
       "      <th>AutoARIMA/BottomUp</th>\n",
       "      <th>AutoARIMA/TopDown_method-forecast_proportions</th>\n",
       "      <th>AutoARIMA/TopDown_method-proportion_averages</th>\n",
       "      <th>AutoARIMA/MiddleOut_middle_level-Country/Purpose/State_top_down_method-proportion_averages</th>\n",
       "    </tr>\n",
       "    <tr>\n",
       "      <th>level</th>\n",
       "      <th>metric</th>\n",
       "      <th></th>\n",
       "      <th></th>\n",
       "      <th></th>\n",
       "      <th></th>\n",
       "      <th></th>\n",
       "    </tr>\n",
       "  </thead>\n",
       "  <tbody>\n",
       "    <tr>\n",
       "      <th>Country</th>\n",
       "      <th>mse-scaled</th>\n",
       "      <td>0.317897</td>\n",
       "      <td>0.367078</td>\n",
       "      <td>0.317897</td>\n",
       "      <td>0.317897</td>\n",
       "      <td>0.305053</td>\n",
       "    </tr>\n",
       "    <tr>\n",
       "      <th>Country/Purpose</th>\n",
       "      <th>mse-scaled</th>\n",
       "      <td>0.318950</td>\n",
       "      <td>0.233606</td>\n",
       "      <td>0.262216</td>\n",
       "      <td>0.320225</td>\n",
       "      <td>0.196062</td>\n",
       "    </tr>\n",
       "    <tr>\n",
       "      <th>Country/Purpose/State</th>\n",
       "      <th>mse-scaled</th>\n",
       "      <td>0.268057</td>\n",
       "      <td>0.281189</td>\n",
       "      <td>0.320349</td>\n",
       "      <td>0.511356</td>\n",
       "      <td>0.268057</td>\n",
       "    </tr>\n",
       "    <tr>\n",
       "      <th>Country/Purpose/State/CityNonCity</th>\n",
       "      <th>mse-scaled</th>\n",
       "      <td>0.292136</td>\n",
       "      <td>0.292136</td>\n",
       "      <td>0.323261</td>\n",
       "      <td>0.509784</td>\n",
       "      <td>0.280599</td>\n",
       "    </tr>\n",
       "    <tr>\n",
       "      <th>Overall</th>\n",
       "      <th>mse-scaled</th>\n",
       "      <td>0.308942</td>\n",
       "      <td>0.295690</td>\n",
       "      <td>0.297072</td>\n",
       "      <td>0.364775</td>\n",
       "      <td>0.255038</td>\n",
       "    </tr>\n",
       "  </tbody>\n",
       "</table>\n",
       "</div>"
      ],
      "text/plain": [
       "                                              AutoARIMA  AutoARIMA/BottomUp  \\\n",
       "level                             metric                                      \n",
       "Country                           mse-scaled   0.317897            0.367078   \n",
       "Country/Purpose                   mse-scaled   0.318950            0.233606   \n",
       "Country/Purpose/State             mse-scaled   0.268057            0.281189   \n",
       "Country/Purpose/State/CityNonCity mse-scaled   0.292136            0.292136   \n",
       "Overall                           mse-scaled   0.308942            0.295690   \n",
       "\n",
       "                                              AutoARIMA/TopDown_method-forecast_proportions  \\\n",
       "level                             metric                                                      \n",
       "Country                           mse-scaled                                       0.317897   \n",
       "Country/Purpose                   mse-scaled                                       0.262216   \n",
       "Country/Purpose/State             mse-scaled                                       0.320349   \n",
       "Country/Purpose/State/CityNonCity mse-scaled                                       0.323261   \n",
       "Overall                           mse-scaled                                       0.297072   \n",
       "\n",
       "                                              AutoARIMA/TopDown_method-proportion_averages  \\\n",
       "level                             metric                                                     \n",
       "Country                           mse-scaled                                      0.317897   \n",
       "Country/Purpose                   mse-scaled                                      0.320225   \n",
       "Country/Purpose/State             mse-scaled                                      0.511356   \n",
       "Country/Purpose/State/CityNonCity mse-scaled                                      0.509784   \n",
       "Overall                           mse-scaled                                      0.364775   \n",
       "\n",
       "                                              AutoARIMA/MiddleOut_middle_level-Country/Purpose/State_top_down_method-proportion_averages  \n",
       "level                             metric                                                                                                  \n",
       "Country                           mse-scaled                                           0.305053                                           \n",
       "Country/Purpose                   mse-scaled                                           0.196062                                           \n",
       "Country/Purpose/State             mse-scaled                                           0.268057                                           \n",
       "Country/Purpose/State/CityNonCity mse-scaled                                           0.280599                                           \n",
       "Overall                           mse-scaled                                           0.255038                                           "
      ]
     },
     "execution_count": null,
     "metadata": {},
     "output_type": "execute_result"
    }
   ],
   "source": [
    "df = Y_rec_df.merge(Y_test_df, on=['unique_id', 'ds'])\n",
    "evaluation = evaluate(df = df,\n",
    "                      tags = tags,\n",
    "                      train_df = Y_train_df,\n",
    "                      metrics = [mse],\n",
    "                      benchmark=\"Naive\")\n",
    "\n",
    "evaluation.set_index([\"level\", \"metric\"]).filter(like=\"ARIMA\", axis=1)"
   ]
  },
  {
   "cell_type": "markdown",
   "id": "a51830f5",
   "metadata": {},
   "source": [
    "### References\n",
    "- [Orcutt, G.H., Watts, H.W., & Edwards, J.B.(1968). Data aggregation and information loss. The American \n",
    "Economic Review, 58 , 773(787)](http://www.jstor.org/stable/1815532).\n",
    "- [Disaggregation methods to expedite product line forecasting. Journal of Forecasting, 9 , 233–254. \n",
    "doi:10.1002/for.3980090304](https://onlinelibrary.wiley.com/doi/abs/10.1002/for.3980090304).<br>\n",
    "- [An investigation of aggregate variable time series forecast strategies with specific subaggregate \n",
    "time series statistical correlation. Computers and Operations Research, 26 , 1133–1149. \n",
    "doi:10.1016/S0305-0548(99)00017-9](https://doi.org/10.1016/S0305-0548(99)00017-9).\n",
    "- [Hyndman, R.J., & Athanasopoulos, G. (2021). \"Forecasting: principles and practice, 3rd edition: \n",
    "Chapter 11: Forecasting hierarchical and grouped series.\". OTexts: Melbourne, Australia. OTexts.com/fpp3 \n",
    "Accessed on July 2022.](https://otexts.com/fpp3/hierarchical.html)"
   ]
  }
 ],
 "metadata": {
  "kernelspec": {
   "display_name": "python3",
   "language": "python",
   "name": "python3"
  }
 },
 "nbformat": 4,
 "nbformat_minor": 5
}
