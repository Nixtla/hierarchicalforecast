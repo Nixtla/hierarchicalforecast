{
 "cells": [
  {
   "attachments": {},
   "cell_type": "markdown",
   "metadata": {},
   "source": [
    "# Geographical and Temporal Aggregation (Tourism)\n",
    "\n",
    "> Geographical and Temporal Hierarchical Forecasting on Australian Tourism Data"
   ]
  },
  {
   "attachments": {},
   "cell_type": "markdown",
   "metadata": {},
   "source": [
    "In many applications, a set of time series is hierarchically organized. Examples include the presence of geographic levels, products, or categories that define different types of aggregations. In such scenarios, forecasters are often required to provide predictions for all disaggregate and aggregate series. A natural desire is for those predictions to be **\"coherent\"**, that is, for the bottom series to add up precisely to the forecasts of the aggregated series.\n",
    "\n",
    "In this notebook we present an example on how to use `HierarchicalForecast` to produce coherent forecasts between geographical levels. We will use the classic Australian Domestic Tourism (`Tourism`) dataset, which contains monthly time series of the number of visitors to each state of Australia.\n",
    "\n",
    "We will first load the `Tourism` data and produce base forecasts using an `ETS` model from `StatsForecast`, and then reconciliate the forecasts with several reconciliation algorithms from `HierarchicalForecast`. Finally, we show the performance is comparable with the results reported by the [Forecasting: Principles and Practice](https://otexts.com/fpp3/tourism.html) which uses the R package [fable](https://github.com/tidyverts/fable)."
   ]
  },
  {
   "attachments": {},
   "cell_type": "markdown",
   "metadata": {},
   "source": [
    "You can run these experiments using CPU or GPU with Google Colab.\n",
    "\n",
    "<a href=\"https://colab.research.google.com/github/Nixtla/hierarchicalforecast/blob/main/nbs/examples/AustralianDomesticTourism.ipynb\" target=\"_parent\"><img src=\"https://colab.research.google.com/assets/colab-badge.svg\" alt=\"Open In Colab\"/></a>"
   ]
  },
  {
   "cell_type": "code",
   "execution_count": null,
   "metadata": {},
   "outputs": [],
   "source": [
    "%%capture\n",
    "!pip install hierarchicalforecast statsforecast"
   ]
  },
  {
   "attachments": {},
   "cell_type": "markdown",
   "metadata": {},
   "source": [
    "## 1. Load and Process Data"
   ]
  },
  {
   "attachments": {},
   "cell_type": "markdown",
   "metadata": {},
   "source": [
    "In this example we will use the [Tourism](https://otexts.com/fpp3/tourism.html) dataset from the [Forecasting: Principles and Practice](https://otexts.com/fpp3/) book.\n",
    "\n",
    "The dataset only contains the time series at the lowest level, so we need to create the time series for all hierarchies."
   ]
  },
  {
   "cell_type": "code",
   "execution_count": null,
   "metadata": {},
   "outputs": [],
   "source": [
    "import numpy as np\n",
    "import pandas as pd"
   ]
  },
  {
   "cell_type": "code",
   "execution_count": null,
   "metadata": {},
   "outputs": [
    {
     "data": {
      "application/vnd.microsoft.datawrangler.viewer.v0+json": {
       "columns": [
        {
         "name": "index",
         "rawType": "int64",
         "type": "integer"
        },
        {
         "name": "Country",
         "rawType": "object",
         "type": "string"
        },
        {
         "name": "Region",
         "rawType": "object",
         "type": "string"
        },
        {
         "name": "State",
         "rawType": "object",
         "type": "string"
        },
        {
         "name": "Purpose",
         "rawType": "object",
         "type": "string"
        },
        {
         "name": "ds",
         "rawType": "datetime64[ns]",
         "type": "datetime"
        },
        {
         "name": "y",
         "rawType": "float64",
         "type": "float"
        }
       ],
       "conversionMethod": "pd.DataFrame",
       "ref": "60acbca2-d01c-4a69-a3d9-3e8499688449",
       "rows": [
        [
         "0",
         "Australia",
         "Adelaide",
         "South Australia",
         "Business",
         "1998-01-01 00:00:00",
         "135.0776903"
        ],
        [
         "1",
         "Australia",
         "Adelaide",
         "South Australia",
         "Business",
         "1998-04-01 00:00:00",
         "109.987316"
        ],
        [
         "2",
         "Australia",
         "Adelaide",
         "South Australia",
         "Business",
         "1998-07-01 00:00:00",
         "166.0346866"
        ],
        [
         "3",
         "Australia",
         "Adelaide",
         "South Australia",
         "Business",
         "1998-10-01 00:00:00",
         "127.1604643"
        ],
        [
         "4",
         "Australia",
         "Adelaide",
         "South Australia",
         "Business",
         "1999-01-01 00:00:00",
         "137.4485333"
        ]
       ],
       "shape": {
        "columns": 6,
        "rows": 5
       }
      },
      "text/html": [
       "<div>\n",
       "<style scoped>\n",
       "    .dataframe tbody tr th:only-of-type {\n",
       "        vertical-align: middle;\n",
       "    }\n",
       "\n",
       "    .dataframe tbody tr th {\n",
       "        vertical-align: top;\n",
       "    }\n",
       "\n",
       "    .dataframe thead th {\n",
       "        text-align: right;\n",
       "    }\n",
       "</style>\n",
       "<table border=\"1\" class=\"dataframe\">\n",
       "  <thead>\n",
       "    <tr style=\"text-align: right;\">\n",
       "      <th></th>\n",
       "      <th>Country</th>\n",
       "      <th>Region</th>\n",
       "      <th>State</th>\n",
       "      <th>Purpose</th>\n",
       "      <th>ds</th>\n",
       "      <th>y</th>\n",
       "    </tr>\n",
       "  </thead>\n",
       "  <tbody>\n",
       "    <tr>\n",
       "      <th>0</th>\n",
       "      <td>Australia</td>\n",
       "      <td>Adelaide</td>\n",
       "      <td>South Australia</td>\n",
       "      <td>Business</td>\n",
       "      <td>1998-01-01</td>\n",
       "      <td>135.077690</td>\n",
       "    </tr>\n",
       "    <tr>\n",
       "      <th>1</th>\n",
       "      <td>Australia</td>\n",
       "      <td>Adelaide</td>\n",
       "      <td>South Australia</td>\n",
       "      <td>Business</td>\n",
       "      <td>1998-04-01</td>\n",
       "      <td>109.987316</td>\n",
       "    </tr>\n",
       "    <tr>\n",
       "      <th>2</th>\n",
       "      <td>Australia</td>\n",
       "      <td>Adelaide</td>\n",
       "      <td>South Australia</td>\n",
       "      <td>Business</td>\n",
       "      <td>1998-07-01</td>\n",
       "      <td>166.034687</td>\n",
       "    </tr>\n",
       "    <tr>\n",
       "      <th>3</th>\n",
       "      <td>Australia</td>\n",
       "      <td>Adelaide</td>\n",
       "      <td>South Australia</td>\n",
       "      <td>Business</td>\n",
       "      <td>1998-10-01</td>\n",
       "      <td>127.160464</td>\n",
       "    </tr>\n",
       "    <tr>\n",
       "      <th>4</th>\n",
       "      <td>Australia</td>\n",
       "      <td>Adelaide</td>\n",
       "      <td>South Australia</td>\n",
       "      <td>Business</td>\n",
       "      <td>1999-01-01</td>\n",
       "      <td>137.448533</td>\n",
       "    </tr>\n",
       "  </tbody>\n",
       "</table>\n",
       "</div>"
      ],
      "text/plain": [
       "     Country    Region            State   Purpose         ds           y\n",
       "0  Australia  Adelaide  South Australia  Business 1998-01-01  135.077690\n",
       "1  Australia  Adelaide  South Australia  Business 1998-04-01  109.987316\n",
       "2  Australia  Adelaide  South Australia  Business 1998-07-01  166.034687\n",
       "3  Australia  Adelaide  South Australia  Business 1998-10-01  127.160464\n",
       "4  Australia  Adelaide  South Australia  Business 1999-01-01  137.448533"
      ]
     },
     "execution_count": null,
     "metadata": {},
     "output_type": "execute_result"
    }
   ],
   "source": [
    "Y_df = pd.read_csv('https://raw.githubusercontent.com/Nixtla/transfer-learning-time-series/main/datasets/tourism.csv')\n",
    "Y_df = Y_df.rename({'Trips': 'y', 'Quarter': 'ds'}, axis=1)\n",
    "Y_df.insert(0, 'Country', 'Australia')\n",
    "Y_df = Y_df[['Country', 'Region', 'State', 'Purpose', 'ds', 'y']]\n",
    "Y_df['ds'] = Y_df['ds'].str.replace(r'(\\d+) (Q\\d)', r'\\1-\\2', regex=True)\n",
    "Y_df['ds'] = pd.PeriodIndex(Y_df[\"ds\"], freq='Q').to_timestamp()\n",
    "Y_df.head()"
   ]
  },
  {
   "cell_type": "markdown",
   "metadata": {},
   "source": [
    "## 2. Cross-sectional reconciliation"
   ]
  },
  {
   "cell_type": "markdown",
   "metadata": {},
   "source": [
    "### 2a. Aggregating the dataset according to cross-sectional hierarchy"
   ]
  },
  {
   "cell_type": "markdown",
   "metadata": {},
   "source": [
    "The dataset can be grouped in the following non-strictly hierarchical structure."
   ]
  },
  {
   "cell_type": "code",
   "execution_count": null,
   "metadata": {},
   "outputs": [],
   "source": [
    "spec = [\n",
    "    ['Country'],\n",
    "    ['Country', 'State'], \n",
    "    ['Country', 'Purpose'], \n",
    "    ['Country', 'State', 'Region'], \n",
    "    ['Country', 'State', 'Purpose'], \n",
    "    ['Country', 'State', 'Region', 'Purpose']\n",
    "]"
   ]
  },
  {
   "cell_type": "markdown",
   "metadata": {},
   "source": [
    "Using the `aggregate` function from `HierarchicalForecast` we can get the full set of time series."
   ]
  },
  {
   "cell_type": "code",
   "execution_count": null,
   "metadata": {},
   "outputs": [],
   "source": [
    "from hierarchicalforecast.utils import aggregate"
   ]
  },
  {
   "cell_type": "code",
   "execution_count": null,
   "metadata": {},
   "outputs": [],
   "source": [
    "Y_df_cs, S_df_cs, tags_cs = aggregate(Y_df, spec)"
   ]
  },
  {
   "cell_type": "code",
   "execution_count": null,
   "metadata": {},
   "outputs": [
    {
     "data": {
      "application/vnd.microsoft.datawrangler.viewer.v0+json": {
       "columns": [
        {
         "name": "index",
         "rawType": "int64",
         "type": "integer"
        },
        {
         "name": "unique_id",
         "rawType": "object",
         "type": "string"
        },
        {
         "name": "ds",
         "rawType": "datetime64[ns]",
         "type": "datetime"
        },
        {
         "name": "y",
         "rawType": "float64",
         "type": "float"
        }
       ],
       "conversionMethod": "pd.DataFrame",
       "ref": "8f584a0b-4952-4287-a8da-2bc494038720",
       "rows": [
        [
         "0",
         "Australia",
         "1998-01-01 00:00:00",
         "23182.1972688"
        ],
        [
         "1",
         "Australia",
         "1998-04-01 00:00:00",
         "20323.3800673"
        ],
        [
         "2",
         "Australia",
         "1998-07-01 00:00:00",
         "19826.6405107"
        ],
        [
         "3",
         "Australia",
         "1998-10-01 00:00:00",
         "20830.1298906"
        ],
        [
         "4",
         "Australia",
         "1999-01-01 00:00:00",
         "22087.3533796"
        ],
        [
         "5",
         "Australia",
         "1999-04-01 00:00:00",
         "21458.3732846"
        ],
        [
         "6",
         "Australia",
         "1999-07-01 00:00:00",
         "19914.1925083"
        ],
        [
         "7",
         "Australia",
         "1999-10-01 00:00:00",
         "20027.9256404"
        ],
        [
         "8",
         "Australia",
         "2000-01-01 00:00:00",
         "22339.2947787"
        ],
        [
         "9",
         "Australia",
         "2000-04-01 00:00:00",
         "19941.063482"
        ],
        [
         "10",
         "Australia",
         "2000-07-01 00:00:00",
         "20242.8291104"
        ],
        [
         "11",
         "Australia",
         "2000-10-01 00:00:00",
         "21427.8247105"
        ],
        [
         "12",
         "Australia",
         "2001-01-01 00:00:00",
         "21522.6963089"
        ],
        [
         "13",
         "Australia",
         "2001-04-01 00:00:00",
         "20928.5634158"
        ],
        [
         "14",
         "Australia",
         "2001-07-01 00:00:00",
         "20764.4161085"
        ],
        [
         "15",
         "Australia",
         "2001-10-01 00:00:00",
         "21036.626634"
        ],
        [
         "16",
         "Australia",
         "2002-01-01 00:00:00",
         "22346.1992604"
        ],
        [
         "17",
         "Australia",
         "2002-04-01 00:00:00",
         "20877.0303282"
        ],
        [
         "18",
         "Australia",
         "2002-07-01 00:00:00",
         "21299.1435299"
        ],
        [
         "19",
         "Australia",
         "2002-10-01 00:00:00",
         "21864.629490799998"
        ],
        [
         "20",
         "Australia",
         "2003-01-01 00:00:00",
         "22061.7767573"
        ],
        [
         "21",
         "Australia",
         "2003-04-01 00:00:00",
         "21250.2802042"
        ],
        [
         "22",
         "Australia",
         "2003-07-01 00:00:00",
         "20685.2118593"
        ],
        [
         "23",
         "Australia",
         "2003-10-01 00:00:00",
         "21045.2109888"
        ],
        [
         "24",
         "Australia",
         "2004-01-01 00:00:00",
         "22949.0539815"
        ],
        [
         "25",
         "Australia",
         "2004-04-01 00:00:00",
         "21494.586465"
        ],
        [
         "26",
         "Australia",
         "2004-07-01 00:00:00",
         "20799.5166727"
        ],
        [
         "27",
         "Australia",
         "2004-10-01 00:00:00",
         "20364.9744682"
        ],
        [
         "28",
         "Australia",
         "2005-01-01 00:00:00",
         "22534.3358326"
        ],
        [
         "29",
         "Australia",
         "2005-04-01 00:00:00",
         "18672.7388124"
        ],
        [
         "30",
         "Australia",
         "2005-07-01 00:00:00",
         "18695.8007732"
        ],
        [
         "31",
         "Australia",
         "2005-10-01 00:00:00",
         "19311.786462"
        ],
        [
         "32",
         "Australia",
         "2006-01-01 00:00:00",
         "22517.072417"
        ],
        [
         "33",
         "Australia",
         "2006-04-01 00:00:00",
         "21064.07328"
        ],
        [
         "34",
         "Australia",
         "2006-07-01 00:00:00",
         "18750.97418"
        ],
        [
         "35",
         "Australia",
         "2006-10-01 00:00:00",
         "20533.676303"
        ],
        [
         "36",
         "Australia",
         "2007-01-01 00:00:00",
         "21691.8105346"
        ],
        [
         "37",
         "Australia",
         "2007-04-01 00:00:00",
         "21430.7206083"
        ],
        [
         "38",
         "Australia",
         "2007-07-01 00:00:00",
         "20078.1917625"
        ],
        [
         "39",
         "Australia",
         "2007-10-01 00:00:00",
         "20362.6172416"
        ],
        [
         "40",
         "Australia",
         "2008-01-01 00:00:00",
         "23274.419173"
        ],
        [
         "41",
         "Australia",
         "2008-04-01 00:00:00",
         "18982.5903621"
        ],
        [
         "42",
         "Australia",
         "2008-07-01 00:00:00",
         "19130.6236032"
        ],
        [
         "43",
         "Australia",
         "2008-10-01 00:00:00",
         "19321.6432028"
        ],
        [
         "44",
         "Australia",
         "2009-01-01 00:00:00",
         "20102.1073247"
        ],
        [
         "45",
         "Australia",
         "2009-04-01 00:00:00",
         "18323.8254108"
        ],
        [
         "46",
         "Australia",
         "2009-07-01 00:00:00",
         "18915.8616848"
        ],
        [
         "47",
         "Australia",
         "2009-10-01 00:00:00",
         "19104.72956"
        ],
        [
         "48",
         "Australia",
         "2010-01-01 00:00:00",
         "20135.776271"
        ],
        [
         "49",
         "Australia",
         "2010-04-01 00:00:00",
         "18868.8078855"
        ]
       ],
       "shape": {
        "columns": 3,
        "rows": 34000
       }
      },
      "text/html": [
       "<div>\n",
       "<style scoped>\n",
       "    .dataframe tbody tr th:only-of-type {\n",
       "        vertical-align: middle;\n",
       "    }\n",
       "\n",
       "    .dataframe tbody tr th {\n",
       "        vertical-align: top;\n",
       "    }\n",
       "\n",
       "    .dataframe thead th {\n",
       "        text-align: right;\n",
       "    }\n",
       "</style>\n",
       "<table border=\"1\" class=\"dataframe\">\n",
       "  <thead>\n",
       "    <tr style=\"text-align: right;\">\n",
       "      <th></th>\n",
       "      <th>unique_id</th>\n",
       "      <th>ds</th>\n",
       "      <th>y</th>\n",
       "    </tr>\n",
       "  </thead>\n",
       "  <tbody>\n",
       "    <tr>\n",
       "      <th>0</th>\n",
       "      <td>Australia</td>\n",
       "      <td>1998-01-01</td>\n",
       "      <td>23182.197269</td>\n",
       "    </tr>\n",
       "    <tr>\n",
       "      <th>1</th>\n",
       "      <td>Australia</td>\n",
       "      <td>1998-04-01</td>\n",
       "      <td>20323.380067</td>\n",
       "    </tr>\n",
       "    <tr>\n",
       "      <th>2</th>\n",
       "      <td>Australia</td>\n",
       "      <td>1998-07-01</td>\n",
       "      <td>19826.640511</td>\n",
       "    </tr>\n",
       "    <tr>\n",
       "      <th>3</th>\n",
       "      <td>Australia</td>\n",
       "      <td>1998-10-01</td>\n",
       "      <td>20830.129891</td>\n",
       "    </tr>\n",
       "    <tr>\n",
       "      <th>4</th>\n",
       "      <td>Australia</td>\n",
       "      <td>1999-01-01</td>\n",
       "      <td>22087.353380</td>\n",
       "    </tr>\n",
       "    <tr>\n",
       "      <th>...</th>\n",
       "      <td>...</td>\n",
       "      <td>...</td>\n",
       "      <td>...</td>\n",
       "    </tr>\n",
       "    <tr>\n",
       "      <th>33995</th>\n",
       "      <td>Australia/Western Australia/Experience Perth/V...</td>\n",
       "      <td>2016-10-01</td>\n",
       "      <td>439.699451</td>\n",
       "    </tr>\n",
       "    <tr>\n",
       "      <th>33996</th>\n",
       "      <td>Australia/Western Australia/Experience Perth/V...</td>\n",
       "      <td>2017-01-01</td>\n",
       "      <td>356.867038</td>\n",
       "    </tr>\n",
       "    <tr>\n",
       "      <th>33997</th>\n",
       "      <td>Australia/Western Australia/Experience Perth/V...</td>\n",
       "      <td>2017-04-01</td>\n",
       "      <td>302.296119</td>\n",
       "    </tr>\n",
       "    <tr>\n",
       "      <th>33998</th>\n",
       "      <td>Australia/Western Australia/Experience Perth/V...</td>\n",
       "      <td>2017-07-01</td>\n",
       "      <td>373.442070</td>\n",
       "    </tr>\n",
       "    <tr>\n",
       "      <th>33999</th>\n",
       "      <td>Australia/Western Australia/Experience Perth/V...</td>\n",
       "      <td>2017-10-01</td>\n",
       "      <td>455.316702</td>\n",
       "    </tr>\n",
       "  </tbody>\n",
       "</table>\n",
       "<p>34000 rows × 3 columns</p>\n",
       "</div>"
      ],
      "text/plain": [
       "                                               unique_id         ds  \\\n",
       "0                                              Australia 1998-01-01   \n",
       "1                                              Australia 1998-04-01   \n",
       "2                                              Australia 1998-07-01   \n",
       "3                                              Australia 1998-10-01   \n",
       "4                                              Australia 1999-01-01   \n",
       "...                                                  ...        ...   \n",
       "33995  Australia/Western Australia/Experience Perth/V... 2016-10-01   \n",
       "33996  Australia/Western Australia/Experience Perth/V... 2017-01-01   \n",
       "33997  Australia/Western Australia/Experience Perth/V... 2017-04-01   \n",
       "33998  Australia/Western Australia/Experience Perth/V... 2017-07-01   \n",
       "33999  Australia/Western Australia/Experience Perth/V... 2017-10-01   \n",
       "\n",
       "                  y  \n",
       "0      23182.197269  \n",
       "1      20323.380067  \n",
       "2      19826.640511  \n",
       "3      20830.129891  \n",
       "4      22087.353380  \n",
       "...             ...  \n",
       "33995    439.699451  \n",
       "33996    356.867038  \n",
       "33997    302.296119  \n",
       "33998    373.442070  \n",
       "33999    455.316702  \n",
       "\n",
       "[34000 rows x 3 columns]"
      ]
     },
     "execution_count": null,
     "metadata": {},
     "output_type": "execute_result"
    }
   ],
   "source": [
    "Y_df_cs"
   ]
  },
  {
   "cell_type": "code",
   "execution_count": null,
   "metadata": {},
   "outputs": [
    {
     "data": {
      "application/vnd.microsoft.datawrangler.viewer.v0+json": {
       "columns": [
        {
         "name": "index",
         "rawType": "int64",
         "type": "integer"
        },
        {
         "name": "unique_id",
         "rawType": "object",
         "type": "string"
        },
        {
         "name": "Australia/ACT/Canberra/Business",
         "rawType": "float64",
         "type": "float"
        },
        {
         "name": "Australia/ACT/Canberra/Holiday",
         "rawType": "float64",
         "type": "float"
        },
        {
         "name": "Australia/ACT/Canberra/Other",
         "rawType": "float64",
         "type": "float"
        },
        {
         "name": "Australia/ACT/Canberra/Visiting",
         "rawType": "float64",
         "type": "float"
        }
       ],
       "conversionMethod": "pd.DataFrame",
       "ref": "b6ab6352-a74e-44c5-a6e5-a9bba5124c81",
       "rows": [
        [
         "0",
         "Australia",
         "1.0",
         "1.0",
         "1.0",
         "1.0"
        ],
        [
         "1",
         "Australia/ACT",
         "1.0",
         "1.0",
         "1.0",
         "1.0"
        ],
        [
         "2",
         "Australia/New South Wales",
         "0.0",
         "0.0",
         "0.0",
         "0.0"
        ],
        [
         "3",
         "Australia/Northern Territory",
         "0.0",
         "0.0",
         "0.0",
         "0.0"
        ],
        [
         "4",
         "Australia/Queensland",
         "0.0",
         "0.0",
         "0.0",
         "0.0"
        ]
       ],
       "shape": {
        "columns": 5,
        "rows": 5
       }
      },
      "text/html": [
       "<div>\n",
       "<style scoped>\n",
       "    .dataframe tbody tr th:only-of-type {\n",
       "        vertical-align: middle;\n",
       "    }\n",
       "\n",
       "    .dataframe tbody tr th {\n",
       "        vertical-align: top;\n",
       "    }\n",
       "\n",
       "    .dataframe thead th {\n",
       "        text-align: right;\n",
       "    }\n",
       "</style>\n",
       "<table border=\"1\" class=\"dataframe\">\n",
       "  <thead>\n",
       "    <tr style=\"text-align: right;\">\n",
       "      <th></th>\n",
       "      <th>unique_id</th>\n",
       "      <th>Australia/ACT/Canberra/Business</th>\n",
       "      <th>Australia/ACT/Canberra/Holiday</th>\n",
       "      <th>Australia/ACT/Canberra/Other</th>\n",
       "      <th>Australia/ACT/Canberra/Visiting</th>\n",
       "    </tr>\n",
       "  </thead>\n",
       "  <tbody>\n",
       "    <tr>\n",
       "      <th>0</th>\n",
       "      <td>Australia</td>\n",
       "      <td>1.0</td>\n",
       "      <td>1.0</td>\n",
       "      <td>1.0</td>\n",
       "      <td>1.0</td>\n",
       "    </tr>\n",
       "    <tr>\n",
       "      <th>1</th>\n",
       "      <td>Australia/ACT</td>\n",
       "      <td>1.0</td>\n",
       "      <td>1.0</td>\n",
       "      <td>1.0</td>\n",
       "      <td>1.0</td>\n",
       "    </tr>\n",
       "    <tr>\n",
       "      <th>2</th>\n",
       "      <td>Australia/New South Wales</td>\n",
       "      <td>0.0</td>\n",
       "      <td>0.0</td>\n",
       "      <td>0.0</td>\n",
       "      <td>0.0</td>\n",
       "    </tr>\n",
       "    <tr>\n",
       "      <th>3</th>\n",
       "      <td>Australia/Northern Territory</td>\n",
       "      <td>0.0</td>\n",
       "      <td>0.0</td>\n",
       "      <td>0.0</td>\n",
       "      <td>0.0</td>\n",
       "    </tr>\n",
       "    <tr>\n",
       "      <th>4</th>\n",
       "      <td>Australia/Queensland</td>\n",
       "      <td>0.0</td>\n",
       "      <td>0.0</td>\n",
       "      <td>0.0</td>\n",
       "      <td>0.0</td>\n",
       "    </tr>\n",
       "  </tbody>\n",
       "</table>\n",
       "</div>"
      ],
      "text/plain": [
       "                      unique_id  Australia/ACT/Canberra/Business  \\\n",
       "0                     Australia                              1.0   \n",
       "1                 Australia/ACT                              1.0   \n",
       "2     Australia/New South Wales                              0.0   \n",
       "3  Australia/Northern Territory                              0.0   \n",
       "4          Australia/Queensland                              0.0   \n",
       "\n",
       "   Australia/ACT/Canberra/Holiday  Australia/ACT/Canberra/Other  \\\n",
       "0                             1.0                           1.0   \n",
       "1                             1.0                           1.0   \n",
       "2                             0.0                           0.0   \n",
       "3                             0.0                           0.0   \n",
       "4                             0.0                           0.0   \n",
       "\n",
       "   Australia/ACT/Canberra/Visiting  \n",
       "0                              1.0  \n",
       "1                              1.0  \n",
       "2                              0.0  \n",
       "3                              0.0  \n",
       "4                              0.0  "
      ]
     },
     "execution_count": null,
     "metadata": {},
     "output_type": "execute_result"
    }
   ],
   "source": [
    "S_df_cs.iloc[:5, :5]"
   ]
  },
  {
   "cell_type": "markdown",
   "metadata": {},
   "source": [
    "### 2b. Split Train/Test sets\n",
    "\n",
    "We use the final two years (8 quarters) as test set. Consequently, our forecast horizon=8."
   ]
  },
  {
   "cell_type": "code",
   "execution_count": null,
   "metadata": {},
   "outputs": [],
   "source": [
    "horizon = 8"
   ]
  },
  {
   "cell_type": "code",
   "execution_count": null,
   "metadata": {},
   "outputs": [],
   "source": [
    "Y_test_df_cs = Y_df_cs.groupby(\"unique_id\", as_index=False).tail(horizon)\n",
    "Y_train_df_cs = Y_df_cs.drop(Y_test_df_cs.index)"
   ]
  },
  {
   "attachments": {},
   "cell_type": "markdown",
   "metadata": {},
   "source": [
    "### 2c. Computing base forecasts\n",
    "\n",
    "The following cell computes the **base forecasts** for each time series in `Y_df` using the `ETS` model. Observe that `Y_hat_df` contains the forecasts but they are not coherent."
   ]
  },
  {
   "cell_type": "code",
   "execution_count": null,
   "metadata": {},
   "outputs": [],
   "source": [
    "from statsforecast.models import AutoETS\n",
    "from statsforecast.core import StatsForecast"
   ]
  },
  {
   "cell_type": "code",
   "execution_count": null,
   "metadata": {},
   "outputs": [],
   "source": [
    "fcst = StatsForecast(models=[AutoETS(season_length=4, model='ZZA')], \n",
    "                     freq='QS', n_jobs=-1)\n",
    "Y_hat_df_cs = fcst.forecast(df=Y_train_df_cs, h=horizon, fitted=True)\n",
    "Y_fitted_df_cs = fcst.forecast_fitted_values()"
   ]
  },
  {
   "attachments": {},
   "cell_type": "markdown",
   "metadata": {},
   "source": [
    "### 2d. Reconcile forecasts\n",
    "\n",
    "The following cell makes the previous forecasts coherent using the `HierarchicalReconciliation` class. Since the hierarchy structure is not strict, we can't use methods such as `TopDown` or `MiddleOut`. In this example we use `BottomUp` and `MinTrace`."
   ]
  },
  {
   "cell_type": "code",
   "execution_count": null,
   "metadata": {},
   "outputs": [],
   "source": [
    "from hierarchicalforecast.methods import BottomUp, MinTrace\n",
    "from hierarchicalforecast.core import HierarchicalReconciliation"
   ]
  },
  {
   "cell_type": "code",
   "execution_count": null,
   "metadata": {},
   "outputs": [],
   "source": [
    "reconcilers = [\n",
    "    BottomUp(),\n",
    "    MinTrace(method='mint_shrink'),\n",
    "    MinTrace(method='ols')\n",
    "]\n",
    "hrec = HierarchicalReconciliation(reconcilers=reconcilers)\n",
    "Y_rec_df_cs = hrec.reconcile(Y_hat_df=Y_hat_df_cs, Y_df=Y_fitted_df_cs, S=S_df_cs, tags=tags_cs)"
   ]
  },
  {
   "cell_type": "markdown",
   "metadata": {},
   "source": [
    "The dataframe `Y_rec_df` contains the reconciled forecasts."
   ]
  },
  {
   "cell_type": "code",
   "execution_count": null,
   "metadata": {},
   "outputs": [
    {
     "data": {
      "application/vnd.microsoft.datawrangler.viewer.v0+json": {
       "columns": [
        {
         "name": "index",
         "rawType": "int64",
         "type": "integer"
        },
        {
         "name": "unique_id",
         "rawType": "object",
         "type": "string"
        },
        {
         "name": "ds",
         "rawType": "datetime64[ns]",
         "type": "datetime"
        },
        {
         "name": "AutoETS",
         "rawType": "float64",
         "type": "float"
        },
        {
         "name": "AutoETS/BottomUp",
         "rawType": "float64",
         "type": "float"
        },
        {
         "name": "AutoETS/MinTrace_method-mint_shrink",
         "rawType": "float64",
         "type": "float"
        },
        {
         "name": "AutoETS/MinTrace_method-ols",
         "rawType": "float64",
         "type": "float"
        }
       ],
       "conversionMethod": "pd.DataFrame",
       "ref": "c13557a2-81f2-43e5-80d9-b4d6e406d1e9",
       "rows": [
        [
         "0",
         "Australia",
         "2016-01-01 00:00:00",
         "25990.06800395921",
         "24381.911737144866",
         "25428.089783454154",
         "25894.399066919912"
        ],
        [
         "1",
         "Australia",
         "2016-04-01 00:00:00",
         "24458.490282296334",
         "22903.895964104377",
         "23914.271399939826",
         "24357.301897587906"
        ],
        [
         "2",
         "Australia",
         "2016-07-01 00:00:00",
         "23974.055984375416",
         "22412.2657388847",
         "23428.462394317354",
         "23865.91064707604"
        ],
        [
         "3",
         "Australia",
         "2016-10-01 00:00:00",
         "24563.454495278358",
         "23127.34957776853",
         "24089.84595454105",
         "24470.782393264322"
        ],
        [
         "4",
         "Australia",
         "2017-01-01 00:00:00",
         "25990.06800395921",
         "24518.118006143763",
         "25545.358677586973",
         "25901.362283341492"
        ]
       ],
       "shape": {
        "columns": 6,
        "rows": 5
       }
      },
      "text/html": [
       "<div>\n",
       "<style scoped>\n",
       "    .dataframe tbody tr th:only-of-type {\n",
       "        vertical-align: middle;\n",
       "    }\n",
       "\n",
       "    .dataframe tbody tr th {\n",
       "        vertical-align: top;\n",
       "    }\n",
       "\n",
       "    .dataframe thead th {\n",
       "        text-align: right;\n",
       "    }\n",
       "</style>\n",
       "<table border=\"1\" class=\"dataframe\">\n",
       "  <thead>\n",
       "    <tr style=\"text-align: right;\">\n",
       "      <th></th>\n",
       "      <th>unique_id</th>\n",
       "      <th>ds</th>\n",
       "      <th>AutoETS</th>\n",
       "      <th>AutoETS/BottomUp</th>\n",
       "      <th>AutoETS/MinTrace_method-mint_shrink</th>\n",
       "      <th>AutoETS/MinTrace_method-ols</th>\n",
       "    </tr>\n",
       "  </thead>\n",
       "  <tbody>\n",
       "    <tr>\n",
       "      <th>0</th>\n",
       "      <td>Australia</td>\n",
       "      <td>2016-01-01</td>\n",
       "      <td>25990.068004</td>\n",
       "      <td>24381.911737</td>\n",
       "      <td>25428.089783</td>\n",
       "      <td>25894.399067</td>\n",
       "    </tr>\n",
       "    <tr>\n",
       "      <th>1</th>\n",
       "      <td>Australia</td>\n",
       "      <td>2016-04-01</td>\n",
       "      <td>24458.490282</td>\n",
       "      <td>22903.895964</td>\n",
       "      <td>23914.271400</td>\n",
       "      <td>24357.301898</td>\n",
       "    </tr>\n",
       "    <tr>\n",
       "      <th>2</th>\n",
       "      <td>Australia</td>\n",
       "      <td>2016-07-01</td>\n",
       "      <td>23974.055984</td>\n",
       "      <td>22412.265739</td>\n",
       "      <td>23428.462394</td>\n",
       "      <td>23865.910647</td>\n",
       "    </tr>\n",
       "    <tr>\n",
       "      <th>3</th>\n",
       "      <td>Australia</td>\n",
       "      <td>2016-10-01</td>\n",
       "      <td>24563.454495</td>\n",
       "      <td>23127.349578</td>\n",
       "      <td>24089.845955</td>\n",
       "      <td>24470.782393</td>\n",
       "    </tr>\n",
       "    <tr>\n",
       "      <th>4</th>\n",
       "      <td>Australia</td>\n",
       "      <td>2017-01-01</td>\n",
       "      <td>25990.068004</td>\n",
       "      <td>24518.118006</td>\n",
       "      <td>25545.358678</td>\n",
       "      <td>25901.362283</td>\n",
       "    </tr>\n",
       "  </tbody>\n",
       "</table>\n",
       "</div>"
      ],
      "text/plain": [
       "   unique_id         ds       AutoETS  AutoETS/BottomUp  \\\n",
       "0  Australia 2016-01-01  25990.068004      24381.911737   \n",
       "1  Australia 2016-04-01  24458.490282      22903.895964   \n",
       "2  Australia 2016-07-01  23974.055984      22412.265739   \n",
       "3  Australia 2016-10-01  24563.454495      23127.349578   \n",
       "4  Australia 2017-01-01  25990.068004      24518.118006   \n",
       "\n",
       "   AutoETS/MinTrace_method-mint_shrink  AutoETS/MinTrace_method-ols  \n",
       "0                         25428.089783                 25894.399067  \n",
       "1                         23914.271400                 24357.301898  \n",
       "2                         23428.462394                 23865.910647  \n",
       "3                         24089.845955                 24470.782393  \n",
       "4                         25545.358678                 25901.362283  "
      ]
     },
     "execution_count": null,
     "metadata": {},
     "output_type": "execute_result"
    }
   ],
   "source": [
    "Y_rec_df_cs.head()"
   ]
  },
  {
   "cell_type": "markdown",
   "metadata": {},
   "source": [
    "## 3. Temporal reconciliation"
   ]
  },
  {
   "cell_type": "markdown",
   "metadata": {},
   "source": [
    "### 3a. Aggregating the dataset according to temporal hierarchy"
   ]
  },
  {
   "cell_type": "code",
   "execution_count": null,
   "metadata": {},
   "outputs": [],
   "source": [
    "from hierarchicalforecast.utils import aggregate_temporal"
   ]
  },
  {
   "cell_type": "markdown",
   "metadata": {},
   "source": [
    "We first define the temporal aggregation spec. You can use string aliases of timestamp attributes to compute temporal aggregations. For Pandas, see an overview of allowable attributes [here](https://pandas.pydata.org/docs/reference/api/pandas.Timestamp.html). For Polars"
   ]
  },
  {
   "cell_type": "code",
   "execution_count": null,
   "metadata": {},
   "outputs": [],
   "source": [
    "spec_temporal = [\n",
    "    [\"year\"],\n",
    "    [\"year\", \"ds\"],\n",
    "]   "
   ]
  },
  {
   "cell_type": "markdown",
   "metadata": {},
   "source": [
    "We next compute the temporal aggregated train- and test sets. Note that we have different aggregation matrices S for the train- and test set."
   ]
  },
  {
   "cell_type": "code",
   "execution_count": null,
   "metadata": {},
   "outputs": [],
   "source": [
    "Y_df_te_train, S_df_te_train, tags_te_train = aggregate_temporal(df=Y_train_df_cs, freq=\"QS\", spec=spec_temporal)\n",
    "Y_df_te_test, S_df_te_test, tags_te_test = aggregate_temporal(df=Y_test_df_cs, freq=\"QS\", spec=spec_temporal)\n"
   ]
  },
  {
   "cell_type": "markdown",
   "metadata": {},
   "source": [
    "If you don't have a test set available, as is usually the case when you're making forecasts, it is necessary to create a future dataframe that holds the correct bottom-level unique_ids and timestamps so that they can be temporally aggregated. This can be done as follows."
   ]
  },
  {
   "cell_type": "code",
   "execution_count": null,
   "metadata": {},
   "outputs": [],
   "source": [
    "from hierarchicalforecast.utils import make_future_dataframe"
   ]
  },
  {
   "cell_type": "code",
   "execution_count": null,
   "metadata": {},
   "outputs": [],
   "source": [
    "Y_test_df_cs_new = make_future_dataframe(Y_df_te_train, freq=\"QS\", h=horizon)"
   ]
  },
  {
   "cell_type": "markdown",
   "metadata": {},
   "source": [
    "`Y_test_df_cs_new` can be then used in `aggregate_temporal` to construct the temporally aggregated structures:"
   ]
  },
  {
   "cell_type": "code",
   "execution_count": null,
   "metadata": {},
   "outputs": [],
   "source": [
    "Y_df_te_test_new, S_df_te_test_new, tags_te_test_new = aggregate_temporal(df=Y_test_df_cs_new, freq=\"QS\", spec=spec_temporal)\n"
   ]
  },
  {
   "cell_type": "markdown",
   "metadata": {},
   "source": [
    "And we can verify that we have the same temporally aggregated test set, except that `Y_df_te_test_new` doesn't contain the ground truth values `y`."
   ]
  },
  {
   "cell_type": "code",
   "execution_count": null,
   "metadata": {},
   "outputs": [
    {
     "data": {
      "application/vnd.microsoft.datawrangler.viewer.v0+json": {
       "columns": [
        {
         "name": "index",
         "rawType": "int64",
         "type": "integer"
        },
        {
         "name": "temporal_id",
         "rawType": "object",
         "type": "string"
        },
        {
         "name": "unique_id",
         "rawType": "object",
         "type": "string"
        },
        {
         "name": "y",
         "rawType": "float64",
         "type": "float"
        },
        {
         "name": "ds",
         "rawType": "datetime64[ns]",
         "type": "datetime"
        }
       ],
       "conversionMethod": "pd.DataFrame",
       "ref": "b83f4836-3454-4550-bec1-0036c7e7be4f",
       "rows": [
        [
         "0",
         "2016",
         "Australia",
         "101484.5865511",
         "2016-01-01 00:00:00"
        ],
        [
         "1",
         "2016",
         "Australia/ACT",
         "2457.4013669",
         "2016-01-01 00:00:00"
        ],
        [
         "2",
         "2016",
         "Australia/ACT/Business",
         "754.1392447000001",
         "2016-01-01 00:00:00"
        ],
        [
         "3",
         "2016",
         "Australia/ACT/Canberra",
         "2457.4013669",
         "2016-01-01 00:00:00"
        ],
        [
         "4",
         "2016",
         "Australia/ACT/Canberra/Business",
         "754.1392447000001",
         "2016-01-01 00:00:00"
        ],
        [
         "5",
         "2016",
         "Australia/ACT/Canberra/Holiday",
         "735.3658964",
         "2016-01-01 00:00:00"
        ],
        [
         "6",
         "2016",
         "Australia/ACT/Canberra/Other",
         "175.2399158",
         "2016-01-01 00:00:00"
        ],
        [
         "7",
         "2016",
         "Australia/ACT/Canberra/Visiting",
         "792.6563100000001",
         "2016-01-01 00:00:00"
        ],
        [
         "8",
         "2016",
         "Australia/ACT/Holiday",
         "735.3658964",
         "2016-01-01 00:00:00"
        ],
        [
         "9",
         "2016",
         "Australia/ACT/Other",
         "175.2399158",
         "2016-01-01 00:00:00"
        ],
        [
         "10",
         "2016",
         "Australia/ACT/Visiting",
         "792.6563100000001",
         "2016-01-01 00:00:00"
        ],
        [
         "11",
         "2016",
         "Australia/Business",
         "20102.3276152",
         "2016-01-01 00:00:00"
        ],
        [
         "12",
         "2016",
         "Australia/Holiday",
         "42597.959163399995",
         "2016-01-01 00:00:00"
        ],
        [
         "13",
         "2016",
         "Australia/New South Wales",
         "31270.2585637",
         "2016-01-01 00:00:00"
        ],
        [
         "14",
         "2016",
         "Australia/New South Wales/Blue Mountains",
         "962.2087134999999",
         "2016-01-01 00:00:00"
        ],
        [
         "15",
         "2016",
         "Australia/New South Wales/Blue Mountains/Business",
         "73.9811753",
         "2016-01-01 00:00:00"
        ],
        [
         "16",
         "2016",
         "Australia/New South Wales/Blue Mountains/Holiday",
         "582.7659924",
         "2016-01-01 00:00:00"
        ],
        [
         "17",
         "2016",
         "Australia/New South Wales/Blue Mountains/Other",
         "51.4974082",
         "2016-01-01 00:00:00"
        ],
        [
         "18",
         "2016",
         "Australia/New South Wales/Blue Mountains/Visiting",
         "253.96413760000002",
         "2016-01-01 00:00:00"
        ],
        [
         "19",
         "2016",
         "Australia/New South Wales/Business",
         "5609.3734655",
         "2016-01-01 00:00:00"
        ],
        [
         "20",
         "2016",
         "Australia/New South Wales/Capital Country",
         "1169.2100584999998",
         "2016-01-01 00:00:00"
        ],
        [
         "21",
         "2016",
         "Australia/New South Wales/Capital Country/Business",
         "166.5643263",
         "2016-01-01 00:00:00"
        ],
        [
         "22",
         "2016",
         "Australia/New South Wales/Capital Country/Holiday",
         "458.9577312",
         "2016-01-01 00:00:00"
        ],
        [
         "23",
         "2016",
         "Australia/New South Wales/Capital Country/Other",
         "56.46582930000001",
         "2016-01-01 00:00:00"
        ],
        [
         "24",
         "2016",
         "Australia/New South Wales/Capital Country/Visiting",
         "487.2221717",
         "2016-01-01 00:00:00"
        ],
        [
         "25",
         "2016",
         "Australia/New South Wales/Central Coast",
         "1293.9778495",
         "2016-01-01 00:00:00"
        ],
        [
         "26",
         "2016",
         "Australia/New South Wales/Central Coast/Business",
         "73.3964885",
         "2016-01-01 00:00:00"
        ],
        [
         "27",
         "2016",
         "Australia/New South Wales/Central Coast/Holiday",
         "584.335394",
         "2016-01-01 00:00:00"
        ],
        [
         "28",
         "2016",
         "Australia/New South Wales/Central Coast/Other",
         "22.8716493",
         "2016-01-01 00:00:00"
        ],
        [
         "29",
         "2016",
         "Australia/New South Wales/Central Coast/Visiting",
         "613.3743177",
         "2016-01-01 00:00:00"
        ],
        [
         "30",
         "2016",
         "Australia/New South Wales/Central NSW",
         "2000.2196605000001",
         "2016-01-01 00:00:00"
        ],
        [
         "31",
         "2016",
         "Australia/New South Wales/Central NSW/Business",
         "403.85530800000004",
         "2016-01-01 00:00:00"
        ],
        [
         "32",
         "2016",
         "Australia/New South Wales/Central NSW/Holiday",
         "739.1138117",
         "2016-01-01 00:00:00"
        ],
        [
         "33",
         "2016",
         "Australia/New South Wales/Central NSW/Other",
         "141.1288628",
         "2016-01-01 00:00:00"
        ],
        [
         "34",
         "2016",
         "Australia/New South Wales/Central NSW/Visiting",
         "716.121678",
         "2016-01-01 00:00:00"
        ],
        [
         "35",
         "2016",
         "Australia/New South Wales/Holiday",
         "12951.6079068",
         "2016-01-01 00:00:00"
        ],
        [
         "36",
         "2016",
         "Australia/New South Wales/Hunter",
         "3317.6235022",
         "2016-01-01 00:00:00"
        ],
        [
         "37",
         "2016",
         "Australia/New South Wales/Hunter/Business",
         "512.9589488",
         "2016-01-01 00:00:00"
        ],
        [
         "38",
         "2016",
         "Australia/New South Wales/Hunter/Holiday",
         "1410.0329687",
         "2016-01-01 00:00:00"
        ],
        [
         "39",
         "2016",
         "Australia/New South Wales/Hunter/Other",
         "147.6380749",
         "2016-01-01 00:00:00"
        ],
        [
         "40",
         "2016",
         "Australia/New South Wales/Hunter/Visiting",
         "1246.9935098",
         "2016-01-01 00:00:00"
        ],
        [
         "41",
         "2016",
         "Australia/New South Wales/New England North West",
         "1410.2912485",
         "2016-01-01 00:00:00"
        ],
        [
         "42",
         "2016",
         "Australia/New South Wales/New England North West/Business",
         "299.7964192",
         "2016-01-01 00:00:00"
        ],
        [
         "43",
         "2016",
         "Australia/New South Wales/New England North West/Holiday",
         "510.912842",
         "2016-01-01 00:00:00"
        ],
        [
         "44",
         "2016",
         "Australia/New South Wales/New England North West/Other",
         "88.5127624",
         "2016-01-01 00:00:00"
        ],
        [
         "45",
         "2016",
         "Australia/New South Wales/New England North West/Visiting",
         "511.0692249",
         "2016-01-01 00:00:00"
        ],
        [
         "46",
         "2016",
         "Australia/New South Wales/North Coast NSW",
         "5160.4537621",
         "2016-01-01 00:00:00"
        ],
        [
         "47",
         "2016",
         "Australia/New South Wales/North Coast NSW/Business",
         "591.5822702",
         "2016-01-01 00:00:00"
        ],
        [
         "48",
         "2016",
         "Australia/New South Wales/North Coast NSW/Holiday",
         "2674.4325966",
         "2016-01-01 00:00:00"
        ],
        [
         "49",
         "2016",
         "Australia/New South Wales/North Coast NSW/Other",
         "174.37495239999998",
         "2016-01-01 00:00:00"
        ]
       ],
       "shape": {
        "columns": 4,
        "rows": 4250
       }
      },
      "text/html": [
       "<div>\n",
       "<style scoped>\n",
       "    .dataframe tbody tr th:only-of-type {\n",
       "        vertical-align: middle;\n",
       "    }\n",
       "\n",
       "    .dataframe tbody tr th {\n",
       "        vertical-align: top;\n",
       "    }\n",
       "\n",
       "    .dataframe thead th {\n",
       "        text-align: right;\n",
       "    }\n",
       "</style>\n",
       "<table border=\"1\" class=\"dataframe\">\n",
       "  <thead>\n",
       "    <tr style=\"text-align: right;\">\n",
       "      <th></th>\n",
       "      <th>temporal_id</th>\n",
       "      <th>unique_id</th>\n",
       "      <th>y</th>\n",
       "      <th>ds</th>\n",
       "    </tr>\n",
       "  </thead>\n",
       "  <tbody>\n",
       "    <tr>\n",
       "      <th>0</th>\n",
       "      <td>2016</td>\n",
       "      <td>Australia</td>\n",
       "      <td>101484.586551</td>\n",
       "      <td>2016-01-01</td>\n",
       "    </tr>\n",
       "    <tr>\n",
       "      <th>1</th>\n",
       "      <td>2016</td>\n",
       "      <td>Australia/ACT</td>\n",
       "      <td>2457.401367</td>\n",
       "      <td>2016-01-01</td>\n",
       "    </tr>\n",
       "    <tr>\n",
       "      <th>2</th>\n",
       "      <td>2016</td>\n",
       "      <td>Australia/ACT/Business</td>\n",
       "      <td>754.139245</td>\n",
       "      <td>2016-01-01</td>\n",
       "    </tr>\n",
       "    <tr>\n",
       "      <th>3</th>\n",
       "      <td>2016</td>\n",
       "      <td>Australia/ACT/Canberra</td>\n",
       "      <td>2457.401367</td>\n",
       "      <td>2016-01-01</td>\n",
       "    </tr>\n",
       "    <tr>\n",
       "      <th>4</th>\n",
       "      <td>2016</td>\n",
       "      <td>Australia/ACT/Canberra/Business</td>\n",
       "      <td>754.139245</td>\n",
       "      <td>2016-01-01</td>\n",
       "    </tr>\n",
       "    <tr>\n",
       "      <th>...</th>\n",
       "      <td>...</td>\n",
       "      <td>...</td>\n",
       "      <td>...</td>\n",
       "      <td>...</td>\n",
       "    </tr>\n",
       "    <tr>\n",
       "      <th>4245</th>\n",
       "      <td>2017/2017-10-01</td>\n",
       "      <td>Australia/Western Australia/Experience Perth/O...</td>\n",
       "      <td>87.494916</td>\n",
       "      <td>2017-10-01</td>\n",
       "    </tr>\n",
       "    <tr>\n",
       "      <th>4246</th>\n",
       "      <td>2017/2017-10-01</td>\n",
       "      <td>Australia/Western Australia/Experience Perth/V...</td>\n",
       "      <td>455.316702</td>\n",
       "      <td>2017-10-01</td>\n",
       "    </tr>\n",
       "    <tr>\n",
       "      <th>4247</th>\n",
       "      <td>2017/2017-10-01</td>\n",
       "      <td>Australia/Western Australia/Holiday</td>\n",
       "      <td>1026.285985</td>\n",
       "      <td>2017-10-01</td>\n",
       "    </tr>\n",
       "    <tr>\n",
       "      <th>4248</th>\n",
       "      <td>2017/2017-10-01</td>\n",
       "      <td>Australia/Western Australia/Other</td>\n",
       "      <td>161.087339</td>\n",
       "      <td>2017-10-01</td>\n",
       "    </tr>\n",
       "    <tr>\n",
       "      <th>4249</th>\n",
       "      <td>2017/2017-10-01</td>\n",
       "      <td>Australia/Western Australia/Visiting</td>\n",
       "      <td>813.184778</td>\n",
       "      <td>2017-10-01</td>\n",
       "    </tr>\n",
       "  </tbody>\n",
       "</table>\n",
       "<p>4250 rows × 4 columns</p>\n",
       "</div>"
      ],
      "text/plain": [
       "          temporal_id                                          unique_id  \\\n",
       "0                2016                                          Australia   \n",
       "1                2016                                      Australia/ACT   \n",
       "2                2016                             Australia/ACT/Business   \n",
       "3                2016                             Australia/ACT/Canberra   \n",
       "4                2016                    Australia/ACT/Canberra/Business   \n",
       "...               ...                                                ...   \n",
       "4245  2017/2017-10-01  Australia/Western Australia/Experience Perth/O...   \n",
       "4246  2017/2017-10-01  Australia/Western Australia/Experience Perth/V...   \n",
       "4247  2017/2017-10-01                Australia/Western Australia/Holiday   \n",
       "4248  2017/2017-10-01                  Australia/Western Australia/Other   \n",
       "4249  2017/2017-10-01               Australia/Western Australia/Visiting   \n",
       "\n",
       "                  y         ds  \n",
       "0     101484.586551 2016-01-01  \n",
       "1       2457.401367 2016-01-01  \n",
       "2        754.139245 2016-01-01  \n",
       "3       2457.401367 2016-01-01  \n",
       "4        754.139245 2016-01-01  \n",
       "...             ...        ...  \n",
       "4245      87.494916 2017-10-01  \n",
       "4246     455.316702 2017-10-01  \n",
       "4247    1026.285985 2017-10-01  \n",
       "4248     161.087339 2017-10-01  \n",
       "4249     813.184778 2017-10-01  \n",
       "\n",
       "[4250 rows x 4 columns]"
      ]
     },
     "execution_count": null,
     "metadata": {},
     "output_type": "execute_result"
    }
   ],
   "source": [
    "Y_df_te_test"
   ]
  },
  {
   "cell_type": "code",
   "execution_count": null,
   "metadata": {},
   "outputs": [
    {
     "data": {
      "application/vnd.microsoft.datawrangler.viewer.v0+json": {
       "columns": [
        {
         "name": "index",
         "rawType": "int64",
         "type": "integer"
        },
        {
         "name": "temporal_id",
         "rawType": "object",
         "type": "string"
        },
        {
         "name": "unique_id",
         "rawType": "object",
         "type": "string"
        },
        {
         "name": "ds",
         "rawType": "datetime64[ns]",
         "type": "datetime"
        }
       ],
       "conversionMethod": "pd.DataFrame",
       "ref": "ba105ef9-fd99-408c-a79e-8747650eb359",
       "rows": [
        [
         "0",
         "2016",
         "Australia",
         "2016-01-01 00:00:00"
        ],
        [
         "1",
         "2016",
         "Australia/ACT",
         "2016-01-01 00:00:00"
        ],
        [
         "2",
         "2016",
         "Australia/ACT/Business",
         "2016-01-01 00:00:00"
        ],
        [
         "3",
         "2016",
         "Australia/ACT/Canberra",
         "2016-01-01 00:00:00"
        ],
        [
         "4",
         "2016",
         "Australia/ACT/Canberra/Business",
         "2016-01-01 00:00:00"
        ],
        [
         "5",
         "2016",
         "Australia/ACT/Canberra/Holiday",
         "2016-01-01 00:00:00"
        ],
        [
         "6",
         "2016",
         "Australia/ACT/Canberra/Other",
         "2016-01-01 00:00:00"
        ],
        [
         "7",
         "2016",
         "Australia/ACT/Canberra/Visiting",
         "2016-01-01 00:00:00"
        ],
        [
         "8",
         "2016",
         "Australia/ACT/Holiday",
         "2016-01-01 00:00:00"
        ],
        [
         "9",
         "2016",
         "Australia/ACT/Other",
         "2016-01-01 00:00:00"
        ],
        [
         "10",
         "2016",
         "Australia/ACT/Visiting",
         "2016-01-01 00:00:00"
        ],
        [
         "11",
         "2016",
         "Australia/Business",
         "2016-01-01 00:00:00"
        ],
        [
         "12",
         "2016",
         "Australia/Holiday",
         "2016-01-01 00:00:00"
        ],
        [
         "13",
         "2016",
         "Australia/New South Wales",
         "2016-01-01 00:00:00"
        ],
        [
         "14",
         "2016",
         "Australia/New South Wales/Blue Mountains",
         "2016-01-01 00:00:00"
        ],
        [
         "15",
         "2016",
         "Australia/New South Wales/Blue Mountains/Business",
         "2016-01-01 00:00:00"
        ],
        [
         "16",
         "2016",
         "Australia/New South Wales/Blue Mountains/Holiday",
         "2016-01-01 00:00:00"
        ],
        [
         "17",
         "2016",
         "Australia/New South Wales/Blue Mountains/Other",
         "2016-01-01 00:00:00"
        ],
        [
         "18",
         "2016",
         "Australia/New South Wales/Blue Mountains/Visiting",
         "2016-01-01 00:00:00"
        ],
        [
         "19",
         "2016",
         "Australia/New South Wales/Business",
         "2016-01-01 00:00:00"
        ],
        [
         "20",
         "2016",
         "Australia/New South Wales/Capital Country",
         "2016-01-01 00:00:00"
        ],
        [
         "21",
         "2016",
         "Australia/New South Wales/Capital Country/Business",
         "2016-01-01 00:00:00"
        ],
        [
         "22",
         "2016",
         "Australia/New South Wales/Capital Country/Holiday",
         "2016-01-01 00:00:00"
        ],
        [
         "23",
         "2016",
         "Australia/New South Wales/Capital Country/Other",
         "2016-01-01 00:00:00"
        ],
        [
         "24",
         "2016",
         "Australia/New South Wales/Capital Country/Visiting",
         "2016-01-01 00:00:00"
        ],
        [
         "25",
         "2016",
         "Australia/New South Wales/Central Coast",
         "2016-01-01 00:00:00"
        ],
        [
         "26",
         "2016",
         "Australia/New South Wales/Central Coast/Business",
         "2016-01-01 00:00:00"
        ],
        [
         "27",
         "2016",
         "Australia/New South Wales/Central Coast/Holiday",
         "2016-01-01 00:00:00"
        ],
        [
         "28",
         "2016",
         "Australia/New South Wales/Central Coast/Other",
         "2016-01-01 00:00:00"
        ],
        [
         "29",
         "2016",
         "Australia/New South Wales/Central Coast/Visiting",
         "2016-01-01 00:00:00"
        ],
        [
         "30",
         "2016",
         "Australia/New South Wales/Central NSW",
         "2016-01-01 00:00:00"
        ],
        [
         "31",
         "2016",
         "Australia/New South Wales/Central NSW/Business",
         "2016-01-01 00:00:00"
        ],
        [
         "32",
         "2016",
         "Australia/New South Wales/Central NSW/Holiday",
         "2016-01-01 00:00:00"
        ],
        [
         "33",
         "2016",
         "Australia/New South Wales/Central NSW/Other",
         "2016-01-01 00:00:00"
        ],
        [
         "34",
         "2016",
         "Australia/New South Wales/Central NSW/Visiting",
         "2016-01-01 00:00:00"
        ],
        [
         "35",
         "2016",
         "Australia/New South Wales/Holiday",
         "2016-01-01 00:00:00"
        ],
        [
         "36",
         "2016",
         "Australia/New South Wales/Hunter",
         "2016-01-01 00:00:00"
        ],
        [
         "37",
         "2016",
         "Australia/New South Wales/Hunter/Business",
         "2016-01-01 00:00:00"
        ],
        [
         "38",
         "2016",
         "Australia/New South Wales/Hunter/Holiday",
         "2016-01-01 00:00:00"
        ],
        [
         "39",
         "2016",
         "Australia/New South Wales/Hunter/Other",
         "2016-01-01 00:00:00"
        ],
        [
         "40",
         "2016",
         "Australia/New South Wales/Hunter/Visiting",
         "2016-01-01 00:00:00"
        ],
        [
         "41",
         "2016",
         "Australia/New South Wales/New England North West",
         "2016-01-01 00:00:00"
        ],
        [
         "42",
         "2016",
         "Australia/New South Wales/New England North West/Business",
         "2016-01-01 00:00:00"
        ],
        [
         "43",
         "2016",
         "Australia/New South Wales/New England North West/Holiday",
         "2016-01-01 00:00:00"
        ],
        [
         "44",
         "2016",
         "Australia/New South Wales/New England North West/Other",
         "2016-01-01 00:00:00"
        ],
        [
         "45",
         "2016",
         "Australia/New South Wales/New England North West/Visiting",
         "2016-01-01 00:00:00"
        ],
        [
         "46",
         "2016",
         "Australia/New South Wales/North Coast NSW",
         "2016-01-01 00:00:00"
        ],
        [
         "47",
         "2016",
         "Australia/New South Wales/North Coast NSW/Business",
         "2016-01-01 00:00:00"
        ],
        [
         "48",
         "2016",
         "Australia/New South Wales/North Coast NSW/Holiday",
         "2016-01-01 00:00:00"
        ],
        [
         "49",
         "2016",
         "Australia/New South Wales/North Coast NSW/Other",
         "2016-01-01 00:00:00"
        ]
       ],
       "shape": {
        "columns": 3,
        "rows": 4250
       }
      },
      "text/html": [
       "<div>\n",
       "<style scoped>\n",
       "    .dataframe tbody tr th:only-of-type {\n",
       "        vertical-align: middle;\n",
       "    }\n",
       "\n",
       "    .dataframe tbody tr th {\n",
       "        vertical-align: top;\n",
       "    }\n",
       "\n",
       "    .dataframe thead th {\n",
       "        text-align: right;\n",
       "    }\n",
       "</style>\n",
       "<table border=\"1\" class=\"dataframe\">\n",
       "  <thead>\n",
       "    <tr style=\"text-align: right;\">\n",
       "      <th></th>\n",
       "      <th>temporal_id</th>\n",
       "      <th>unique_id</th>\n",
       "      <th>ds</th>\n",
       "    </tr>\n",
       "  </thead>\n",
       "  <tbody>\n",
       "    <tr>\n",
       "      <th>0</th>\n",
       "      <td>2016</td>\n",
       "      <td>Australia</td>\n",
       "      <td>2016-01-01</td>\n",
       "    </tr>\n",
       "    <tr>\n",
       "      <th>1</th>\n",
       "      <td>2016</td>\n",
       "      <td>Australia/ACT</td>\n",
       "      <td>2016-01-01</td>\n",
       "    </tr>\n",
       "    <tr>\n",
       "      <th>2</th>\n",
       "      <td>2016</td>\n",
       "      <td>Australia/ACT/Business</td>\n",
       "      <td>2016-01-01</td>\n",
       "    </tr>\n",
       "    <tr>\n",
       "      <th>3</th>\n",
       "      <td>2016</td>\n",
       "      <td>Australia/ACT/Canberra</td>\n",
       "      <td>2016-01-01</td>\n",
       "    </tr>\n",
       "    <tr>\n",
       "      <th>4</th>\n",
       "      <td>2016</td>\n",
       "      <td>Australia/ACT/Canberra/Business</td>\n",
       "      <td>2016-01-01</td>\n",
       "    </tr>\n",
       "    <tr>\n",
       "      <th>...</th>\n",
       "      <td>...</td>\n",
       "      <td>...</td>\n",
       "      <td>...</td>\n",
       "    </tr>\n",
       "    <tr>\n",
       "      <th>4245</th>\n",
       "      <td>2017/2017-10-01</td>\n",
       "      <td>Australia/Western Australia/Experience Perth/O...</td>\n",
       "      <td>2017-10-01</td>\n",
       "    </tr>\n",
       "    <tr>\n",
       "      <th>4246</th>\n",
       "      <td>2017/2017-10-01</td>\n",
       "      <td>Australia/Western Australia/Experience Perth/V...</td>\n",
       "      <td>2017-10-01</td>\n",
       "    </tr>\n",
       "    <tr>\n",
       "      <th>4247</th>\n",
       "      <td>2017/2017-10-01</td>\n",
       "      <td>Australia/Western Australia/Holiday</td>\n",
       "      <td>2017-10-01</td>\n",
       "    </tr>\n",
       "    <tr>\n",
       "      <th>4248</th>\n",
       "      <td>2017/2017-10-01</td>\n",
       "      <td>Australia/Western Australia/Other</td>\n",
       "      <td>2017-10-01</td>\n",
       "    </tr>\n",
       "    <tr>\n",
       "      <th>4249</th>\n",
       "      <td>2017/2017-10-01</td>\n",
       "      <td>Australia/Western Australia/Visiting</td>\n",
       "      <td>2017-10-01</td>\n",
       "    </tr>\n",
       "  </tbody>\n",
       "</table>\n",
       "<p>4250 rows × 3 columns</p>\n",
       "</div>"
      ],
      "text/plain": [
       "          temporal_id                                          unique_id  \\\n",
       "0                2016                                          Australia   \n",
       "1                2016                                      Australia/ACT   \n",
       "2                2016                             Australia/ACT/Business   \n",
       "3                2016                             Australia/ACT/Canberra   \n",
       "4                2016                    Australia/ACT/Canberra/Business   \n",
       "...               ...                                                ...   \n",
       "4245  2017/2017-10-01  Australia/Western Australia/Experience Perth/O...   \n",
       "4246  2017/2017-10-01  Australia/Western Australia/Experience Perth/V...   \n",
       "4247  2017/2017-10-01                Australia/Western Australia/Holiday   \n",
       "4248  2017/2017-10-01                  Australia/Western Australia/Other   \n",
       "4249  2017/2017-10-01               Australia/Western Australia/Visiting   \n",
       "\n",
       "             ds  \n",
       "0    2016-01-01  \n",
       "1    2016-01-01  \n",
       "2    2016-01-01  \n",
       "3    2016-01-01  \n",
       "4    2016-01-01  \n",
       "...         ...  \n",
       "4245 2017-10-01  \n",
       "4246 2017-10-01  \n",
       "4247 2017-10-01  \n",
       "4248 2017-10-01  \n",
       "4249 2017-10-01  \n",
       "\n",
       "[4250 rows x 3 columns]"
      ]
     },
     "execution_count": null,
     "metadata": {},
     "output_type": "execute_result"
    }
   ],
   "source": [
    "Y_df_te_test_new"
   ]
  },
  {
   "cell_type": "markdown",
   "metadata": {},
   "source": [
    "### 3b. Computing base forecasts\n",
    "\n",
    "The following cell computes the **base forecasts** for each temporal aggregation in `Y_dfs_te` using the `AutoETS` model. Observe that `Y_hat_df_te` contains the forecasts but they are not coherent."
   ]
  },
  {
   "cell_type": "code",
   "execution_count": null,
   "metadata": {},
   "outputs": [],
   "source": [
    "Y_hat_dfs_te = []\n",
    "# We will train a model for each temporal level\n",
    "for level, temporal_ids_train in tags_te_train.items():\n",
    "    # Filter the data for the level\n",
    "    Y_level_train = Y_df_te_train.query(\"temporal_id in @temporal_ids_train\")\n",
    "    temporal_ids_test = tags_te_test[level]\n",
    "    Y_level_test = Y_df_te_test.query(\"temporal_id in @temporal_ids_test\")\n",
    "    # For each temporal level we have a different frequency and forecast horizon\n",
    "    freq_level = pd.infer_freq(Y_level_train[\"ds\"].unique())\n",
    "    horizon_level = Y_level_test[\"ds\"].nunique()\n",
    "    # Train a model and create forecasts\n",
    "    fcst = StatsForecast(models=[AutoETS(model='ZZZ')], freq=freq_level, n_jobs=-1)\n",
    "    Y_hat_df_te_level = fcst.forecast(df=Y_level_train[[\"ds\", \"unique_id\", \"y\"]], h=horizon_level)\n",
    "    # Add the test set to the forecast\n",
    "    Y_hat_df_te_level = Y_hat_df_te_level.merge(Y_level_test, on=[\"ds\", \"unique_id\"], how=\"left\")\n",
    "    Y_hat_df_te_level = Y_hat_df_te_level[[\"unique_id\", \"temporal_id\", \"ds\", \"y\", \"AutoETS\"]]\n",
    "    Y_hat_dfs_te.append(Y_hat_df_te_level)\n",
    "\n",
    "Y_hat_df_te = pd.concat(Y_hat_dfs_te, ignore_index=True)\n"
   ]
  },
  {
   "cell_type": "markdown",
   "metadata": {},
   "source": [
    "### 3c. Reconcile forecasts\n",
    "\n",
    "The following cell makes the previous forecasts coherent using the `HierarchicalReconciliation` class. In this example we use `BottomUp` and `MinTrace`. \n",
    "\n",
    "Note that temporal reconcilation currently isn't supported for insample reconciliation methods, such as `MinTrace(method='mint_shrink')`."
   ]
  },
  {
   "cell_type": "code",
   "execution_count": null,
   "metadata": {},
   "outputs": [],
   "source": [
    "reconcilers = [\n",
    "    BottomUp(),\n",
    "    MinTrace(method='ols')\n",
    "]\n",
    "hrec = HierarchicalReconciliation(reconcilers=reconcilers)\n",
    "Y_rec_df_te = hrec.reconcile(Y_hat_df=Y_hat_df_te, S=S_df_te_test, tags=tags_te_test, temporal=True)"
   ]
  },
  {
   "attachments": {},
   "cell_type": "markdown",
   "metadata": {},
   "source": [
    "## 4. Evaluation \n",
    "\n",
    "The `HierarchicalForecast` package includes the `HierarchicalEvaluation` class to evaluate the different hierarchies and also is capable of compute scaled metrics compared to a benchmark model."
   ]
  },
  {
   "cell_type": "code",
   "execution_count": null,
   "metadata": {},
   "outputs": [],
   "source": [
    "from hierarchicalforecast.evaluation import evaluate\n",
    "from utilsforecast.losses import rmse, mase\n",
    "from functools import partial"
   ]
  },
  {
   "cell_type": "markdown",
   "metadata": {},
   "source": [
    "### 4a. Cross-sectional evaluation\n",
    "\n",
    "We first evaluate the cross-sectional forecasts _across all temporal aggregations_."
   ]
  },
  {
   "cell_type": "code",
   "execution_count": null,
   "metadata": {},
   "outputs": [],
   "source": [
    "eval_tags = {}\n",
    "eval_tags['Total'] = tags_cs['Country']\n",
    "eval_tags['Purpose'] = tags_cs['Country/Purpose']\n",
    "eval_tags['State'] = tags_cs['Country/State']\n",
    "eval_tags['Regions'] = tags_cs['Country/State/Region']\n",
    "eval_tags['Bottom'] = tags_cs['Country/State/Region/Purpose']\n",
    "\n",
    "evaluation = evaluate(df = Y_rec_df_te.drop(columns='temporal_id'),\n",
    "                      tags = eval_tags,\n",
    "                      metrics = [rmse])\n",
    "\n",
    "evaluation.columns = ['level', 'metric', 'Base', 'BottomUp', 'MinTrace(ols)']\n",
    "numeric_cols = evaluation.select_dtypes(include=\"number\").columns\n",
    "evaluation[numeric_cols] = evaluation[numeric_cols].map('{:.2f}'.format).astype(np.float64)"
   ]
  },
  {
   "cell_type": "code",
   "execution_count": null,
   "metadata": {},
   "outputs": [
    {
     "name": "stdout",
     "output_type": "stream",
     "text": [
      "     level metric     Base  BottomUp  MinTrace(ols)\n",
      "0    Total   rmse  4089.09   4482.04        4083.23\n",
      "1  Purpose   rmse  1167.85   1284.27        1114.90\n",
      "2    State   rmse   631.81    540.32         614.16\n",
      "3  Regions   rmse   100.14    105.58          96.51\n",
      "4   Bottom   rmse    32.39     33.34          31.62\n",
      "5  Overall   rmse    79.58     81.68          77.37\n"
     ]
    }
   ],
   "source": [
    "print(evaluation)"
   ]
  },
  {
   "cell_type": "markdown",
   "metadata": {},
   "source": [
    "### 4b. Temporal evaluation\n",
    "\n",
    "We then evaluate the temporally aggregated forecasts _across all cross-sections_."
   ]
  },
  {
   "cell_type": "code",
   "execution_count": null,
   "metadata": {},
   "outputs": [],
   "source": [
    "eval_tags = {}\n",
    "eval_tags['Year'] = tags_te_test['year']\n",
    "eval_tags['Quarter'] = tags_te_test['year/ds']\n",
    "\n",
    "evaluation = evaluate(df = Y_rec_df_te.drop(columns='unique_id'),\n",
    "                      tags = eval_tags,\n",
    "                      id_col = 'temporal_id',\n",
    "                      metrics = [rmse])"
   ]
  },
  {
   "cell_type": "code",
   "execution_count": null,
   "metadata": {},
   "outputs": [
    {
     "name": "stdout",
     "output_type": "stream",
     "text": [
      "     level metric     AutoETS  AutoETS/BottomUp  AutoETS/MinTrace_method-ols\n",
      "0     Year   rmse  480.851970        581.181898                   491.843641\n",
      "1  Quarter   rmse  168.016503        168.016503                   152.299021\n",
      "2  Overall   rmse  230.583597        250.649582                   220.207945\n"
     ]
    }
   ],
   "source": [
    "print(evaluation)"
   ]
  },
  {
   "cell_type": "markdown",
   "metadata": {},
   "source": [
    "### 4c. Cross-temporal evaluation\n",
    "\n",
    "Finally, we evaluate cross-temporally.\n"
   ]
  },
  {
   "cell_type": "code",
   "execution_count": null,
   "metadata": {},
   "outputs": [],
   "source": [
    "import itertools"
   ]
  },
  {
   "cell_type": "code",
   "execution_count": null,
   "metadata": {},
   "outputs": [],
   "source": [
    "tags_ct = {}\n",
    "for key_cs, value_cs in tags_cs.items():\n",
    "    for key_te, value_te in tags_te_test.items():\n",
    "        key_ct = key_cs + \"//\" + key_te\n",
    "        value_ct = list(\"//\".join(s) for s in itertools.product(value_cs, value_te))\n",
    "        tags_ct[key_ct] = value_ct"
   ]
  },
  {
   "cell_type": "code",
   "execution_count": null,
   "metadata": {},
   "outputs": [],
   "source": [
    "Y_rec_df_te[\"cross_temporal_id\"] = Y_rec_df_te[\"unique_id\"] + \"//\" + Y_rec_df_te[\"temporal_id\"]"
   ]
  },
  {
   "cell_type": "code",
   "execution_count": null,
   "metadata": {},
   "outputs": [],
   "source": [
    "eval_tags = {}\n",
    "eval_tags['TotalByYear'] = tags_ct['Country//year']\n",
    "eval_tags['TotalByQuarter'] = tags_ct['Country//year/ds']\n",
    "eval_tags['RegionsByYear'] = tags_ct['Country/State/Region//year']\n",
    "eval_tags['RegionsByQuarter'] = tags_ct['Country/State/Region//year/ds']\n",
    "eval_tags['BottomByYear'] = tags_ct['Country/State/Region/Purpose//year']\n",
    "eval_tags['BottomByQuarter'] = tags_ct['Country/State/Region/Purpose//year/ds']\n",
    "\n",
    "evaluation = evaluate(df = Y_rec_df_te.drop(columns=['unique_id', 'temporal_id']),\n",
    "                      tags = eval_tags,\n",
    "                      id_col = 'cross_temporal_id',\n",
    "                      metrics = [rmse])"
   ]
  },
  {
   "cell_type": "code",
   "execution_count": null,
   "metadata": {},
   "outputs": [
    {
     "name": "stdout",
     "output_type": "stream",
     "text": [
      "              level metric      AutoETS  AutoETS/BottomUp  \\\n",
      "0       TotalByYear   rmse  7148.989568       8243.064021   \n",
      "1    TotalByQuarter   rmse  2060.766005       2060.766005   \n",
      "2     RegionsByYear   rmse   151.959299        175.694257   \n",
      "3  RegionsByQuarter   rmse    57.073162         57.073162   \n",
      "4      BottomByYear   rmse    46.979437         50.784616   \n",
      "5   BottomByQuarter   rmse    19.416658         19.416658   \n",
      "6           Overall   rmse    43.141001         45.269455   \n",
      "\n",
      "   AutoETS/MinTrace_method-ols  \n",
      "0                  7367.804458  \n",
      "1                  1876.541785  \n",
      "2                   153.940701  \n",
      "3                    53.986267  \n",
      "4                    46.898020  \n",
      "5                    18.743656  \n",
      "6                    42.012900  \n"
     ]
    }
   ],
   "source": [
    "print(evaluation)"
   ]
  },
  {
   "cell_type": "markdown",
   "metadata": {},
   "source": [
    "We find that the best method is the cross-temporally reconciled method `AutoETS/MinTrace_method-ols`, which achieves overall lowest RMSE."
   ]
  },
  {
   "cell_type": "markdown",
   "metadata": {},
   "source": [
    "### Comparison fable\n",
    "\n",
    "Observe that we can recover the results reported by the [Forecasting: Principles and Practice](https://otexts.com/fpp3/tourism.html). The original results were calculated using the R package [fable](https://github.com/tidyverts/fable).\n",
    "\n",
    "![Fable's reconciliation results](./imgs/AustralianDomesticTourism-results-fable.png)"
   ]
  },
  {
   "cell_type": "markdown",
   "metadata": {},
   "source": [
    "### References\n",
    "- [Hyndman, R.J., & Athanasopoulos, G. (2021). \"Forecasting: principles and practice, 3rd edition: \n",
    "Chapter 11: Forecasting hierarchical and grouped series.\". OTexts: Melbourne, Australia. OTexts.com/fpp3 \n",
    "Accessed on July 2022.](https://otexts.com/fpp3/hierarchical.html)\n",
    "- [Rob Hyndman, Alan Lee, Earo Wang, Shanika Wickramasuriya, and Maintainer Earo Wang (2021). \"hts: Hierarchical and Grouped Time Series\". URL https://CRAN.R-project.org/package=hts. R package version 0.3.1.](https://cran.r-project.org/web/packages/hts/index.html)\n",
    "- [Mitchell O’Hara-Wild, Rob Hyndman, Earo Wang, Gabriel Caceres, Tim-Gunnar Hensel, and Timothy Hyndman (2021). \"fable: Forecasting Models for Tidy Time Series\". URL https://CRAN.R-project.org/package=fable. R package version 6.0.2.](https://CRAN.R-project.org/package=fable)"
   ]
  }
 ],
 "metadata": {
  "kernelspec": {
   "display_name": "python3",
   "language": "python",
   "name": "python3"
  }
 },
 "nbformat": 4,
 "nbformat_minor": 4
}
