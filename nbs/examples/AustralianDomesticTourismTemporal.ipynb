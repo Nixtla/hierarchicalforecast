{
 "cells": [
  {
   "attachments": {},
   "cell_type": "markdown",
   "metadata": {},
   "source": [
    "# Temporal Aggregation (Tourism)\n",
    "\n",
    "> Temporal Hierarchical Forecasting on Australian Tourism Data"
   ]
  },
  {
   "attachments": {},
   "cell_type": "markdown",
   "metadata": {},
   "source": [
    "In many applications, a set of time series is hierarchically organized. Examples include the presence of geographic levels, products, or categories that define different types of aggregations. In such scenarios, forecasters are often required to provide predictions for all disaggregate and aggregate series. A natural desire is for those predictions to be **\"coherent\"**, that is, for the bottom series to add up precisely to the forecasts of the aggregated series.\n",
    "\n",
    "In this notebook we present an example on how to use `HierarchicalForecast` to produce coherent forecasts between  temporal levels. We will use the classic Australian Domestic Tourism (`Tourism`) dataset, which contains monthly time series of the number of visitors to each state of Australia.\n",
    "\n",
    "We will first load the `Tourism` data and produce base forecasts using an `AutoETS` model from `StatsForecast`. Then, we reconciliate the forecasts with several reconciliation algorithms from `HierarchicalForecast` according to a temporal hierarchy."
   ]
  },
  {
   "attachments": {},
   "cell_type": "markdown",
   "metadata": {},
   "source": [
    "You can run these experiments using CPU or GPU with Google Colab.\n",
    "\n",
    "<a href=\"https://colab.research.google.com/github/Nixtla/hierarchicalforecast/blob/main/nbs/examples/AustralianDomesticTourismTemporal.ipynb\" target=\"_parent\"><img src=\"https://colab.research.google.com/assets/colab-badge.svg\" alt=\"Open In Colab\"/></a>"
   ]
  },
  {
   "cell_type": "code",
   "execution_count": null,
   "metadata": {},
   "outputs": [],
   "source": [
    "%%capture\n",
    "!pip install hierarchicalforecast statsforecast"
   ]
  },
  {
   "attachments": {},
   "cell_type": "markdown",
   "metadata": {},
   "source": [
    "## 1. Load and Process Data"
   ]
  },
  {
   "attachments": {},
   "cell_type": "markdown",
   "metadata": {},
   "source": [
    "In this example we will use the [Tourism](https://otexts.com/fpp3/tourism.html) dataset from the [Forecasting: Principles and Practice](https://otexts.com/fpp3/) book.\n",
    "\n",
    "The dataset only contains the time series at the lowest level, so we need to create the time series for all hierarchies."
   ]
  },
  {
   "cell_type": "code",
   "execution_count": null,
   "metadata": {},
   "outputs": [],
   "source": [
    "import numpy as np\n",
    "import pandas as pd"
   ]
  },
  {
   "cell_type": "code",
   "execution_count": null,
   "metadata": {},
   "outputs": [
    {
     "data": {
      "text/html": [
       "<div>\n",
       "<style scoped>\n",
       "    .dataframe tbody tr th:only-of-type {\n",
       "        vertical-align: middle;\n",
       "    }\n",
       "\n",
       "    .dataframe tbody tr th {\n",
       "        vertical-align: top;\n",
       "    }\n",
       "\n",
       "    .dataframe thead th {\n",
       "        text-align: right;\n",
       "    }\n",
       "</style>\n",
       "<table border=\"1\" class=\"dataframe\">\n",
       "  <thead>\n",
       "    <tr style=\"text-align: right;\">\n",
       "      <th></th>\n",
       "      <th>Country</th>\n",
       "      <th>Region</th>\n",
       "      <th>State</th>\n",
       "      <th>Purpose</th>\n",
       "      <th>ds</th>\n",
       "      <th>y</th>\n",
       "    </tr>\n",
       "  </thead>\n",
       "  <tbody>\n",
       "    <tr>\n",
       "      <th>0</th>\n",
       "      <td>Australia</td>\n",
       "      <td>Adelaide</td>\n",
       "      <td>South Australia</td>\n",
       "      <td>Business</td>\n",
       "      <td>1998-01-01</td>\n",
       "      <td>135.077690</td>\n",
       "    </tr>\n",
       "    <tr>\n",
       "      <th>1</th>\n",
       "      <td>Australia</td>\n",
       "      <td>Adelaide</td>\n",
       "      <td>South Australia</td>\n",
       "      <td>Business</td>\n",
       "      <td>1998-04-01</td>\n",
       "      <td>109.987316</td>\n",
       "    </tr>\n",
       "    <tr>\n",
       "      <th>2</th>\n",
       "      <td>Australia</td>\n",
       "      <td>Adelaide</td>\n",
       "      <td>South Australia</td>\n",
       "      <td>Business</td>\n",
       "      <td>1998-07-01</td>\n",
       "      <td>166.034687</td>\n",
       "    </tr>\n",
       "    <tr>\n",
       "      <th>3</th>\n",
       "      <td>Australia</td>\n",
       "      <td>Adelaide</td>\n",
       "      <td>South Australia</td>\n",
       "      <td>Business</td>\n",
       "      <td>1998-10-01</td>\n",
       "      <td>127.160464</td>\n",
       "    </tr>\n",
       "    <tr>\n",
       "      <th>4</th>\n",
       "      <td>Australia</td>\n",
       "      <td>Adelaide</td>\n",
       "      <td>South Australia</td>\n",
       "      <td>Business</td>\n",
       "      <td>1999-01-01</td>\n",
       "      <td>137.448533</td>\n",
       "    </tr>\n",
       "  </tbody>\n",
       "</table>\n",
       "</div>"
      ],
      "text/plain": [
       "     Country    Region            State   Purpose         ds           y\n",
       "0  Australia  Adelaide  South Australia  Business 1998-01-01  135.077690\n",
       "1  Australia  Adelaide  South Australia  Business 1998-04-01  109.987316\n",
       "2  Australia  Adelaide  South Australia  Business 1998-07-01  166.034687\n",
       "3  Australia  Adelaide  South Australia  Business 1998-10-01  127.160464\n",
       "4  Australia  Adelaide  South Australia  Business 1999-01-01  137.448533"
      ]
     },
     "execution_count": null,
     "metadata": {},
     "output_type": "execute_result"
    }
   ],
   "source": [
    "Y_df = pd.read_csv('https://raw.githubusercontent.com/Nixtla/transfer-learning-time-series/main/datasets/tourism.csv')\n",
    "Y_df = Y_df.rename({'Trips': 'y', 'Quarter': 'ds'}, axis=1)\n",
    "Y_df.insert(0, 'Country', 'Australia')\n",
    "Y_df = Y_df[['Country', 'Region', 'State', 'Purpose', 'ds', 'y']]\n",
    "Y_df['ds'] = Y_df['ds'].str.replace(r'(\\d+) (Q\\d)', r'\\1-\\2', regex=True)\n",
    "Y_df['ds'] = pd.PeriodIndex(Y_df[\"ds\"], freq='Q').to_timestamp()\n",
    "Y_df.head()"
   ]
  },
  {
   "cell_type": "markdown",
   "metadata": {},
   "source": [
    "## 2. Temporal reconciliation"
   ]
  },
  {
   "cell_type": "markdown",
   "metadata": {},
   "source": [
    "First, we add a `unique_id` to the data."
   ]
  },
  {
   "cell_type": "code",
   "execution_count": null,
   "metadata": {},
   "outputs": [],
   "source": [
    "Y_df[\"unique_id\"] = Y_df[\"Country\"] + \"/\" + Y_df[\"State\"] + \"/\" + Y_df[\"Region\"] + \"/\" + Y_df[\"Purpose\"]"
   ]
  },
  {
   "cell_type": "markdown",
   "metadata": {},
   "source": [
    "### 2a. Split Train/Test sets\n",
    "\n",
    "We use the final two years (8 quarters) as test set. Consequently, our forecast horizon=8."
   ]
  },
  {
   "cell_type": "code",
   "execution_count": null,
   "metadata": {},
   "outputs": [],
   "source": [
    "horizon = 8"
   ]
  },
  {
   "cell_type": "code",
   "execution_count": null,
   "metadata": {},
   "outputs": [],
   "source": [
    "Y_test_df = Y_df.groupby(\"unique_id\", as_index=False).tail(horizon)\n",
    "Y_train_df = Y_df.drop(Y_test_df.index)"
   ]
  },
  {
   "cell_type": "markdown",
   "metadata": {},
   "source": [
    "### 2a. Aggregating the dataset according to temporal hierarchy"
   ]
  },
  {
   "cell_type": "markdown",
   "metadata": {},
   "source": [
    "We first define the temporal aggregation spec. The spec is a dictionary in which the keys are the name of the aggregation and the value is the amount of bottom-level timesteps that should be aggregated in that aggregation. For example, `year` consists of `12` months, so we define a key, value pair `\"yearly\":12`. We can do something similar for other aggregations that we are interested in.\n",
    "\n",
    "In this example, we choose a temporal aggregation of `year`, `semiannual` and `quarter`. The bottom level timesteps have a quarterly frequency."
   ]
  },
  {
   "cell_type": "code",
   "execution_count": null,
   "metadata": {},
   "outputs": [],
   "source": [
    "spec_temporal = {\"year\": 4, \"semiannual\": 2, \"quarter\": 1}"
   ]
  },
  {
   "cell_type": "markdown",
   "metadata": {},
   "source": [
    "We next compute the temporally aggregated train- and test sets using the `aggregate_temporal` function. Note that we have different aggregation matrices `S` for the train- and test set, as the test set contains temporal hierarchies that are not included in the train set."
   ]
  },
  {
   "cell_type": "code",
   "execution_count": null,
   "metadata": {},
   "outputs": [],
   "source": [
    "from hierarchicalforecast.utils import aggregate_temporal"
   ]
  },
  {
   "cell_type": "code",
   "execution_count": null,
   "metadata": {},
   "outputs": [],
   "source": [
    "Y_train_df, S_train_df, tags_train = aggregate_temporal(df=Y_train_df, spec=spec_temporal)\n",
    "Y_test_df, S_test_df, tags_test = aggregate_temporal(df=Y_test_df,  spec=spec_temporal)\n"
   ]
  },
  {
   "cell_type": "code",
   "execution_count": null,
   "metadata": {},
   "outputs": [
    {
     "data": {
      "text/plain": [
       "{'year': array(['year-1', 'year-2', 'year-3', 'year-4', 'year-5', 'year-6',\n",
       "        'year-7', 'year-8', 'year-9', 'year-10', 'year-11', 'year-12',\n",
       "        'year-13', 'year-14', 'year-15', 'year-16', 'year-17', 'year-18'],\n",
       "       dtype=object),\n",
       " 'semiannual': array(['semiannual-1', 'semiannual-2', 'semiannual-3', 'semiannual-4',\n",
       "        'semiannual-5', 'semiannual-6', 'semiannual-7', 'semiannual-8',\n",
       "        'semiannual-9', 'semiannual-10', 'semiannual-11', 'semiannual-12',\n",
       "        'semiannual-13', 'semiannual-14', 'semiannual-15', 'semiannual-16',\n",
       "        'semiannual-17', 'semiannual-18', 'semiannual-19', 'semiannual-20',\n",
       "        'semiannual-21', 'semiannual-22', 'semiannual-23', 'semiannual-24',\n",
       "        'semiannual-25', 'semiannual-26', 'semiannual-27', 'semiannual-28',\n",
       "        'semiannual-29', 'semiannual-30', 'semiannual-31', 'semiannual-32',\n",
       "        'semiannual-33', 'semiannual-34', 'semiannual-35', 'semiannual-36'],\n",
       "       dtype=object),\n",
       " 'quarter': array(['quarter-1', 'quarter-2', 'quarter-3', 'quarter-4', 'quarter-5',\n",
       "        'quarter-6', 'quarter-7', 'quarter-8', 'quarter-9', 'quarter-10',\n",
       "        'quarter-11', 'quarter-12', 'quarter-13', 'quarter-14',\n",
       "        'quarter-15', 'quarter-16', 'quarter-17', 'quarter-18',\n",
       "        'quarter-19', 'quarter-20', 'quarter-21', 'quarter-22',\n",
       "        'quarter-23', 'quarter-24', 'quarter-25', 'quarter-26',\n",
       "        'quarter-27', 'quarter-28', 'quarter-29', 'quarter-30',\n",
       "        'quarter-31', 'quarter-32', 'quarter-33', 'quarter-34',\n",
       "        'quarter-35', 'quarter-36', 'quarter-37', 'quarter-38',\n",
       "        'quarter-39', 'quarter-40', 'quarter-41', 'quarter-42',\n",
       "        'quarter-43', 'quarter-44', 'quarter-45', 'quarter-46',\n",
       "        'quarter-47', 'quarter-48', 'quarter-49', 'quarter-50',\n",
       "        'quarter-51', 'quarter-52', 'quarter-53', 'quarter-54',\n",
       "        'quarter-55', 'quarter-56', 'quarter-57', 'quarter-58',\n",
       "        'quarter-59', 'quarter-60', 'quarter-61', 'quarter-62',\n",
       "        'quarter-63', 'quarter-64', 'quarter-65', 'quarter-66',\n",
       "        'quarter-67', 'quarter-68', 'quarter-69', 'quarter-70',\n",
       "        'quarter-71', 'quarter-72'], dtype=object)}"
      ]
     },
     "execution_count": null,
     "metadata": {},
     "output_type": "execute_result"
    }
   ],
   "source": [
    "tags_train"
   ]
  },
  {
   "cell_type": "markdown",
   "metadata": {},
   "source": [
    "Our aggregation matrices aggregate the lowest temporal granularity (quarters) up to years."
   ]
  },
  {
   "cell_type": "code",
   "execution_count": null,
   "metadata": {},
   "outputs": [
    {
     "data": {
      "text/html": [
       "<div>\n",
       "<style scoped>\n",
       "    .dataframe tbody tr th:only-of-type {\n",
       "        vertical-align: middle;\n",
       "    }\n",
       "\n",
       "    .dataframe tbody tr th {\n",
       "        vertical-align: top;\n",
       "    }\n",
       "\n",
       "    .dataframe thead th {\n",
       "        text-align: right;\n",
       "    }\n",
       "</style>\n",
       "<table border=\"1\" class=\"dataframe\">\n",
       "  <thead>\n",
       "    <tr style=\"text-align: right;\">\n",
       "      <th></th>\n",
       "      <th>temporal_id</th>\n",
       "      <th>quarter-1</th>\n",
       "      <th>quarter-2</th>\n",
       "      <th>quarter-3</th>\n",
       "      <th>quarter-4</th>\n",
       "    </tr>\n",
       "  </thead>\n",
       "  <tbody>\n",
       "    <tr>\n",
       "      <th>0</th>\n",
       "      <td>year-1</td>\n",
       "      <td>1.0</td>\n",
       "      <td>1.0</td>\n",
       "      <td>1.0</td>\n",
       "      <td>1.0</td>\n",
       "    </tr>\n",
       "    <tr>\n",
       "      <th>1</th>\n",
       "      <td>year-2</td>\n",
       "      <td>0.0</td>\n",
       "      <td>0.0</td>\n",
       "      <td>0.0</td>\n",
       "      <td>0.0</td>\n",
       "    </tr>\n",
       "    <tr>\n",
       "      <th>2</th>\n",
       "      <td>year-3</td>\n",
       "      <td>0.0</td>\n",
       "      <td>0.0</td>\n",
       "      <td>0.0</td>\n",
       "      <td>0.0</td>\n",
       "    </tr>\n",
       "    <tr>\n",
       "      <th>3</th>\n",
       "      <td>year-4</td>\n",
       "      <td>0.0</td>\n",
       "      <td>0.0</td>\n",
       "      <td>0.0</td>\n",
       "      <td>0.0</td>\n",
       "    </tr>\n",
       "    <tr>\n",
       "      <th>4</th>\n",
       "      <td>year-5</td>\n",
       "      <td>0.0</td>\n",
       "      <td>0.0</td>\n",
       "      <td>0.0</td>\n",
       "      <td>0.0</td>\n",
       "    </tr>\n",
       "  </tbody>\n",
       "</table>\n",
       "</div>"
      ],
      "text/plain": [
       "  temporal_id  quarter-1  quarter-2  quarter-3  quarter-4\n",
       "0      year-1        1.0        1.0        1.0        1.0\n",
       "1      year-2        0.0        0.0        0.0        0.0\n",
       "2      year-3        0.0        0.0        0.0        0.0\n",
       "3      year-4        0.0        0.0        0.0        0.0\n",
       "4      year-5        0.0        0.0        0.0        0.0"
      ]
     },
     "execution_count": null,
     "metadata": {},
     "output_type": "execute_result"
    }
   ],
   "source": [
    "S_train_df.iloc[:5, :5]"
   ]
  },
  {
   "cell_type": "code",
   "execution_count": null,
   "metadata": {},
   "outputs": [
    {
     "data": {
      "text/html": [
       "<div>\n",
       "<style scoped>\n",
       "    .dataframe tbody tr th:only-of-type {\n",
       "        vertical-align: middle;\n",
       "    }\n",
       "\n",
       "    .dataframe tbody tr th {\n",
       "        vertical-align: top;\n",
       "    }\n",
       "\n",
       "    .dataframe thead th {\n",
       "        text-align: right;\n",
       "    }\n",
       "</style>\n",
       "<table border=\"1\" class=\"dataframe\">\n",
       "  <thead>\n",
       "    <tr style=\"text-align: right;\">\n",
       "      <th></th>\n",
       "      <th>temporal_id</th>\n",
       "      <th>quarter-1</th>\n",
       "      <th>quarter-2</th>\n",
       "      <th>quarter-3</th>\n",
       "      <th>quarter-4</th>\n",
       "    </tr>\n",
       "  </thead>\n",
       "  <tbody>\n",
       "    <tr>\n",
       "      <th>0</th>\n",
       "      <td>year-1</td>\n",
       "      <td>1.0</td>\n",
       "      <td>1.0</td>\n",
       "      <td>1.0</td>\n",
       "      <td>1.0</td>\n",
       "    </tr>\n",
       "    <tr>\n",
       "      <th>1</th>\n",
       "      <td>year-2</td>\n",
       "      <td>0.0</td>\n",
       "      <td>0.0</td>\n",
       "      <td>0.0</td>\n",
       "      <td>0.0</td>\n",
       "    </tr>\n",
       "    <tr>\n",
       "      <th>2</th>\n",
       "      <td>semiannual-1</td>\n",
       "      <td>1.0</td>\n",
       "      <td>1.0</td>\n",
       "      <td>0.0</td>\n",
       "      <td>0.0</td>\n",
       "    </tr>\n",
       "    <tr>\n",
       "      <th>3</th>\n",
       "      <td>semiannual-2</td>\n",
       "      <td>0.0</td>\n",
       "      <td>0.0</td>\n",
       "      <td>1.0</td>\n",
       "      <td>1.0</td>\n",
       "    </tr>\n",
       "    <tr>\n",
       "      <th>4</th>\n",
       "      <td>semiannual-3</td>\n",
       "      <td>0.0</td>\n",
       "      <td>0.0</td>\n",
       "      <td>0.0</td>\n",
       "      <td>0.0</td>\n",
       "    </tr>\n",
       "  </tbody>\n",
       "</table>\n",
       "</div>"
      ],
      "text/plain": [
       "    temporal_id  quarter-1  quarter-2  quarter-3  quarter-4\n",
       "0        year-1        1.0        1.0        1.0        1.0\n",
       "1        year-2        0.0        0.0        0.0        0.0\n",
       "2  semiannual-1        1.0        1.0        0.0        0.0\n",
       "3  semiannual-2        0.0        0.0        1.0        1.0\n",
       "4  semiannual-3        0.0        0.0        0.0        0.0"
      ]
     },
     "execution_count": null,
     "metadata": {},
     "output_type": "execute_result"
    }
   ],
   "source": [
    "S_test_df.iloc[:5, :5]"
   ]
  },
  {
   "cell_type": "markdown",
   "metadata": {},
   "source": [
    "If you don't have a test set available, as is usually the case when you're making forecasts, it is necessary to create a future dataframe that holds the correct bottom-level unique_ids and timestamps so that they can be temporally aggregated. We can use the `make_future_dataframe` helper function for that."
   ]
  },
  {
   "cell_type": "code",
   "execution_count": null,
   "metadata": {},
   "outputs": [],
   "source": [
    "from hierarchicalforecast.utils import make_future_dataframe"
   ]
  },
  {
   "cell_type": "code",
   "execution_count": null,
   "metadata": {},
   "outputs": [],
   "source": [
    "Y_test_df_new = make_future_dataframe(Y_train_df, freq=\"QS\", h=horizon)"
   ]
  },
  {
   "cell_type": "markdown",
   "metadata": {},
   "source": [
    "`Y_test_df_new` can be then used in `aggregate_temporal` to construct the temporally aggregated structures:"
   ]
  },
  {
   "cell_type": "code",
   "execution_count": null,
   "metadata": {},
   "outputs": [],
   "source": [
    "Y_test_df_new, S_test_df_new, tags_test_new = aggregate_temporal(df=Y_test_df_new,  spec=spec_temporal)"
   ]
  },
  {
   "cell_type": "markdown",
   "metadata": {},
   "source": [
    "And we can verify that we have the same temporally aggregated test set, except that `Y_test_df_new` doesn't contain the ground truth values `y`."
   ]
  },
  {
   "cell_type": "code",
   "execution_count": null,
   "metadata": {},
   "outputs": [
    {
     "data": {
      "text/html": [
       "<div>\n",
       "<style scoped>\n",
       "    .dataframe tbody tr th:only-of-type {\n",
       "        vertical-align: middle;\n",
       "    }\n",
       "\n",
       "    .dataframe tbody tr th {\n",
       "        vertical-align: top;\n",
       "    }\n",
       "\n",
       "    .dataframe thead th {\n",
       "        text-align: right;\n",
       "    }\n",
       "</style>\n",
       "<table border=\"1\" class=\"dataframe\">\n",
       "  <thead>\n",
       "    <tr style=\"text-align: right;\">\n",
       "      <th></th>\n",
       "      <th>temporal_id</th>\n",
       "      <th>quarter-1</th>\n",
       "      <th>quarter-2</th>\n",
       "      <th>quarter-3</th>\n",
       "      <th>quarter-4</th>\n",
       "      <th>quarter-5</th>\n",
       "      <th>quarter-6</th>\n",
       "      <th>quarter-7</th>\n",
       "      <th>quarter-8</th>\n",
       "    </tr>\n",
       "  </thead>\n",
       "  <tbody>\n",
       "    <tr>\n",
       "      <th>0</th>\n",
       "      <td>year-1</td>\n",
       "      <td>1.0</td>\n",
       "      <td>1.0</td>\n",
       "      <td>1.0</td>\n",
       "      <td>1.0</td>\n",
       "      <td>0.0</td>\n",
       "      <td>0.0</td>\n",
       "      <td>0.0</td>\n",
       "      <td>0.0</td>\n",
       "    </tr>\n",
       "    <tr>\n",
       "      <th>1</th>\n",
       "      <td>year-2</td>\n",
       "      <td>0.0</td>\n",
       "      <td>0.0</td>\n",
       "      <td>0.0</td>\n",
       "      <td>0.0</td>\n",
       "      <td>1.0</td>\n",
       "      <td>1.0</td>\n",
       "      <td>1.0</td>\n",
       "      <td>1.0</td>\n",
       "    </tr>\n",
       "    <tr>\n",
       "      <th>2</th>\n",
       "      <td>semiannual-1</td>\n",
       "      <td>1.0</td>\n",
       "      <td>1.0</td>\n",
       "      <td>0.0</td>\n",
       "      <td>0.0</td>\n",
       "      <td>0.0</td>\n",
       "      <td>0.0</td>\n",
       "      <td>0.0</td>\n",
       "      <td>0.0</td>\n",
       "    </tr>\n",
       "    <tr>\n",
       "      <th>3</th>\n",
       "      <td>semiannual-2</td>\n",
       "      <td>0.0</td>\n",
       "      <td>0.0</td>\n",
       "      <td>1.0</td>\n",
       "      <td>1.0</td>\n",
       "      <td>0.0</td>\n",
       "      <td>0.0</td>\n",
       "      <td>0.0</td>\n",
       "      <td>0.0</td>\n",
       "    </tr>\n",
       "    <tr>\n",
       "      <th>4</th>\n",
       "      <td>semiannual-3</td>\n",
       "      <td>0.0</td>\n",
       "      <td>0.0</td>\n",
       "      <td>0.0</td>\n",
       "      <td>0.0</td>\n",
       "      <td>1.0</td>\n",
       "      <td>1.0</td>\n",
       "      <td>0.0</td>\n",
       "      <td>0.0</td>\n",
       "    </tr>\n",
       "    <tr>\n",
       "      <th>5</th>\n",
       "      <td>semiannual-4</td>\n",
       "      <td>0.0</td>\n",
       "      <td>0.0</td>\n",
       "      <td>0.0</td>\n",
       "      <td>0.0</td>\n",
       "      <td>0.0</td>\n",
       "      <td>0.0</td>\n",
       "      <td>1.0</td>\n",
       "      <td>1.0</td>\n",
       "    </tr>\n",
       "    <tr>\n",
       "      <th>6</th>\n",
       "      <td>quarter-1</td>\n",
       "      <td>1.0</td>\n",
       "      <td>0.0</td>\n",
       "      <td>0.0</td>\n",
       "      <td>0.0</td>\n",
       "      <td>0.0</td>\n",
       "      <td>0.0</td>\n",
       "      <td>0.0</td>\n",
       "      <td>0.0</td>\n",
       "    </tr>\n",
       "    <tr>\n",
       "      <th>7</th>\n",
       "      <td>quarter-2</td>\n",
       "      <td>0.0</td>\n",
       "      <td>1.0</td>\n",
       "      <td>0.0</td>\n",
       "      <td>0.0</td>\n",
       "      <td>0.0</td>\n",
       "      <td>0.0</td>\n",
       "      <td>0.0</td>\n",
       "      <td>0.0</td>\n",
       "    </tr>\n",
       "    <tr>\n",
       "      <th>8</th>\n",
       "      <td>quarter-3</td>\n",
       "      <td>0.0</td>\n",
       "      <td>0.0</td>\n",
       "      <td>1.0</td>\n",
       "      <td>0.0</td>\n",
       "      <td>0.0</td>\n",
       "      <td>0.0</td>\n",
       "      <td>0.0</td>\n",
       "      <td>0.0</td>\n",
       "    </tr>\n",
       "    <tr>\n",
       "      <th>9</th>\n",
       "      <td>quarter-4</td>\n",
       "      <td>0.0</td>\n",
       "      <td>0.0</td>\n",
       "      <td>0.0</td>\n",
       "      <td>1.0</td>\n",
       "      <td>0.0</td>\n",
       "      <td>0.0</td>\n",
       "      <td>0.0</td>\n",
       "      <td>0.0</td>\n",
       "    </tr>\n",
       "    <tr>\n",
       "      <th>10</th>\n",
       "      <td>quarter-5</td>\n",
       "      <td>0.0</td>\n",
       "      <td>0.0</td>\n",
       "      <td>0.0</td>\n",
       "      <td>0.0</td>\n",
       "      <td>1.0</td>\n",
       "      <td>0.0</td>\n",
       "      <td>0.0</td>\n",
       "      <td>0.0</td>\n",
       "    </tr>\n",
       "    <tr>\n",
       "      <th>11</th>\n",
       "      <td>quarter-6</td>\n",
       "      <td>0.0</td>\n",
       "      <td>0.0</td>\n",
       "      <td>0.0</td>\n",
       "      <td>0.0</td>\n",
       "      <td>0.0</td>\n",
       "      <td>1.0</td>\n",
       "      <td>0.0</td>\n",
       "      <td>0.0</td>\n",
       "    </tr>\n",
       "    <tr>\n",
       "      <th>12</th>\n",
       "      <td>quarter-7</td>\n",
       "      <td>0.0</td>\n",
       "      <td>0.0</td>\n",
       "      <td>0.0</td>\n",
       "      <td>0.0</td>\n",
       "      <td>0.0</td>\n",
       "      <td>0.0</td>\n",
       "      <td>1.0</td>\n",
       "      <td>0.0</td>\n",
       "    </tr>\n",
       "    <tr>\n",
       "      <th>13</th>\n",
       "      <td>quarter-8</td>\n",
       "      <td>0.0</td>\n",
       "      <td>0.0</td>\n",
       "      <td>0.0</td>\n",
       "      <td>0.0</td>\n",
       "      <td>0.0</td>\n",
       "      <td>0.0</td>\n",
       "      <td>0.0</td>\n",
       "      <td>1.0</td>\n",
       "    </tr>\n",
       "  </tbody>\n",
       "</table>\n",
       "</div>"
      ],
      "text/plain": [
       "     temporal_id  quarter-1  quarter-2  quarter-3  quarter-4  quarter-5  \\\n",
       "0         year-1        1.0        1.0        1.0        1.0        0.0   \n",
       "1         year-2        0.0        0.0        0.0        0.0        1.0   \n",
       "2   semiannual-1        1.0        1.0        0.0        0.0        0.0   \n",
       "3   semiannual-2        0.0        0.0        1.0        1.0        0.0   \n",
       "4   semiannual-3        0.0        0.0        0.0        0.0        1.0   \n",
       "5   semiannual-4        0.0        0.0        0.0        0.0        0.0   \n",
       "6      quarter-1        1.0        0.0        0.0        0.0        0.0   \n",
       "7      quarter-2        0.0        1.0        0.0        0.0        0.0   \n",
       "8      quarter-3        0.0        0.0        1.0        0.0        0.0   \n",
       "9      quarter-4        0.0        0.0        0.0        1.0        0.0   \n",
       "10     quarter-5        0.0        0.0        0.0        0.0        1.0   \n",
       "11     quarter-6        0.0        0.0        0.0        0.0        0.0   \n",
       "12     quarter-7        0.0        0.0        0.0        0.0        0.0   \n",
       "13     quarter-8        0.0        0.0        0.0        0.0        0.0   \n",
       "\n",
       "    quarter-6  quarter-7  quarter-8  \n",
       "0         0.0        0.0        0.0  \n",
       "1         1.0        1.0        1.0  \n",
       "2         0.0        0.0        0.0  \n",
       "3         0.0        0.0        0.0  \n",
       "4         1.0        0.0        0.0  \n",
       "5         0.0        1.0        1.0  \n",
       "6         0.0        0.0        0.0  \n",
       "7         0.0        0.0        0.0  \n",
       "8         0.0        0.0        0.0  \n",
       "9         0.0        0.0        0.0  \n",
       "10        0.0        0.0        0.0  \n",
       "11        1.0        0.0        0.0  \n",
       "12        0.0        1.0        0.0  \n",
       "13        0.0        0.0        1.0  "
      ]
     },
     "execution_count": null,
     "metadata": {},
     "output_type": "execute_result"
    }
   ],
   "source": [
    "S_test_df_new"
   ]
  },
  {
   "cell_type": "code",
   "execution_count": null,
   "metadata": {},
   "outputs": [
    {
     "data": {
      "text/html": [
       "<div>\n",
       "<style scoped>\n",
       "    .dataframe tbody tr th:only-of-type {\n",
       "        vertical-align: middle;\n",
       "    }\n",
       "\n",
       "    .dataframe tbody tr th {\n",
       "        vertical-align: top;\n",
       "    }\n",
       "\n",
       "    .dataframe thead th {\n",
       "        text-align: right;\n",
       "    }\n",
       "</style>\n",
       "<table border=\"1\" class=\"dataframe\">\n",
       "  <thead>\n",
       "    <tr style=\"text-align: right;\">\n",
       "      <th></th>\n",
       "      <th>temporal_id</th>\n",
       "      <th>unique_id</th>\n",
       "      <th>ds</th>\n",
       "      <th>y</th>\n",
       "    </tr>\n",
       "  </thead>\n",
       "  <tbody>\n",
       "    <tr>\n",
       "      <th>0</th>\n",
       "      <td>year-1</td>\n",
       "      <td>Australia/ACT/Canberra/Business</td>\n",
       "      <td>2016-10-01</td>\n",
       "      <td>754.139245</td>\n",
       "    </tr>\n",
       "    <tr>\n",
       "      <th>1</th>\n",
       "      <td>year-2</td>\n",
       "      <td>Australia/ACT/Canberra/Business</td>\n",
       "      <td>2017-10-01</td>\n",
       "      <td>809.950839</td>\n",
       "    </tr>\n",
       "    <tr>\n",
       "      <th>2</th>\n",
       "      <td>year-1</td>\n",
       "      <td>Australia/ACT/Canberra/Holiday</td>\n",
       "      <td>2016-10-01</td>\n",
       "      <td>735.365896</td>\n",
       "    </tr>\n",
       "    <tr>\n",
       "      <th>3</th>\n",
       "      <td>year-2</td>\n",
       "      <td>Australia/ACT/Canberra/Holiday</td>\n",
       "      <td>2017-10-01</td>\n",
       "      <td>834.717900</td>\n",
       "    </tr>\n",
       "    <tr>\n",
       "      <th>4</th>\n",
       "      <td>year-1</td>\n",
       "      <td>Australia/ACT/Canberra/Other</td>\n",
       "      <td>2016-10-01</td>\n",
       "      <td>175.239916</td>\n",
       "    </tr>\n",
       "    <tr>\n",
       "      <th>...</th>\n",
       "      <td>...</td>\n",
       "      <td>...</td>\n",
       "      <td>...</td>\n",
       "      <td>...</td>\n",
       "    </tr>\n",
       "    <tr>\n",
       "      <th>4251</th>\n",
       "      <td>quarter-4</td>\n",
       "      <td>Australia/Western Australia/Experience Perth/V...</td>\n",
       "      <td>2016-10-01</td>\n",
       "      <td>439.699451</td>\n",
       "    </tr>\n",
       "    <tr>\n",
       "      <th>4252</th>\n",
       "      <td>quarter-5</td>\n",
       "      <td>Australia/Western Australia/Experience Perth/V...</td>\n",
       "      <td>2017-01-01</td>\n",
       "      <td>356.867038</td>\n",
       "    </tr>\n",
       "    <tr>\n",
       "      <th>4253</th>\n",
       "      <td>quarter-6</td>\n",
       "      <td>Australia/Western Australia/Experience Perth/V...</td>\n",
       "      <td>2017-04-01</td>\n",
       "      <td>302.296119</td>\n",
       "    </tr>\n",
       "    <tr>\n",
       "      <th>4254</th>\n",
       "      <td>quarter-7</td>\n",
       "      <td>Australia/Western Australia/Experience Perth/V...</td>\n",
       "      <td>2017-07-01</td>\n",
       "      <td>373.442070</td>\n",
       "    </tr>\n",
       "    <tr>\n",
       "      <th>4255</th>\n",
       "      <td>quarter-8</td>\n",
       "      <td>Australia/Western Australia/Experience Perth/V...</td>\n",
       "      <td>2017-10-01</td>\n",
       "      <td>455.316702</td>\n",
       "    </tr>\n",
       "  </tbody>\n",
       "</table>\n",
       "<p>4256 rows × 4 columns</p>\n",
       "</div>"
      ],
      "text/plain": [
       "     temporal_id                                          unique_id  \\\n",
       "0         year-1                    Australia/ACT/Canberra/Business   \n",
       "1         year-2                    Australia/ACT/Canberra/Business   \n",
       "2         year-1                     Australia/ACT/Canberra/Holiday   \n",
       "3         year-2                     Australia/ACT/Canberra/Holiday   \n",
       "4         year-1                       Australia/ACT/Canberra/Other   \n",
       "...          ...                                                ...   \n",
       "4251   quarter-4  Australia/Western Australia/Experience Perth/V...   \n",
       "4252   quarter-5  Australia/Western Australia/Experience Perth/V...   \n",
       "4253   quarter-6  Australia/Western Australia/Experience Perth/V...   \n",
       "4254   quarter-7  Australia/Western Australia/Experience Perth/V...   \n",
       "4255   quarter-8  Australia/Western Australia/Experience Perth/V...   \n",
       "\n",
       "             ds           y  \n",
       "0    2016-10-01  754.139245  \n",
       "1    2017-10-01  809.950839  \n",
       "2    2016-10-01  735.365896  \n",
       "3    2017-10-01  834.717900  \n",
       "4    2016-10-01  175.239916  \n",
       "...         ...         ...  \n",
       "4251 2016-10-01  439.699451  \n",
       "4252 2017-01-01  356.867038  \n",
       "4253 2017-04-01  302.296119  \n",
       "4254 2017-07-01  373.442070  \n",
       "4255 2017-10-01  455.316702  \n",
       "\n",
       "[4256 rows x 4 columns]"
      ]
     },
     "execution_count": null,
     "metadata": {},
     "output_type": "execute_result"
    }
   ],
   "source": [
    "Y_test_df"
   ]
  },
  {
   "cell_type": "code",
   "execution_count": null,
   "metadata": {},
   "outputs": [
    {
     "data": {
      "text/html": [
       "<div>\n",
       "<style scoped>\n",
       "    .dataframe tbody tr th:only-of-type {\n",
       "        vertical-align: middle;\n",
       "    }\n",
       "\n",
       "    .dataframe tbody tr th {\n",
       "        vertical-align: top;\n",
       "    }\n",
       "\n",
       "    .dataframe thead th {\n",
       "        text-align: right;\n",
       "    }\n",
       "</style>\n",
       "<table border=\"1\" class=\"dataframe\">\n",
       "  <thead>\n",
       "    <tr style=\"text-align: right;\">\n",
       "      <th></th>\n",
       "      <th>temporal_id</th>\n",
       "      <th>unique_id</th>\n",
       "      <th>ds</th>\n",
       "    </tr>\n",
       "  </thead>\n",
       "  <tbody>\n",
       "    <tr>\n",
       "      <th>0</th>\n",
       "      <td>year-1</td>\n",
       "      <td>Australia/ACT/Canberra/Business</td>\n",
       "      <td>2016-10-01</td>\n",
       "    </tr>\n",
       "    <tr>\n",
       "      <th>1</th>\n",
       "      <td>year-2</td>\n",
       "      <td>Australia/ACT/Canberra/Business</td>\n",
       "      <td>2017-10-01</td>\n",
       "    </tr>\n",
       "    <tr>\n",
       "      <th>2</th>\n",
       "      <td>year-1</td>\n",
       "      <td>Australia/ACT/Canberra/Holiday</td>\n",
       "      <td>2016-10-01</td>\n",
       "    </tr>\n",
       "    <tr>\n",
       "      <th>3</th>\n",
       "      <td>year-2</td>\n",
       "      <td>Australia/ACT/Canberra/Holiday</td>\n",
       "      <td>2017-10-01</td>\n",
       "    </tr>\n",
       "    <tr>\n",
       "      <th>4</th>\n",
       "      <td>year-1</td>\n",
       "      <td>Australia/ACT/Canberra/Other</td>\n",
       "      <td>2016-10-01</td>\n",
       "    </tr>\n",
       "    <tr>\n",
       "      <th>...</th>\n",
       "      <td>...</td>\n",
       "      <td>...</td>\n",
       "      <td>...</td>\n",
       "    </tr>\n",
       "    <tr>\n",
       "      <th>4251</th>\n",
       "      <td>quarter-4</td>\n",
       "      <td>Australia/Western Australia/Experience Perth/V...</td>\n",
       "      <td>2016-10-01</td>\n",
       "    </tr>\n",
       "    <tr>\n",
       "      <th>4252</th>\n",
       "      <td>quarter-5</td>\n",
       "      <td>Australia/Western Australia/Experience Perth/V...</td>\n",
       "      <td>2017-01-01</td>\n",
       "    </tr>\n",
       "    <tr>\n",
       "      <th>4253</th>\n",
       "      <td>quarter-6</td>\n",
       "      <td>Australia/Western Australia/Experience Perth/V...</td>\n",
       "      <td>2017-04-01</td>\n",
       "    </tr>\n",
       "    <tr>\n",
       "      <th>4254</th>\n",
       "      <td>quarter-7</td>\n",
       "      <td>Australia/Western Australia/Experience Perth/V...</td>\n",
       "      <td>2017-07-01</td>\n",
       "    </tr>\n",
       "    <tr>\n",
       "      <th>4255</th>\n",
       "      <td>quarter-8</td>\n",
       "      <td>Australia/Western Australia/Experience Perth/V...</td>\n",
       "      <td>2017-10-01</td>\n",
       "    </tr>\n",
       "  </tbody>\n",
       "</table>\n",
       "<p>4256 rows × 3 columns</p>\n",
       "</div>"
      ],
      "text/plain": [
       "     temporal_id                                          unique_id         ds\n",
       "0         year-1                    Australia/ACT/Canberra/Business 2016-10-01\n",
       "1         year-2                    Australia/ACT/Canberra/Business 2017-10-01\n",
       "2         year-1                     Australia/ACT/Canberra/Holiday 2016-10-01\n",
       "3         year-2                     Australia/ACT/Canberra/Holiday 2017-10-01\n",
       "4         year-1                       Australia/ACT/Canberra/Other 2016-10-01\n",
       "...          ...                                                ...        ...\n",
       "4251   quarter-4  Australia/Western Australia/Experience Perth/V... 2016-10-01\n",
       "4252   quarter-5  Australia/Western Australia/Experience Perth/V... 2017-01-01\n",
       "4253   quarter-6  Australia/Western Australia/Experience Perth/V... 2017-04-01\n",
       "4254   quarter-7  Australia/Western Australia/Experience Perth/V... 2017-07-01\n",
       "4255   quarter-8  Australia/Western Australia/Experience Perth/V... 2017-10-01\n",
       "\n",
       "[4256 rows x 3 columns]"
      ]
     },
     "execution_count": null,
     "metadata": {},
     "output_type": "execute_result"
    }
   ],
   "source": [
    "Y_test_df_new"
   ]
  },
  {
   "cell_type": "markdown",
   "metadata": {},
   "source": [
    "### 3b. Computing base forecasts\n",
    "\n",
    "Now, we need to compute base forecasts for each temporal aggregation. The following cell computes the **base forecasts** for each temporal aggregation in `Y_train_df` using the `AutoETS` model. Observe that `Y_hat_df` contains the forecasts but they are not coherent.\n",
    "\n",
    "Note also that both frequency and horizon are different for each temporal aggregation. In this example, the lowest level has a quarterly frequency, and a horizon of `8` (constituting `2` years). The `year` aggregation thus has a yearly frequency with a horizon of `2`.\n",
    "\n",
    "It is of course possible to choose a different model for each level in the temporal aggregation - you can be as creative as you like!"
   ]
  },
  {
   "cell_type": "code",
   "execution_count": null,
   "metadata": {},
   "outputs": [],
   "source": [
    "from statsforecast.models import AutoETS\n",
    "from statsforecast.core import StatsForecast"
   ]
  },
  {
   "cell_type": "code",
   "execution_count": null,
   "metadata": {},
   "outputs": [],
   "source": [
    "Y_hat_dfs = []\n",
    "id_cols = [\"unique_id\", \"temporal_id\", \"ds\", \"y\"]\n",
    "# We will train a model for each temporal level\n",
    "for level, temporal_ids_train in tags_train.items():\n",
    "    # Filter the data for the level\n",
    "    Y_level_train = Y_train_df.query(\"temporal_id in @temporal_ids_train\")\n",
    "    temporal_ids_test = tags_test[level]\n",
    "    Y_level_test = Y_test_df.query(\"temporal_id in @temporal_ids_test\")\n",
    "    # For each temporal level we have a different frequency and forecast horizon\n",
    "    freq_level = pd.infer_freq(Y_level_train[\"ds\"].unique())\n",
    "    horizon_level = Y_level_test[\"ds\"].nunique()\n",
    "    # Train a model and create forecasts\n",
    "    fcst = StatsForecast(models=[AutoETS(model='ZZZ')], freq=freq_level, n_jobs=-1)\n",
    "    Y_hat_df_level = fcst.forecast(df=Y_level_train[[\"ds\", \"unique_id\", \"y\"]], h=horizon_level, level=[80, 90])\n",
    "    # Add the test set to the forecast\n",
    "    Y_hat_df_level = Y_hat_df_level.merge(Y_level_test, on=[\"ds\", \"unique_id\"], how=\"left\")\n",
    "    # Put cols in the right order (for readability)\n",
    "    Y_hat_cols = id_cols + [col for col in Y_hat_df_level.columns if col not in id_cols]\n",
    "    Y_hat_df_level = Y_hat_df_level[Y_hat_cols]\n",
    "    # Append the forecast to the list\n",
    "    Y_hat_dfs.append(Y_hat_df_level)\n",
    "\n",
    "Y_hat_df = pd.concat(Y_hat_dfs, ignore_index=True)\n"
   ]
  },
  {
   "cell_type": "markdown",
   "metadata": {},
   "source": [
    "### 3c. Reconcile forecasts\n",
    "\n",
    "We can use the `HierarchicalReconciliation` class to reconcile the forecasts. In this example we use `BottomUp` and `MinTrace`. Note that we have to set `temporal=True` in the `reconcile` function.\n",
    "\n",
    "Note that temporal reconcilation currently isn't supported for insample reconciliation methods, such as `MinTrace(method='mint_shrink')`."
   ]
  },
  {
   "cell_type": "code",
   "execution_count": null,
   "metadata": {},
   "outputs": [],
   "source": [
    "from hierarchicalforecast.methods import BottomUp, MinTrace\n",
    "from hierarchicalforecast.core import HierarchicalReconciliation"
   ]
  },
  {
   "cell_type": "code",
   "execution_count": null,
   "metadata": {},
   "outputs": [],
   "source": [
    "reconcilers = [\n",
    "    BottomUp(),\n",
    "    MinTrace(method=\"ols\"),\n",
    "]\n",
    "hrec = HierarchicalReconciliation(reconcilers=reconcilers)\n",
    "Y_rec_df = hrec.reconcile(Y_hat_df=Y_hat_df, \n",
    "                          S_df=S_test_df, \n",
    "                          tags=tags_test, \n",
    "                          temporal=True, \n",
    "                          level=[80, 90])"
   ]
  },
  {
   "attachments": {},
   "cell_type": "markdown",
   "metadata": {},
   "source": [
    "## 4. Evaluation \n",
    "\n",
    "The `HierarchicalForecast` package includes the `evaluate` function to evaluate the different hierarchies."
   ]
  },
  {
   "cell_type": "markdown",
   "metadata": {},
   "source": [
    "We evaluate the temporally aggregated forecasts _across all temporal aggregations_."
   ]
  },
  {
   "cell_type": "code",
   "execution_count": null,
   "metadata": {},
   "outputs": [],
   "source": [
    "from hierarchicalforecast.evaluation import evaluate\n",
    "from utilsforecast.losses import mae, scaled_crps"
   ]
  },
  {
   "cell_type": "code",
   "execution_count": null,
   "metadata": {},
   "outputs": [],
   "source": [
    "evaluation = evaluate(df = Y_rec_df.drop(columns = 'unique_id'),\n",
    "                      tags = tags_test,\n",
    "                      metrics = [mae, scaled_crps],\n",
    "                      level = [80, 90],\n",
    "                      id_col='temporal_id')\n",
    "\n",
    "evaluation.columns = ['level', 'metric', 'Base', 'BottomUp', 'MinTrace(ols)']\n",
    "numeric_cols = evaluation.select_dtypes(include=\"number\").columns\n",
    "evaluation[numeric_cols] = evaluation[numeric_cols].map('{:.3}'.format).astype(np.float64)"
   ]
  },
  {
   "cell_type": "code",
   "execution_count": null,
   "metadata": {},
   "outputs": [
    {
     "data": {
      "text/html": [
       "<div>\n",
       "<style scoped>\n",
       "    .dataframe tbody tr th:only-of-type {\n",
       "        vertical-align: middle;\n",
       "    }\n",
       "\n",
       "    .dataframe tbody tr th {\n",
       "        vertical-align: top;\n",
       "    }\n",
       "\n",
       "    .dataframe thead th {\n",
       "        text-align: right;\n",
       "    }\n",
       "</style>\n",
       "<table border=\"1\" class=\"dataframe\">\n",
       "  <thead>\n",
       "    <tr style=\"text-align: right;\">\n",
       "      <th></th>\n",
       "      <th>level</th>\n",
       "      <th>metric</th>\n",
       "      <th>Base</th>\n",
       "      <th>BottomUp</th>\n",
       "      <th>MinTrace(ols)</th>\n",
       "    </tr>\n",
       "  </thead>\n",
       "  <tbody>\n",
       "    <tr>\n",
       "      <th>0</th>\n",
       "      <td>year</td>\n",
       "      <td>mae</td>\n",
       "      <td>47.0000</td>\n",
       "      <td>50.8000</td>\n",
       "      <td>46.7000</td>\n",
       "    </tr>\n",
       "    <tr>\n",
       "      <th>1</th>\n",
       "      <td>year</td>\n",
       "      <td>scaled_crps</td>\n",
       "      <td>0.0562</td>\n",
       "      <td>0.0620</td>\n",
       "      <td>0.0666</td>\n",
       "    </tr>\n",
       "    <tr>\n",
       "      <th>2</th>\n",
       "      <td>semiannual</td>\n",
       "      <td>mae</td>\n",
       "      <td>29.5000</td>\n",
       "      <td>30.5000</td>\n",
       "      <td>29.1000</td>\n",
       "    </tr>\n",
       "    <tr>\n",
       "      <th>3</th>\n",
       "      <td>semiannual</td>\n",
       "      <td>scaled_crps</td>\n",
       "      <td>0.0643</td>\n",
       "      <td>0.0681</td>\n",
       "      <td>0.0727</td>\n",
       "    </tr>\n",
       "    <tr>\n",
       "      <th>4</th>\n",
       "      <td>quarter</td>\n",
       "      <td>mae</td>\n",
       "      <td>19.4000</td>\n",
       "      <td>19.4000</td>\n",
       "      <td>18.7000</td>\n",
       "    </tr>\n",
       "    <tr>\n",
       "      <th>5</th>\n",
       "      <td>quarter</td>\n",
       "      <td>scaled_crps</td>\n",
       "      <td>0.0876</td>\n",
       "      <td>0.0876</td>\n",
       "      <td>0.0864</td>\n",
       "    </tr>\n",
       "    <tr>\n",
       "      <th>6</th>\n",
       "      <td>Overall</td>\n",
       "      <td>mae</td>\n",
       "      <td>26.2000</td>\n",
       "      <td>27.1000</td>\n",
       "      <td>25.7000</td>\n",
       "    </tr>\n",
       "    <tr>\n",
       "      <th>7</th>\n",
       "      <td>Overall</td>\n",
       "      <td>scaled_crps</td>\n",
       "      <td>0.0765</td>\n",
       "      <td>0.0784</td>\n",
       "      <td>0.0797</td>\n",
       "    </tr>\n",
       "  </tbody>\n",
       "</table>\n",
       "</div>"
      ],
      "text/plain": [
       "        level       metric     Base  BottomUp  MinTrace(ols)\n",
       "0        year          mae  47.0000   50.8000        46.7000\n",
       "1        year  scaled_crps   0.0562    0.0620         0.0666\n",
       "2  semiannual          mae  29.5000   30.5000        29.1000\n",
       "3  semiannual  scaled_crps   0.0643    0.0681         0.0727\n",
       "4     quarter          mae  19.4000   19.4000        18.7000\n",
       "5     quarter  scaled_crps   0.0876    0.0876         0.0864\n",
       "6     Overall          mae  26.2000   27.1000        25.7000\n",
       "7     Overall  scaled_crps   0.0765    0.0784         0.0797"
      ]
     },
     "execution_count": null,
     "metadata": {},
     "output_type": "execute_result"
    }
   ],
   "source": [
    "evaluation"
   ]
  },
  {
   "cell_type": "markdown",
   "metadata": {},
   "source": [
    "`MinTrace(ols)` is the best overall point method, scoring the lowest `mae` on the `year` and `semiannual` aggregated forecasts as well as the `quarter` bottom-level aggregated forecasts. However, the `Base` method is better overall on the probabilistic measure `crps`, where it scores the lowest, indicating that the uncertainty levels predicted with the `Base` method are better in this example."
   ]
  },
  {
   "cell_type": "markdown",
   "metadata": {},
   "source": [
    "## Appendix: plotting the S matrix\n"
   ]
  },
  {
   "cell_type": "code",
   "execution_count": null,
   "metadata": {},
   "outputs": [],
   "source": [
    "from hierarchicalforecast.utils import HierarchicalPlot"
   ]
  },
  {
   "cell_type": "markdown",
   "metadata": {},
   "source": [
    "We plot our summing matrix for the test set. It's fairly straightforward: there are two years in the test set, consisting of 4 quarters each. \n",
    "* The first row of the `S` matrix shows how the aggregation `2016` can be obtained by summing the 4 quarters in 2016.\n",
    "* The second row of the `S` matrix shows how the aggregation `2017` can be obtained by summing the 4 quarters in 2017. \n",
    "* The next 4 rows show how the semi-annual aggregations can be obtained.\n",
    "* The final rows are the identity matrix for each quarter, denoting the bottom temporal level (each quarter).\n"
   ]
  },
  {
   "cell_type": "code",
   "execution_count": null,
   "metadata": {},
   "outputs": [
    {
     "data": {
      "image/png": "[encoded data removed]",
      "text/plain": [
       "<Figure size 320x480 with 1 Axes>"
      ]
     },
     "metadata": {},
     "output_type": "display_data"
    }
   ],
   "source": [
    "hplot = HierarchicalPlot(S=S_test_df, tags=tags_test, S_id_col=\"temporal_id\")\n",
    "hplot.plot_summing_matrix()"
   ]
  }
 ],
 "metadata": {
  "kernelspec": {
   "display_name": "python3",
   "language": "python",
   "name": "python3"
  }
 },
 "nbformat": 4,
 "nbformat_minor": 4
}
