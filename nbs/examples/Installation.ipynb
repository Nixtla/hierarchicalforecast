{
 "cells": [
  {
   "attachments": {},
   "cell_type": "markdown",
   "id": "14f5686c-449b-4376-8c58-fc8141f4b0f8",
   "metadata": {},
   "source": [
    "# Install\n",
    "\n",
    "> Install HierachicalForecast with pip or conda"
   ]
  },
  {
   "attachments": {},
   "cell_type": "markdown",
   "id": "0f1d1483-6da7-4372-8390-84c9c280109e",
   "metadata": {},
   "source": [
    "We recommend using `uv` as Python package manager, for which you can find installation instructions [here](https://docs.astral.sh/uv/getting-started/installation/).\n",
    "\n",
    "You can then install the *released version* of `HierachicalForecast`:\n",
    "\n",
    "```python\n",
    "uv pip install hierarchicalforecast\n",
    "```\n",
    "\n",
    "Alternatively, you can directly install from the [Python package index](https://pypi.org) with:\n",
    "```python\n",
    "pip install hierarchicalforecast\n",
    "```\n",
    "\n",
    "or within a `conda` environment:\n",
    "\n",
    "```python\n",
    "conda install -c conda-forge hierarchicalforecast\n",
    "``` \n",
    "\n",
    ":::{.callout-tip}\n",
    "We recommend installing your libraries inside a python virtual or [conda environment](https://docs.conda.io/projects/conda/en/latest/user-guide/install/macos.html).\n",
    ":::\n",
    "\n",
    "#### Installing from source\n",
    "\n",
    "We recommend using `uv` as Python package manager, for which you can find installation instructions [here](https://docs.astral.sh/uv/getting-started/installation/).\n",
    "\n",
    "1. Clone the HierachicalForecast repo: \n",
    "\n",
    "```bash \n",
    "$ git clone https://github.com/Nixtla/hierachicalforecast.git && cd hierachicalforecast\n",
    "```\n",
    "\n",
    "2. Create the environment: \n",
    "\n",
    "```bash \n",
    "$ uv venv --python 3.10\n",
    "```\n",
    "\n",
    "3. Activate the environment:\n",
    "- on MacOS / Linux:\n",
    "```bash\n",
    "$ source .venv/bin/activate\n",
    "```\n",
    "- on Windows:\n",
    "```bash\n",
    "$ .\\.venv\\Scripts\\activate\n",
    "```\n",
    "\n",
    "4. Install the dependencies and the library\n",
    "```bash\n",
    "uv pip install -r setup.py\n",
    "uv pip install .\n",
    "```"
   ]
  }
 ],
 "metadata": {
  "kernelspec": {
   "display_name": "python3",
   "language": "python",
   "name": "python3"
  }
 },
 "nbformat": 4,
 "nbformat_minor": 5
}
