{
 "cells": [
  {
   "attachments": {},
   "cell_type": "markdown",
   "id": "14f5686c-449b-4376-8c58-fc8141f4b0f8",
   "metadata": {},
   "source": [
    "# Install\n",
    "\n",
    "> Install HierachicalForecast with pip or conda"
   ]
  },
  {
   "attachments": {},
   "cell_type": "markdown",
   "id": "0f1d1483-6da7-4372-8390-84c9c280109e",
   "metadata": {},
   "source": [
    "You can install the *released version* of `HierachicalForecast` from the [Python package index](https://pypi.org) with:\n",
    "\n",
    "```python\n",
    "pip install hierarchicalforecast\n",
    "```\n",
    "\n",
    "or \n",
    "\n",
    "```python\n",
    "conda install -c conda-forge hierarchicalforecast\n",
    "``` \n",
    "\n",
    ":::{.callout-tip}\n",
    "We recommend installing your libraries inside a python virtual or [conda environment](https://docs.conda.io/projects/conda/en/latest/user-guide/install/macos.html).\n",
    ":::\n",
    "\n",
    "#### User our env (optional)\n",
    "\n",
    "If you don't have a Conda environment and need tools like Numba, Pandas, NumPy, Jupyter, StatsModels, and Nbdev you can use ours by following these steps:\n",
    "\n",
    "1. Clone the HierachicalForecast repo: \n",
    "\n",
    "```bash \n",
    "$ git clone https://github.com/Nixtla/hierachicalforecast.git && cd hierachicalforecast\n",
    "```\n",
    "\n",
    "2. Create the environment using the `environment.yml` file: \n",
    "\n",
    "```bash \n",
    "$ conda env create -f environment.yml\n",
    "```\n",
    "\n",
    "3. Activate the environment:\n",
    "```bash\n",
    "$ conda activate statsforecast\n",
    "```"
   ]
  }
 ],
 "metadata": {
  "kernelspec": {
   "display_name": "python3",
   "language": "python",
   "name": "python3"
  }
 },
 "nbformat": 4,
 "nbformat_minor": 5
}
