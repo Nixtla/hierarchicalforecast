{
 "cells": [
  {
   "attachments": {},
   "cell_type": "markdown",
   "id": "843cf8de-d678-4243-a8af-d78439058e6a",
   "metadata": {},
   "source": [
    "# Non-Negative MinTrace"
   ]
  },
  {
   "attachments": {},
   "cell_type": "markdown",
   "id": "0a836410-7063-4766-b03c-7d22b6abe457",
   "metadata": {},
   "source": [
    "Large collections of time series organized into structures at different aggregation levels often require their forecasts to follow their aggregation constraints and to be nonnegative, which poses the challenge of creating novel algorithms capable of coherent forecasts.\n",
    "\n",
    "The `HierarchicalForecast` package provides a wide collection of Python implementations of hierarchical forecasting algorithms that follow nonnegative hierarchical reconciliation.\n",
    "\n",
    "In this notebook, we will show how to use the `HierarchicalForecast` package to perform nonnegative reconciliation of forecasts on `Wiki2` dataset."
   ]
  },
  {
   "attachments": {},
   "cell_type": "markdown",
   "id": "b0d8182a",
   "metadata": {},
   "source": [
    "You can run these experiments using CPU or GPU with Google Colab.\n",
    "\n",
    "<a href=\"https://colab.research.google.com/github/Nixtla/hierarchicalforecast/blob/main/nbs/examples/NonNegativeReconciliation.ipynb\" target=\"_parent\"><img src=\"https://colab.research.google.com/assets/colab-badge.svg\" alt=\"Open In Colab\"/></a>"
   ]
  },
  {
   "cell_type": "code",
   "execution_count": null,
   "id": "7f777bdd-dff4-4bc0-8529-b492874de6f0",
   "metadata": {},
   "outputs": [],
   "source": [
    "%%capture\n",
    "!pip install hierarchicalforecast statsforecast datasetsforecast"
   ]
  },
  {
   "attachments": {},
   "cell_type": "markdown",
   "id": "2a910ea0",
   "metadata": {},
   "source": [
    "## 1. Load Data"
   ]
  },
  {
   "cell_type": "markdown",
   "id": "3e921d0e-ac88-440a-a961-02ef9844b403",
   "metadata": {},
   "source": [
    "In this example we will use the `Wiki2` dataset. The following cell gets the time series for the different levels in the hierarchy, the summing dataframe  `S_df` which recovers the full dataset from the bottom level hierarchy and the indices of each hierarchy denoted by `tags`."
   ]
  },
  {
   "cell_type": "code",
   "execution_count": null,
   "id": "51af708b",
   "metadata": {},
   "outputs": [],
   "source": [
    "import numpy as np\n",
    "import pandas as pd\n",
    "\n",
    "from datasetsforecast.hierarchical import HierarchicalData"
   ]
  },
  {
   "cell_type": "code",
   "execution_count": null,
   "id": "c18a4300-5b8f-45b5-92ce-e52f8c4dab20",
   "metadata": {},
   "outputs": [],
   "source": [
    "Y_df, S_df, tags = HierarchicalData.load('./data', 'Wiki2')\n",
    "Y_df['ds'] = pd.to_datetime(Y_df['ds'])\n",
    "S_df = S_df.reset_index(names=\"unique_id\")"
   ]
  },
  {
   "cell_type": "code",
   "execution_count": null,
   "id": "5c6d7ad8-c219-4c95-9736-700e372ddb32",
   "metadata": {},
   "outputs": [],
   "source": [
    "Y_df.head()"
   ]
  },
  {
   "cell_type": "code",
   "execution_count": null,
   "id": "b964394e-6a79-4c75-be74-3c3994e1bf58",
   "metadata": {},
   "outputs": [],
   "source": [
    "S_df.iloc[:5, :5]"
   ]
  },
  {
   "cell_type": "code",
   "execution_count": null,
   "id": "fd32f1a5-2b60-454e-afc9-6911f84f6698",
   "metadata": {},
   "outputs": [],
   "source": [
    "tags"
   ]
  },
  {
   "cell_type": "markdown",
   "id": "56a7aadb-6e2c-456a-a0b5-b29b30deadb5",
   "metadata": {},
   "source": [
    "We split the dataframe in train/test splits."
   ]
  },
  {
   "cell_type": "code",
   "execution_count": null,
   "id": "462451d8-2fc0-445e-9458-908811011dd9",
   "metadata": {},
   "outputs": [],
   "source": [
    "Y_test_df = Y_df.groupby('unique_id', as_index=False).tail(7)\n",
    "Y_train_df = Y_df.drop(Y_test_df.index)"
   ]
  },
  {
   "attachments": {},
   "cell_type": "markdown",
   "id": "c6eb7b54",
   "metadata": {},
   "source": [
    "## 2. Base Forecasts"
   ]
  },
  {
   "cell_type": "markdown",
   "id": "b7cfb43a-cd16-418c-a04b-e075c176cc9e",
   "metadata": {},
   "source": [
    "The following cell computes the *base forecast* for each time series using the `AutoETS` model. Observe that `Y_hat_df` contains the forecasts but they are not coherent."
   ]
  },
  {
   "cell_type": "code",
   "execution_count": null,
   "id": "cb09ba77",
   "metadata": {},
   "outputs": [],
   "source": [
    "%%capture\n",
    "from statsforecast.models import AutoETS, Naive\n",
    "from statsforecast.core import StatsForecast"
   ]
  },
  {
   "cell_type": "code",
   "execution_count": null,
   "id": "f99e7b7b-f4b8-4f2f-a1a7-c8be98a1e280",
   "metadata": {},
   "outputs": [],
   "source": [
    "%%capture\n",
    "fcst = StatsForecast(\n",
    "    models=[AutoETS(season_length=7, model='ZAA'), Naive()], \n",
    "    freq='D', \n",
    "    n_jobs=-1\n",
    ")\n",
    "Y_hat_df = fcst.forecast(df=Y_train_df, h=7)"
   ]
  },
  {
   "cell_type": "markdown",
   "id": "8eb06be5-1bf1-4e4f-90ad-4e635dacd640",
   "metadata": {},
   "source": [
    "Observe that the `AutoETS` model computes negative forecasts for some series."
   ]
  },
  {
   "cell_type": "code",
   "execution_count": null,
   "id": "585f7bff-3dfc-4e1c-8a9d-e147ddb68c9b",
   "metadata": {},
   "outputs": [],
   "source": [
    "Y_hat_df.query('AutoETS < 0')"
   ]
  },
  {
   "attachments": {},
   "cell_type": "markdown",
   "id": "752a0a14",
   "metadata": {},
   "source": [
    "## 3. Non-Negative Reconciliation"
   ]
  },
  {
   "cell_type": "markdown",
   "id": "cc296762-2009-4aef-8b31-f24aad9d0787",
   "metadata": {},
   "source": [
    "The following cell makes the previous forecasts coherent and nonnegative using the `HierarchicalReconciliation` class."
   ]
  },
  {
   "cell_type": "code",
   "execution_count": null,
   "id": "c8e683ac",
   "metadata": {},
   "outputs": [],
   "source": [
    "from hierarchicalforecast.methods import MinTrace\n",
    "from hierarchicalforecast.core import HierarchicalReconciliation"
   ]
  },
  {
   "cell_type": "code",
   "execution_count": null,
   "id": "a43be9e7-99a9-4981-bfd7-8552efba9751",
   "metadata": {},
   "outputs": [],
   "source": [
    "%%capture\n",
    "reconcilers = [\n",
    "    MinTrace(method='ols'),\n",
    "    MinTrace(method='ols', nonnegative=True)\n",
    "]\n",
    "hrec = HierarchicalReconciliation(reconcilers=reconcilers)\n",
    "Y_rec_df = hrec.reconcile(Y_hat_df=Y_hat_df, Y_df=Y_train_df,\n",
    "                          S=S_df, tags=tags)"
   ]
  },
  {
   "cell_type": "markdown",
   "id": "21a82e2b-03b6-4c0d-ac0c-5fdcca7572f2",
   "metadata": {},
   "source": [
    "Observe that the nonnegative reconciliation method obtains nonnegative forecasts. "
   ]
  },
  {
   "cell_type": "code",
   "execution_count": null,
   "id": "21f3b1e5",
   "metadata": {},
   "outputs": [],
   "source": [
    "Y_rec_df"
   ]
  },
  {
   "cell_type": "code",
   "execution_count": null,
   "id": "960bdca8-cb98-431b-aeb1-0233da339867",
   "metadata": {},
   "outputs": [],
   "source": [
    "Y_rec_df.query('`AutoETS/MinTrace_method-ols_nonnegative-True` < 0')"
   ]
  },
  {
   "cell_type": "markdown",
   "id": "33d5176c-0581-4c6a-8ab0-4cfa1a0cef7a",
   "metadata": {},
   "source": [
    "The free reconciliation method gets negative forecasts."
   ]
  },
  {
   "cell_type": "code",
   "execution_count": null,
   "id": "2ac023b6-a42d-4167-93da-fcc521a12f80",
   "metadata": {},
   "outputs": [],
   "source": [
    "Y_rec_df.query('`AutoETS/MinTrace_method-ols` < 0')"
   ]
  },
  {
   "attachments": {},
   "cell_type": "markdown",
   "id": "55edb754",
   "metadata": {},
   "source": [
    "## 4. Evaluation"
   ]
  },
  {
   "cell_type": "markdown",
   "id": "03c4752c-53f8-4b1f-8169-32075b8e4050",
   "metadata": {},
   "source": [
    "The `HierarchicalForecast` package includes the `evaluate` function to evaluate the different hierarchies. We use `utilsforecast` to compute the mean absolute error."
   ]
  },
  {
   "cell_type": "code",
   "execution_count": null,
   "id": "96056857",
   "metadata": {},
   "outputs": [],
   "source": [
    "from hierarchicalforecast.evaluation import evaluate\n",
    "from utilsforecast.losses import mse"
   ]
  },
  {
   "cell_type": "code",
   "execution_count": null,
   "id": "7f43aabe",
   "metadata": {},
   "outputs": [],
   "source": [
    "evaluation = evaluate(df = Y_rec_df.merge(Y_test_df, on=['unique_id', 'ds']),\n",
    "                      tags = tags,\n",
    "                      train_df = Y_train_df,\n",
    "                      metrics = [mse],\n",
    "                      benchmark=\"Naive\")\n",
    "\n",
    "evaluation.set_index([\"level\", \"metric\"]).filter(like='ETS')"
   ]
  },
  {
   "cell_type": "markdown",
   "id": "c16f960d-77c9-4acc-8438-ee14bf738cf7",
   "metadata": {},
   "source": [
    "Observe that the nonnegative reconciliation method performs better (lower error) than its unconstrained counterpart."
   ]
  },
  {
   "cell_type": "markdown",
   "id": "a51830f5",
   "metadata": {},
   "source": [
    "### References\n",
    "- [Hyndman, R.J., & Athanasopoulos, G. (2021). \"Forecasting: principles and practice, 3rd edition: \n",
    "Chapter 11: Forecasting hierarchical and grouped series.\". OTexts: Melbourne, Australia. OTexts.com/fpp3 \n",
    "Accessed on July 2022.](https://otexts.com/fpp3/hierarchical.html)\n",
    "- [Wickramasuriya, S. L., Athanasopoulos, G., & Hyndman, R. J. (2019). \\\"Optimal forecast reconciliation for\n",
    "    hierarchical and grouped time series through trace minimization\\\". Journal of the American Statistical Association, \n",
    "    114 , 804–819. doi:10.1080/01621459.2018.1448825.](https://robjhyndman.com/publications/mint/).\n",
    "- [Wickramasuriya, S.L., Turlach, B.A. & Hyndman, R.J. (2020). \\\"Optimal non-negative\n",
    "    forecast reconciliation\". Stat Comput 30, 1167–1182, \n",
    "    https://doi.org/10.1007/s11222-020-09930-0](https://robjhyndman.com/publications/nnmint/)."
   ]
  }
 ],
 "metadata": {
  "kernelspec": {
   "display_name": "python3",
   "language": "python",
   "name": "python3"
  }
 },
 "nbformat": 4,
 "nbformat_minor": 5
}
