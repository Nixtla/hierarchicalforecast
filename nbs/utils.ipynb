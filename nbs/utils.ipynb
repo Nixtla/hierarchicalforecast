{
 "cells": [
  {
   "cell_type": "code",
   "execution_count": null,
   "id": "b3226c32-707e-45a6-ab7f-9d8f33924670",
   "metadata": {},
   "outputs": [],
   "source": [
    "#| default_exp utils"
   ]
  },
  {
   "cell_type": "markdown",
   "id": "5955e6c8-f4cd-49a6-b6c8-b91c4392a6d3",
   "metadata": {},
   "source": [
    "# Utils for Hierarchical Time Series Forecasting"
   ]
  },
  {
   "cell_type": "code",
   "execution_count": null,
   "id": "74967eef-4a18-433e-9dc8-d5e8e6d7dd9a",
   "metadata": {},
   "outputs": [],
   "source": [
    "#| export\n",
    "from itertools import chain\n",
    "from typing import Callable, List\n",
    "\n",
    "import numpy as np\n",
    "import pandas as pd\n",
    "from sklearn.preprocessing import OneHotEncoder"
   ]
  },
  {
   "cell_type": "code",
   "execution_count": null,
   "id": "3a501424-ebfd-403c-982e-280cb859bd0f",
   "metadata": {},
   "outputs": [],
   "source": [
    "#| hide\n",
    "from fastcore.test import test_eq\n",
    "from nbdev.showdoc import show_doc"
   ]
  },
  {
   "cell_type": "code",
   "execution_count": null,
   "id": "e585c763-cba5-48f5-a021-822622f3b4ba",
   "metadata": {},
   "outputs": [],
   "source": [
    "#| exporti\n",
    "def _to_summing_matrix(S_df: pd.DataFrame):\n",
    "    \"\"\"Transforms the DataFrame `df` of hierarchies to a summing matrix S.\"\"\"\n",
    "    categories = [S_df[col].unique() for col in S_df.columns]\n",
    "    cat_sizes = [len(cats) for cats in categories]\n",
    "    idx_bottom = np.argmax(cat_sizes)\n",
    "    cats_bottom = categories[idx_bottom]\n",
    "    encoder = OneHotEncoder(categories=categories, sparse=False, dtype=np.float32)\n",
    "    S = encoder.fit_transform(S_df).T\n",
    "    S = pd.DataFrame(S, index=chain(*categories), columns=cats_bottom)\n",
    "    tags = dict(zip(S_df.columns, categories))\n",
    "    return S, tags"
   ]
  },
  {
   "cell_type": "code",
   "execution_count": null,
   "id": "40374c36-a0f0-4539-92af-1bcbdfe26714",
   "metadata": {},
   "outputs": [],
   "source": [
    "#| export\n",
    "def aggregate(\n",
    "        df: pd.DataFrame, # DataFrame with columns `['ds', 'y']` and columns to aggregate\n",
    "        spec: List[List[str]], # List of levels. Each element of the list contains a list of columns of `df` to aggregate.\n",
    "        agg_fn: Callable = np.sum# Function used to aggregate `'y'`.\n",
    "    ):\n",
    "    \"\"\"Aggregation Class.\n",
    "    [Source code](https://github.com/dluuo/hierarchicalforecast/blob/main/hierarchicalforecast/methods.py).\n",
    "\n",
    "    Aggregates `df` according to `spec` using `agg_fn`.\n",
    "\n",
    "    **Parameters:**<br>\n",
    "    `df`: DataFrame with columns `['ds', 'y']` and columns to aggregate.<br>\n",
    "    `spec`: List of levels. Each element of the list contains a list of columns of `df` to aggregate.<br>\n",
    "    `agg_fn`: Function used to aggregate `'y'`.<br>\n",
    "    \"\"\"\n",
    "    max_len_idx = np.argmax([len(hier) for hier in spec])\n",
    "    bottom_comb = spec[max_len_idx]\n",
    "    orig_cols = df.drop(labels=['ds', 'y'], axis=1).columns.to_list()\n",
    "    df_hiers = []\n",
    "    for hier in spec:\n",
    "        df_hier = df.groupby(hier + ['ds'])['y'].apply(agg_fn).reset_index()\n",
    "        df_hier['unique_id'] = df_hier[hier].agg('/'.join, axis=1)\n",
    "        if hier == bottom_comb:\n",
    "            bottom_hier = df_hier['unique_id'].unique()\n",
    "        df_hiers.append(df_hier)\n",
    "    df_hiers = pd.concat(df_hiers)\n",
    "    S_df = df_hiers[['unique_id'] + bottom_comb].drop_duplicates().reset_index(drop=True)\n",
    "    S_df = S_df.set_index('unique_id')\n",
    "    S_df = S_df.fillna('agg')\n",
    "    hiers_cols = []\n",
    "    for hier in spec:\n",
    "        hier_col = '/'.join(hier) \n",
    "        S_df[hier_col] = S_df[hier].agg('/'.join, axis=1)\n",
    "        hiers_cols.append(hier_col)\n",
    "    y_df = df_hiers[['unique_id', 'ds', 'y']].set_index('unique_id')\n",
    "    #S definition\n",
    "    S, tags = _to_summing_matrix(S_df.loc[bottom_hier, hiers_cols])\n",
    "    return y_df, S, tags"
   ]
  },
  {
   "cell_type": "code",
   "execution_count": null,
   "id": "95b3ec5f-2dcf-4232-8a89-f76c445e0441",
   "metadata": {},
   "outputs": [],
   "source": [
    "show_doc(aggregate)"
   ]
  },
  {
   "cell_type": "code",
   "execution_count": null,
   "id": "96fd8bd9-d7e8-4602-a1ad-021f404532f9",
   "metadata": {},
   "outputs": [],
   "source": [
    "#| hide\n",
    "df = pd.read_csv('https://raw.githubusercontent.com/Nixtla/transfer-learning-time-series/main/datasets/tourism.csv')\n",
    "df = df.rename({'Trips': 'y', 'Quarter': 'ds'}, axis=1)\n",
    "df.insert(0, 'Country', 'Australia')\n",
    "hiers_grouped = [\n",
    "    ['Country'],\n",
    "    ['Country', 'State'], \n",
    "    ['Country', 'Purpose'], \n",
    "    ['Country', 'State', 'Region'], \n",
    "    ['Country', 'State', 'Purpose'], \n",
    "    ['Country', 'State', 'Region', 'Purpose']\n",
    "]\n",
    "hier_df, S, tags = aggregate(df, hiers_grouped)\n",
    "test_eq(len(hier_df), 34_000)\n",
    "test_eq(hier_df.index.nunique(), 425)\n",
    "test_eq(S.shape, (425, 304))\n",
    "test_eq(hier_df.index.unique(), S.index)\n",
    "test_eq(len(tags), len(hiers_grouped))"
   ]
  }
 ],
 "metadata": {
  "kernelspec": {
   "display_name": "Python 3 (ipykernel)",
   "language": "python",
   "name": "python3"
  },
  "language_info": {
   "codemirror_mode": {
    "name": "ipython",
    "version": 3
   },
   "file_extension": ".py",
   "mimetype": "text/x-python",
   "name": "python",
   "nbconvert_exporter": "python",
   "pygments_lexer": "ipython3",
   "version": "3.9.7"
  }
 },
 "nbformat": 4,
 "nbformat_minor": 5
}
