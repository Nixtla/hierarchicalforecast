{
 "cells": [
  {
   "attachments": {},
   "cell_type": "markdown",
   "id": "018f6145-b103-4f3e-b4cd-0aab4d8bbdb7",
   "metadata": {},
   "source": [
    "# Hierarchical Forecast 👑"
   ]
  },
  {
   "cell_type": "markdown",
   "id": "112249bc-95d7-42bd-9eb9-b6bb7dda5b20",
   "metadata": {},
   "source": [
    "Large collections of time series organized into structures at different aggregation levels often require their forecasts to follow their aggregation constraints, which poses the challenge of creating novel algorithms capable of coherent forecasts.\n",
    "\n",
    "**HierarchicalForecast** offers a collection of reconciliation methods, including `BottomUp`, `TopDown`, `MiddleOut`, `MinTrace` and `ERM`. And Probabilistic coherent predictions including `Normality`, `Bootstrap`, and `PERMBU`."
   ]
  },
  {
   "cell_type": "markdown",
   "id": "295fee6a-1ca0-47c5-81f3-5a7e52afc426",
   "metadata": {},
   "source": [
    "## 🎊 Features \n",
    "\n",
    "* Classic reconciliation methods:\n",
    "    - `BottomUp`: Simple addition to the upper levels.\n",
    "    - `TopDown`: Distributes the top levels forecasts trough the hierarchies.\n",
    "* Alternative reconciliation methods:\n",
    "    - `MiddleOut`: It anchors the base predictions in a middle level. The levels above the base predictions use the bottom-up approach, while the levels below use a top-down.\n",
    "    - `MinTrace`: Minimizes the total forecast variance of the space of coherent forecasts, with the Minimum Trace reconciliation.\n",
    "    - `ERM`: Optimizes the reconciliation matrix minimizing an L1 regularized objective.\n",
    "* Probabilistic coherent methods:\n",
    "    - `Normality`: Uses MinTrace variance-covariance closed form matrix under a normality assumption.\n",
    "    - `Bootstrap`: Generates distribution of hierarchically reconciled predictions using Gamakumara's bootstrap approach.\n",
    "    - `PERMBU`: Reconciles independent sample predictions by reinjecting multivariate dependence with estimated rank permutation copulas, and performing a Bottom-Up aggregation.\n",
    "\n",
    "Missing something? Please open an issue here or write us in [![Slack](https://img.shields.io/badge/Slack-4A154B?&logo=slack&logoColor=white)](https://join.slack.com/t/nixtlaworkspace/shared_invite/zt-135dssye9-fWTzMpv2WBthq8NK0Yvu6A)\n"
   ]
  },
  {
   "cell_type": "markdown",
   "id": "11131f77-4f6c-4232-9780-31afe1b9a034",
   "metadata": {},
   "source": [
    "## 📖 Why? \n",
    "\n",
    "**Short**: We want to contribute to the ML field by providing reliable baselines and benchmarks for hierarchical forecasting task in industry and academia. Here's the complete [paper](https://arxiv.org/abs/2207.03517).\n",
    "\n",
    "**Verbose**: `HierarchicalForecast` integrates publicly available processed datasets, evaluation metrics, and a curated set of statistical baselines. In this library we provide usage examples and references to extensive experiments where we showcase the baseline's use and evaluate the accuracy of their predictions. With this work, we hope to contribute to Machine Learning forecasting by bridging the gap to statistical and econometric modeling, as well as providing tools for the development of novel hierarchical forecasting algorithms rooted in a thorough comparison of these well-established models. We intend to continue maintaining and increasing the repository, promoting collaboration across the forecasting community."
   ]
  },
  {
   "cell_type": "markdown",
   "id": "2e3f7a11-d151-4662-a3b7-46f945141996",
   "metadata": {},
   "source": [
    "## 💻 Installation\n",
    "\n",
    "### PyPI\n",
    "\n",
    "You can install the *released version* of `HierarchicalForecast` from the [Python package index](https://pypi.org) with:\n",
    "\n",
    "```python\n",
    "pip install hierarchicalforecast\n",
    "```\n",
    "\n",
    "(Installing inside a python virtualenvironment or a conda environment is recommended.)\n",
    "\n",
    "### Conda\n",
    "\n",
    "Also you can install the *released version* of `HierarchicalForecast` from [conda](https://anaconda.org) with:\n",
    "\n",
    "```python\n",
    "conda install -c conda-forge hierarchicalforecast\n",
    "```\n",
    "\n",
    "(Installing inside a python virtualenvironment or a conda environment is recommended.)\n",
    "\n",
    "### Dev Mode\n",
    "\n",
    "If you want to make some modifications to the code and see the effects in real time (without reinstalling), follow the steps below:\n",
    "\n",
    "```bash\n",
    "git clone https://github.com/Nixtla/hierarchicalforecast.git\n",
    "cd hierarchicalforecast\n",
    "pip install -e .\n",
    "```"
   ]
  },
  {
   "cell_type": "markdown",
   "id": "5dd31c3e-ffb6-4364-acf6-e4646fd693a9",
   "metadata": {},
   "source": [
    "## 🧬 How to use\n",
    "\n",
    "The following example needs `statsforecast` and `datasetsforecast` as additional packages. If not installed, install it via your preferred method, e.g. `pip install statsforecast datasetsforecast`.\n",
    "The `datasetsforecast` library allows us to download hierarhical datasets and we will use `statsforecast` to compute base forecasts to be reconciled.\n",
    "\n",
    "You can open this example in Colab [![Open In Colab](https://colab.research.google.com/assets/colab-badge.svg)](https://colab.research.google.com/github/nixtla/hierarchicalforecast/blob/main/nbs/examples/TourismSmall.ipynb)\n",
    "\n",
    "```python\n",
    "import numpy as np\n",
    "import pandas as pd\n",
    "\n",
    "#obtain hierarchical dataset\n",
    "from datasetsforecast.hierarchical import HierarchicalData\n",
    "\n",
    "# compute base forecast no coherent\n",
    "from statsforecast.core import StatsForecast\n",
    "from statsforecast.models import AutoARIMA, Naive\n",
    "\n",
    "#obtain hierarchical reconciliation methods and evaluation\n",
    "from hierarchicalforecast.core import HierarchicalReconciliation\n",
    "from hierarchicalforecast.evaluation import HierarchicalEvaluation\n",
    "from hierarchicalforecast.methods import BottomUp, TopDown, MiddleOut\n",
    "\n",
    "\n",
    "# Load TourismSmall dataset\n",
    "Y_df, S, tags = HierarchicalData.load('./data', 'TourismSmall')\n",
    "Y_df['ds'] = pd.to_datetime(Y_df['ds'])\n",
    "\n",
    "#split train/test sets\n",
    "Y_test_df  = Y_df.groupby('unique_id').tail(12)\n",
    "Y_train_df = Y_df.drop(Y_test_df.index)\n",
    "Y_test_df  = Y_test_df.set_index('unique_id')\n",
    "Y_train_df = Y_train_df.set_index('unique_id')\n",
    "\n",
    "# Compute base auto-ARIMA predictions\n",
    "fcst = StatsForecast(df=Y_train_df, \n",
    "                     models=[AutoARIMA(season_length=12), Naive()], \n",
    "                     freq='M', n_jobs=-1)\n",
    "Y_hat_df = fcst.forecast(h=12)\n",
    "\n",
    "# Reconcile the base predictions\n",
    "reconcilers = [\n",
    "    BottomUp(),\n",
    "    TopDown(method='forecast_proportions'),\n",
    "    MiddleOut(middle_level='Country/Purpose/State',\n",
    "              top_down_method='forecast_proportions')\n",
    "]\n",
    "hrec = HierarchicalReconciliation(reconcilers=reconcilers)\n",
    "Y_rec_df = hrec.reconcile(Y_hat_df=Y_hat_df, Y_df=Y_train_df, \n",
    "                          S=S, tags=tags)\n",
    "```"
   ]
  },
  {
   "cell_type": "markdown",
   "id": "ac517335-d4fa-4d56-9cfa-a19782280aa4",
   "metadata": {},
   "source": [
    "### Evaluation\n",
    "\n",
    "```python\n",
    "def mse(y, y_hat):\n",
    "    return np.mean((y-y_hat)**2)\n",
    "\n",
    "evaluator = HierarchicalEvaluation(evaluators=[mse])\n",
    "evaluator.evaluate(Y_h=Y_rec_df, Y_test=Y_df_test, \n",
    "                   tags=tags, benchmark='Naive')\n",
    "```"
   ]
  },
  {
   "attachments": {},
   "cell_type": "markdown",
   "id": "16dc2940-a4e0-486c-bac5-403f9084d6ac",
   "metadata": {},
   "source": [
    "##  How to cite\n",
    "\n",
    "Here's the complete [paper](https://arxiv.org/abs/2207.03517).\n",
    "\n",
    "```bibtex\n",
    "@article{olivares2022hierarchicalforecast,\n",
    "    author    = {Kin G. Olivares and\n",
    "                 Federico Garza and \n",
    "                 David Luo and \n",
    "                 Cristian Challú and\n",
    "                 Max Mergenthaler and\n",
    "                 Souhaib Ben Taieb and\n",
    "                 Shanika L. Wickramasuriya and\n",
    "                 Artur Dubrawski},\n",
    "    title     = {{HierarchicalForecast}: A Reference Framework for Hierarchical Forecasting in Python},\n",
    "    journal   = {Work in progress paper, submitted to Journal of Machine Learning Research.},\n",
    "    volume    = {abs/2207.03517},\n",
    "    year      = {2022},\n",
    "    url       = {https://arxiv.org/abs/2207.03517},\n",
    "    archivePrefix = {arXiv}\n",
    "}\n",
    "```"
   ]
  }
 ],
 "metadata": {
  "kernelspec": {
   "display_name": "python3",
   "language": "python",
   "name": "python3"
  }
 },
 "nbformat": 4,
 "nbformat_minor": 5
}
